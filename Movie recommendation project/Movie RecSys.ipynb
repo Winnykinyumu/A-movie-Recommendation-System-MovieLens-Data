{
 "cells": [
  {
   "cell_type": "markdown",
   "metadata": {},
   "source": [
    "# A MOVIE RECOMMENDATION SYSTEM USING MOVIELENS DATA\n",
    "***"
   ]
  },
  {
   "cell_type": "markdown",
   "metadata": {},
   "source": [
    "## Project Overview\n",
    "\n",
    "This project focuses on analyzing movie ratings from the MovieLens dataset to provide tailored movie recommendations. It combines collaborative filtering and content-based filtering, to identify the top 5 movies most suited to a user's interests. This dual approach enhances the recommendation accuracy by integrating both user-driven insights and movie-specific characteristics, creating a robust, personalized viewing experience."
   ]
  },
  {
   "cell_type": "markdown",
   "metadata": {},
   "source": [
    "## BUSINESS UNDERSTANDING\n",
    "***\n",
    "\n",
    "In today’s digital age, online streaming platforms such as Netflix, Showmax,HBO,provide a vast library of movies across various genres, which users can stream on devices like smartphones, tablets, smart TVs, and computers. These platforms generate vast amounts of data on user interactions, including viewing habits, preferences, and ratings. However, the challenge lies in leveraging this data to enhance user engagement by providing personalized movie recommendations that align with individual tastes. \n",
    "\n",
    "Personalization has a proven impact on engagement; for example, [75% of what people watch on Netflix](https://litslink.com/blog/all-about-netflix-artificial-intelligence-the-truth-behind-personalized-content) comes from its personalized recommendations, highlighting the importance of robust recommendation algorithms in guiding users toward their next favorite show or movie. The goal of this project is to improve user satisfaction and retention by suggesting the top 5 movies a user is likely to enjoy, utilizing a blend of collaborative and content-based filtering."
   ]
  },
  {
   "cell_type": "markdown",
   "metadata": {},
   "source": [
    "## PROBLEM STATEMENT\n",
    "***\n",
    "\n",
    "With the increasing volume of movies available on streaming platforms, users often experience choice overload, making it difficult to discover content that matches their preferences. This reduces user satisfaction and engagement, negatively impacting retention rates for content providers. The challenge is to develop a personalized recommendation system that can accurately predict and suggest movies tailored to individual users' tastes. "
   ]
  },
  {
   "cell_type": "markdown",
   "metadata": {},
   "source": [
    "## OBJECTIVES \n",
    "***\n",
    "\n",
    "The objectives of this analysis are as listed below:\n",
    "\n",
    "1. To identify the top 10 most popular genres based on user ratings.\n",
    "2. To Identify the top 10 Genres with the highest ratings\n",
    "3. To Identify the distribution of movie ratings per user\n",
    "4. To identify the trend of movies' production by decade\n",
    "5. To examine the number of ratings per movie\n",
    "6. To Identify the most popular movies\n",
    "7. To identify if there is a relationship between movie genres and ratings.\n",
    "8. To examine user-generated tags to identify popular keywords associated with movie themes.\n",
    "9. To build a recommendation system that suggests the top 5 rated movies to a user."
   ]
  },
  {
   "cell_type": "markdown",
   "metadata": {},
   "source": [
    "## SUCCESS METRICS\n",
    "***\n",
    "The success metric of this analysis is to identify the best-performing model using GridSearchCV, with the least Root Mean Squared Error (RMSE). This selected model will then serve as the foundation for building a recommendation system that prompts users to rate movies based on their preferred genres and recommends five related movies by combining collaborative and content-based filtering approaches."
   ]
  },
  {
   "cell_type": "markdown",
   "metadata": {},
   "source": [
    "## DATA UNDERSTANDING\n",
    "***\n",
    "\n",
    "The [dataset](https://grouplens.org/datasets/movielens/latest/) for the analysis is from the GroupLens research lab at the University of Minnesota. This dataset describes 5-star rating and free-text tagging activity from, a movie recommendation service. It contains 100836 ratings and 3683 tag applications across 9742 movies. These data were created by 610 users between March 29, 1996 and September 24, 2018. This dataset was generated on September 26, 2018. It entails different csv files. In this case, our analysis entailed utilizing 3 csv files namely, `movies.csv`, `ratings.csv`  and `tags.csv`.The details of each csv files are further explained below.\n",
    "\n",
    "**1. movieId** is an identifier for movies used.\n",
    "\n",
    "**2. Title** represents the different movie titles and their release year.\n",
    "\n",
    "**3. Genres** entails the different genres for the movies.\n",
    "\n",
    "**4. userId** is an identifier for each user who rated a movie.\n",
    "\n",
    "**5. Rating** represents the different user ratings for each movie. They were made on a 5-star scale, with half-star increments (0.5 stars - 5.0 stars).\n",
    "\n",
    "**6. Tags** are user-generated metadata about movies. Each tag is typically a single word or short phrase. The meaning, value, and purpose of a particular tag is determined by each user.\n",
    "\n",
    "**7. Timestamps** represent seconds since midnight Coordinated Universal Time (UTC) of January 1, 1970."
   ]
  },
  {
   "cell_type": "code",
   "execution_count": 1,
   "metadata": {},
   "outputs": [
    {
     "name": "stderr",
     "output_type": "stream",
     "text": [
      "[nltk_data] Downloading package punkt to\n",
      "[nltk_data]     C:\\Users\\Admin\\AppData\\Roaming\\nltk_data...\n",
      "[nltk_data]   Package punkt is already up-to-date!\n",
      "[nltk_data] Downloading package stopwords to\n",
      "[nltk_data]     C:\\Users\\Admin\\AppData\\Roaming\\nltk_data...\n",
      "[nltk_data]   Package stopwords is already up-to-date!\n",
      "[nltk_data] Downloading package wordnet to\n",
      "[nltk_data]     C:\\Users\\Admin\\AppData\\Roaming\\nltk_data...\n",
      "[nltk_data]   Package wordnet is already up-to-date!\n",
      "[nltk_data] Downloading package omw-1.4 to\n",
      "[nltk_data]     C:\\Users\\Admin\\AppData\\Roaming\\nltk_data...\n",
      "[nltk_data]   Package omw-1.4 is already up-to-date!\n",
      "[nltk_data] Downloading package punkt to\n",
      "[nltk_data]     C:\\Users\\Admin\\AppData\\Roaming\\nltk_data...\n",
      "[nltk_data]   Package punkt is already up-to-date!\n",
      "[nltk_data] Downloading package stopwords to\n",
      "[nltk_data]     C:\\Users\\Admin\\AppData\\Roaming\\nltk_data...\n",
      "[nltk_data]   Package stopwords is already up-to-date!\n",
      "[nltk_data] Downloading package wordnet to\n",
      "[nltk_data]     C:\\Users\\Admin\\AppData\\Roaming\\nltk_data...\n",
      "[nltk_data]   Package wordnet is already up-to-date!\n",
      "[nltk_data] Downloading package omw-1.4 to\n",
      "[nltk_data]     C:\\Users\\Admin\\AppData\\Roaming\\nltk_data...\n",
      "[nltk_data]   Package omw-1.4 is already up-to-date!\n"
     ]
    },
    {
     "data": {
      "text/plain": [
       "True"
      ]
     },
     "execution_count": 1,
     "metadata": {},
     "output_type": "execute_result"
    }
   ],
   "source": [
    "#Importing the necessary libaries\n",
    "import pandas as pd\n",
    "import numpy as np\n",
    "import matplotlib.pyplot as plt\n",
    "import seaborn as sns\n",
    "from surprise.model_selection import cross_validate,GridSearchCV\n",
    "from surprise.prediction_algorithms import KNNWithMeans, KNNBasic, KNNBaseline,SVD\n",
    "from scipy.stats import f_oneway\n",
    "import nltk\n",
    "from nltk.tokenize import word_tokenize\n",
    "from nltk.corpus import stopwords\n",
    "from nltk.stem import WordNetLemmatizer\n",
    "import re\n",
    "from surprise import SVD,Reader, Dataset\n",
    "from surprise.prediction_algorithms.knns import KNNBasic\n",
    "import warnings\n",
    "warnings.filterwarnings(\"ignore\")\n",
    "from sklearn.metrics.pairwise import cosine_similarity\n",
    "from scipy.sparse import csr_matrix\n",
    "import Functions\n",
    "# Download necessary NLTK resources\n",
    "nltk.download('punkt')\n",
    "nltk.download('stopwords')\n",
    "nltk.download('wordnet')\n",
    "nltk.download('omw-1.4')"
   ]
  },
  {
   "cell_type": "markdown",
   "metadata": {},
   "source": [
    "## LOADING DATA \n",
    "***\n",
    "\n",
    "Loading data for this section involved using functions which were created in the .py file of this project folder."
   ]
  },
  {
   "cell_type": "code",
   "execution_count": 2,
   "metadata": {},
   "outputs": [],
   "source": [
    "#loading the csv files\n",
    "from Functions import load_data\n",
    "\n",
    "#Defining the csv file paths \n",
    "movie_file_path = \"Data/movies.csv\"\n",
    "rating_file_path= \"Data/ratings.csv\"\n",
    "tags_file_path= \"Data/tags.csv\""
   ]
  },
  {
   "cell_type": "code",
   "execution_count": 3,
   "metadata": {
    "scrolled": false
   },
   "outputs": [
    {
     "name": "stdout",
     "output_type": "stream",
     "text": [
      "displaying the first 5 rows \n",
      "    movieId                               title  \\\n",
      "0        1                    Toy Story (1995)   \n",
      "1        2                      Jumanji (1995)   \n",
      "2        3             Grumpier Old Men (1995)   \n",
      "3        4            Waiting to Exhale (1995)   \n",
      "4        5  Father of the Bride Part II (1995)   \n",
      "\n",
      "                                        genres  \n",
      "0  Adventure|Animation|Children|Comedy|Fantasy  \n",
      "1                   Adventure|Children|Fantasy  \n",
      "2                               Comedy|Romance  \n",
      "3                         Comedy|Drama|Romance  \n",
      "4                                       Comedy   \n",
      "\n",
      "Shape of the dataset:  (9742, 3) \n",
      "\n",
      "Dataset info:\n",
      "\n",
      "<class 'pandas.core.frame.DataFrame'>\n",
      "RangeIndex: 9742 entries, 0 to 9741\n",
      "Data columns (total 3 columns):\n",
      " #   Column   Non-Null Count  Dtype \n",
      "---  ------   --------------  ----- \n",
      " 0   movieId  9742 non-null   int64 \n",
      " 1   title    9742 non-null   object\n",
      " 2   genres   9742 non-null   object\n",
      "dtypes: int64(1), object(2)\n",
      "memory usage: 228.5+ KB\n",
      "\n",
      "\n",
      "Statistical summary:\n",
      "              movieId\n",
      "count    9742.000000\n",
      "mean    42200.353623\n",
      "std     52160.494854\n",
      "min         1.000000\n",
      "25%      3248.250000\n",
      "50%      7300.000000\n",
      "75%     76232.000000\n",
      "max    193609.000000 \n",
      "\n",
      "percentage of nulls \n",
      " movieId    0.0\n",
      "title      0.0\n",
      "genres     0.0\n",
      "dtype: float64\n"
     ]
    }
   ],
   "source": [
    "#Importing function for loading data\n",
    "from Functions import explore_data\n",
    "\n",
    "#Loading and inspecting the movie csv file\n",
    "movie_df = pd.read_csv(movie_file_path)  \n",
    "explore_data(movie_df)"
   ]
  },
  {
   "cell_type": "markdown",
   "metadata": {},
   "source": [
    "The above function successfully loaded the movie CSV file, displaying the first 5 rows of the DataFrame, summary statistics, the column data types, the percentage of null values, and the shape of the DataFrame.\n",
    "\n",
    "From the output, the DataFrame had 0% null values, indicating that it contains 9,472 movies along with their associated genres. Additionally, the shape of the DataFrame confirms it consists of 3 columns, all of which have the correct data types."
   ]
  },
  {
   "cell_type": "code",
   "execution_count": 4,
   "metadata": {},
   "outputs": [
    {
     "name": "stdout",
     "output_type": "stream",
     "text": [
      "displaying the first 5 rows \n",
      "    userId  movieId  rating  timestamp\n",
      "0       1        1     4.0  964982703\n",
      "1       1        3     4.0  964981247\n",
      "2       1        6     4.0  964982224\n",
      "3       1       47     5.0  964983815\n",
      "4       1       50     5.0  964982931 \n",
      "\n",
      "Shape of the dataset:  (100836, 4) \n",
      "\n",
      "Dataset info:\n",
      "\n",
      "<class 'pandas.core.frame.DataFrame'>\n",
      "RangeIndex: 100836 entries, 0 to 100835\n",
      "Data columns (total 4 columns):\n",
      " #   Column     Non-Null Count   Dtype  \n",
      "---  ------     --------------   -----  \n",
      " 0   userId     100836 non-null  int64  \n",
      " 1   movieId    100836 non-null  int64  \n",
      " 2   rating     100836 non-null  float64\n",
      " 3   timestamp  100836 non-null  int64  \n",
      "dtypes: float64(1), int64(3)\n",
      "memory usage: 3.1 MB\n",
      "\n",
      "\n",
      "Statistical summary:\n",
      "               userId        movieId         rating     timestamp\n",
      "count  100836.000000  100836.000000  100836.000000  1.008360e+05\n",
      "mean      326.127564   19435.295718       3.501557  1.205946e+09\n",
      "std       182.618491   35530.987199       1.042529  2.162610e+08\n",
      "min         1.000000       1.000000       0.500000  8.281246e+08\n",
      "25%       177.000000    1199.000000       3.000000  1.019124e+09\n",
      "50%       325.000000    2991.000000       3.500000  1.186087e+09\n",
      "75%       477.000000    8122.000000       4.000000  1.435994e+09\n",
      "max       610.000000  193609.000000       5.000000  1.537799e+09 \n",
      "\n",
      "percentage of nulls \n",
      " userId       0.0\n",
      "movieId      0.0\n",
      "rating       0.0\n",
      "timestamp    0.0\n",
      "dtype: float64\n"
     ]
    }
   ],
   "source": [
    "#Loading and inspecting the movie ratings csv file\n",
    "rating_df = pd.read_csv(rating_file_path)  \n",
    "explore_data(rating_df)"
   ]
  },
  {
   "cell_type": "markdown",
   "metadata": {},
   "source": [
    "The function successfully loaded the rating CSV file, which includes various movies and their ratings. It also displayed the first 5 rows of the DataFrame, summary statistics, column data types, the percentage of null values, and the shape of the DataFrame.\n",
    "\n",
    "From the output, the DataFrame has 0% null values, and also contains 100,836 movie ratings. The shape of the DataFrame confirms it consists of 4 columns, all of which have the correct data types. According to the summary statistics, the minimum rating is 0.5, the maximum rating is 5, and the average rating is 3.5."
   ]
  },
  {
   "cell_type": "code",
   "execution_count": 5,
   "metadata": {},
   "outputs": [
    {
     "name": "stdout",
     "output_type": "stream",
     "text": [
      "displaying the first 5 rows \n",
      "    userId  movieId              tag   timestamp\n",
      "0       2    60756            funny  1445714994\n",
      "1       2    60756  Highly quotable  1445714996\n",
      "2       2    60756     will ferrell  1445714992\n",
      "3       2    89774     Boxing story  1445715207\n",
      "4       2    89774              MMA  1445715200 "
     ]
    },
    {
     "name": "stdout",
     "output_type": "stream",
     "text": [
      "\n",
      "\n",
      "Shape of the dataset:  (3683, 4) \n",
      "\n",
      "Dataset info:\n",
      "\n",
      "<class 'pandas.core.frame.DataFrame'>\n",
      "RangeIndex: 3683 entries, 0 to 3682\n",
      "Data columns (total 4 columns):\n",
      " #   Column     Non-Null Count  Dtype \n",
      "---  ------     --------------  ----- \n",
      " 0   userId     3683 non-null   int64 \n",
      " 1   movieId    3683 non-null   int64 \n",
      " 2   tag        3683 non-null   object\n",
      " 3   timestamp  3683 non-null   int64 \n",
      "dtypes: int64(3), object(1)\n",
      "memory usage: 115.2+ KB\n",
      "\n",
      "\n",
      "Statistical summary:\n",
      "             userId        movieId     timestamp\n",
      "count  3683.000000    3683.000000  3.683000e+03\n",
      "mean    431.149335   27252.013576  1.320032e+09\n",
      "std     158.472553   43490.558803  1.721025e+08\n",
      "min       2.000000       1.000000  1.137179e+09\n",
      "25%     424.000000    1262.500000  1.137521e+09\n",
      "50%     474.000000    4454.000000  1.269833e+09\n",
      "75%     477.000000   39263.000000  1.498457e+09\n",
      "max     610.000000  193565.000000  1.537099e+09 \n",
      "\n",
      "percentage of nulls \n",
      " userId       0.0\n",
      "movieId      0.0\n",
      "tag          0.0\n",
      "timestamp    0.0\n",
      "dtype: float64\n"
     ]
    }
   ],
   "source": [
    "#Loading and inspecting movie tags csv\n",
    "tags_df = pd.read_csv(tags_file_path)  \n",
    "explore_data(tags_df)"
   ]
  },
  {
   "cell_type": "markdown",
   "metadata": {},
   "source": [
    "The function successfully loaded the tags CSV file, which entailed the different tags that users provided as themes associated to the movies they watched. It also displayed the first 5 rows of the DataFrame, summary statistics, column data types, the percentage of null values, and the shape of the DataFrame.\n",
    "\n",
    "From the output, the DataFrame has 0% null values, and also contains 3683 movie tags. Additionally, the shape of the DataFrame confirms it consists of 3 columns, all of which have the correct data types."
   ]
  },
  {
   "cell_type": "markdown",
   "metadata": {},
   "source": [
    "## DATA CLEANING\n",
    "***\n",
    "\n",
    "This section will involve checking the following about the dataset.\n",
    "- Accuracy\n",
    "- Validity\n",
    "- Completeness\n",
    "- Uniformity"
   ]
  },
  {
   "cell_type": "markdown",
   "metadata": {},
   "source": [
    "**1. Accuracy**\n",
    "\n",
    "This ensures the data is correct and free from errors or inconsistencies."
   ]
  },
  {
   "cell_type": "markdown",
   "metadata": {},
   "source": [
    "**Checking for duplicates**"
   ]
  },
  {
   "cell_type": "code",
   "execution_count": 6,
   "metadata": {},
   "outputs": [
    {
     "name": "stdout",
     "output_type": "stream",
     "text": [
      "Number of duplicate rows: 0\n",
      "No duplicates found.\n",
      "Number of duplicate rows: 0\n",
      "No duplicates found.\n",
      "Number of duplicate rows: 0\n",
      "No duplicates found.\n"
     ]
    }
   ],
   "source": [
    "#Check for duplicates\n",
    "from Functions import check_and_remove_duplicates\n",
    "# Checking and removing duplicates in movies dataset\n",
    "movie_df = check_and_remove_duplicates(movie_df)\n",
    "\n",
    "# Checking and removing duplicates in ratings dataset\n",
    "rating_df = check_and_remove_duplicates(rating_df)\n",
    "\n",
    "# Checking and removing duplicates in tags dataset\n",
    "tags_df = check_and_remove_duplicates(tags_df)\n"
   ]
  },
  {
   "cell_type": "markdown",
   "metadata": {},
   "source": [
    "**Interpretation**\n",
    "\n",
    "After running the check on all three datasets (movies, ratings, and tags), it's clear that no duplicate rows were found in any of the datasets. Therefore, the data is clean in this regard and requires no further action to remove duplicates, ensuring the integrity of the subsequent analysis."
   ]
  },
  {
   "cell_type": "markdown",
   "metadata": {},
   "source": [
    "**Checking for outliers**"
   ]
  },
  {
   "cell_type": "code",
   "execution_count": 7,
   "metadata": {},
   "outputs": [
    {
     "data": {
      "image/png": "[encoded data removed]",
      "text/plain": [
       "<Figure size 576x432 with 1 Axes>"
      ]
     },
     "metadata": {
      "needs_background": "light"
     },
     "output_type": "display_data"
    }
   ],
   "source": [
    "#Checking for outliers in the 'rating' column of the ratings dataset\n",
    "from Functions import visualize_outliers_with_boxplot\n",
    "visualize_outliers_with_boxplot(rating_df, 'rating')"
   ]
  },
  {
   "cell_type": "markdown",
   "metadata": {},
   "source": [
    "**Interpretation**\n",
    "\n",
    "The boxplot of the rating column shows that most ratings fall between 3.0 and 4.5, indicating a general preference for higher-rated movies, with a few low outliers reflecting strong dislikes.These outliers are retained because they provide meaningful insights into user behavior, particularly reflecting strong negative opinions about certain movies. Low ratings are critical for understanding user dislikes, which is essential for preventing the recommendation system from suggesting unsuitable movies. By maintaining these outliers, the recommendation system can better capture the diversity of user sentiments, leading to more robust and personalized recommendations that accurately represent the full spectrum of user preferences.\n"
   ]
  },
  {
   "cell_type": "markdown",
   "metadata": {},
   "source": [
    "**2. Validity**\n",
    "\n",
    "This confirms the data adheres to predefined rules or constraints."
   ]
  },
  {
   "cell_type": "code",
   "execution_count": 8,
   "metadata": {},
   "outputs": [
    {
     "data": {
      "text/plain": [
       "0         1970-01-01\n",
       "1         1970-01-01\n",
       "2         1970-01-01\n",
       "3         1970-01-01\n",
       "4         1970-01-01\n",
       "             ...    \n",
       "100831    1970-01-01\n",
       "100832    1970-01-01\n",
       "100833    1970-01-01\n",
       "100834    1970-01-01\n",
       "100835    1970-01-01\n",
       "Name: timestamp, Length: 100836, dtype: object"
      ]
     },
     "execution_count": 8,
     "metadata": {},
     "output_type": "execute_result"
    }
   ],
   "source": [
    "#Check for consistency in datatypes\n",
    "#Converting Timestamp into DATE format\n",
    "\n",
    "#Converting the timestamp into date format\n",
    "rating_df['timestamp'] = pd.to_datetime(rating_df['timestamp'])\n",
    "tags_df['timestamp']= pd.to_datetime(tags_df['timestamp'])  \n",
    "\n",
    "\n",
    "#Extracting the date\n",
    "\n",
    "rating_df['timestamp'] = rating_df['timestamp'].dt.date\n",
    "tags_df['timestamp']=tags_df['timestamp'].dt.date\n",
    "tags_df['timestamp']\n",
    "rating_df['timestamp']"
   ]
  },
  {
   "cell_type": "code",
   "execution_count": null,
   "metadata": {},
   "outputs": [
    {
     "data": {
      "text/plain": [
       "1970-01-01    100836\n",
       "Name: timestamp, dtype: int64"
      ]
     },
     "execution_count": 9,
     "metadata": {},
     "output_type": "execute_result"
    }
   ],
   "source": [
    "#Checking for unique values in the date column for the rating csv\n",
    "rating_df['timestamp'].value_counts()"
   ]
  },
  {
   "cell_type": "code",
   "execution_count": null,
   "metadata": {},
   "outputs": [
    {
     "data": {
      "text/plain": [
       "1970-01-01    3683\n",
       "Name: timestamp, dtype: int64"
      ]
     },
     "execution_count": 10,
     "metadata": {},
     "output_type": "execute_result"
    }
   ],
   "source": [
    "#Checking for unique values in the date column for the tags csv\n",
    "tags_df['timestamp'].value_counts()"
   ]
  },
  {
   "cell_type": "markdown",
   "metadata": {},
   "source": [
    "Since the timestamp column only indicates the time when users rated a movie and all values fall within the same year (1970), it does not add valuable information to our analysis. Therefore, we will drop it from the dataset to streamline our data and focus on more relevant features."
   ]
  },
  {
   "cell_type": "code",
   "execution_count": 11,
   "metadata": {},
   "outputs": [],
   "source": [
    "#Drop irrelevant columns\n",
    "#Dropping the timestamp column\n",
    "rating_df=rating_df.drop('timestamp',axis=1)\n",
    "tags_df=tags_df.drop('timestamp',axis=1)"
   ]
  },
  {
   "cell_type": "code",
   "execution_count": 12,
   "metadata": {},
   "outputs": [
    {
     "data": {
      "text/plain": [
       "Index(['userId', 'movieId', 'rating'], dtype='object')"
      ]
     },
     "execution_count": 12,
     "metadata": {},
     "output_type": "execute_result"
    }
   ],
   "source": [
    "#Confirm the column names after dropping timestamp\n",
    "rating_df.columns"
   ]
  },
  {
   "cell_type": "code",
   "execution_count": 13,
   "metadata": {},
   "outputs": [
    {
     "data": {
      "text/plain": [
       "Index(['userId', 'movieId', 'tag'], dtype='object')"
      ]
     },
     "execution_count": 13,
     "metadata": {},
     "output_type": "execute_result"
    }
   ],
   "source": [
    "#Confirm the column names after dropping the timestamp column\n",
    "tags_df.columns"
   ]
  },
  {
   "cell_type": "code",
   "execution_count": 14,
   "metadata": {},
   "outputs": [
    {
     "data": {
      "text/plain": [
       "' The column names are consistent in naming for all files. They are also all in lower case.'"
      ]
     },
     "execution_count": 14,
     "metadata": {},
     "output_type": "execute_result"
    }
   ],
   "source": [
    "#Checking for column names\n",
    "\"\"\" The column names are consistent in naming for all files. They are also all in lower case.\"\"\""
   ]
  },
  {
   "cell_type": "markdown",
   "metadata": {},
   "source": [
    "**3. Completeness**\n",
    "\n",
    "This section checks whether all required data is present and no critical information is missing."
   ]
  },
  {
   "cell_type": "code",
   "execution_count": 15,
   "metadata": {},
   "outputs": [
    {
     "data": {
      "text/plain": [
       "'\\nThe data was confirmed to have no missing values by calculating the percentage of missing values in each CSV file,\\nall of which showed 0%. As a result, no imputation was required.\\n'"
      ]
     },
     "execution_count": 15,
     "metadata": {},
     "output_type": "execute_result"
    }
   ],
   "source": [
    "#Impute missing values\n",
    "\"\"\"\n",
    "The data was confirmed to have no missing values by calculating the percentage of missing values in each CSV file,\n",
    "all of which showed 0%. As a result, no imputation was required.\n",
    "\"\"\""
   ]
  },
  {
   "cell_type": "markdown",
   "metadata": {},
   "source": [
    "**4. Consistency/Uniformity**\n",
    "\n",
    "Ensures that data is consistently formatted and standardized across the dataset."
   ]
  },
  {
   "cell_type": "code",
   "execution_count": 16,
   "metadata": {},
   "outputs": [
    {
     "data": {
      "text/plain": [
       "'\\nAll the columns displayed consistency in their naming, were all in lower case and had the correct datatypes.\\n'"
      ]
     },
     "execution_count": 16,
     "metadata": {},
     "output_type": "execute_result"
    }
   ],
   "source": [
    "#Column names capitalization\n",
    "\"\"\"\n",
    "All the columns displayed consistency in their naming, were all in lower case and had the correct datatypes.\n",
    "\"\"\""
   ]
  },
  {
   "cell_type": "code",
   "execution_count": 17,
   "metadata": {},
   "outputs": [
    {
     "data": {
      "text/plain": [
       "'\\nAll the movie ratings were in the same range, ranging from 0.5 to 5 star rating, with no missing value as well.\\n'"
      ]
     },
     "execution_count": 17,
     "metadata": {},
     "output_type": "execute_result"
    }
   ],
   "source": [
    "#Checking if ratings lie within the same range\n",
    "\"\"\"\n",
    "All the movie ratings were in the same range, ranging from 0.5 to 5 star rating, with no missing value as well.\n",
    "\"\"\""
   ]
  },
  {
   "cell_type": "code",
   "execution_count": 18,
   "metadata": {},
   "outputs": [
    {
     "data": {
      "text/plain": [
       "0       1995\n",
       "1       1995\n",
       "2       1995\n",
       "3       1995\n",
       "4       1995\n",
       "        ... \n",
       "9737    2017\n",
       "9738    2017\n",
       "9739    2017\n",
       "9740    2018\n",
       "9741    1991\n",
       "Name: Release_year, Length: 9742, dtype: int64"
      ]
     },
     "execution_count": 18,
     "metadata": {},
     "output_type": "execute_result"
    }
   ],
   "source": [
    "# Splitting the movie titles from the years\n",
    "movie_df[\"Release_year\"] = movie_df[\"title\"].apply( lambda x: x[-5:-1] if x[-5:-1].isdigit() else \"0000\")\n",
    "movie_df[\"Release_year\"] = movie_df[\"Release_year\"].astype(\"int64\")\n",
    "movie_df[\"Release_year\"]"
   ]
  },
  {
   "cell_type": "code",
   "execution_count": 19,
   "metadata": {},
   "outputs": [
    {
     "data": {
      "text/plain": [
       "array(['Adventure|Animation|Children|Comedy|Fantasy',\n",
       "       'Adventure|Children|Fantasy', 'Comedy|Romance',\n",
       "       'Comedy|Drama|Romance', 'Comedy', 'Action|Crime|Thriller',\n",
       "       'Adventure|Children', 'Action', 'Action|Adventure|Thriller',\n",
       "       'Comedy|Horror', 'Adventure|Animation|Children', 'Drama',\n",
       "       'Action|Adventure|Romance', 'Crime|Drama', 'Drama|Romance',\n",
       "       'Action|Comedy|Crime|Drama|Thriller', 'Comedy|Crime|Thriller',\n",
       "       'Crime|Drama|Horror|Mystery|Thriller', 'Drama|Sci-Fi',\n",
       "       'Children|Drama', 'Adventure|Drama|Fantasy|Mystery|Sci-Fi',\n",
       "       'Mystery|Sci-Fi|Thriller', 'Children|Comedy', 'Drama|War',\n",
       "       'Action|Crime|Drama', 'Action|Adventure|Fantasy',\n",
       "       'Comedy|Drama|Thriller', 'Mystery|Thriller',\n",
       "       'Animation|Children|Drama|Musical|Romance',\n",
       "       'Crime|Mystery|Thriller', 'Adventure|Drama', 'Drama|Thriller',\n",
       "       'Comedy|Crime', 'Action|Sci-Fi|Thriller',\n",
       "       'Action|Comedy|Horror|Thriller', 'Comedy|Drama', 'Documentary',\n",
       "       'Action|Crime|Drama|Thriller', 'Crime|Drama|Romance',\n",
       "       'Action|Adventure|Drama'], dtype=object)"
      ]
     },
     "execution_count": 19,
     "metadata": {},
     "output_type": "execute_result"
    }
   ],
   "source": [
    "#Checking for unique genres\n",
    "movie_df[\"genres\"].unique()[:40]"
   ]
  },
  {
   "cell_type": "markdown",
   "metadata": {},
   "source": [
    "Most movies seem to be a **combination of multiple genres** hence why there are so so many unique combinations.\n",
    "\n",
    "Let's seperate these combinations into individual genres and get more granular data"
   ]
  },
  {
   "cell_type": "code",
   "execution_count": 20,
   "metadata": {},
   "outputs": [
    {
     "data": {
      "text/html": [
       "<div>\n",
       "<style scoped>\n",
       "    .dataframe tbody tr th:only-of-type {\n",
       "        vertical-align: middle;\n",
       "    }\n",
       "\n",
       "    .dataframe tbody tr th {\n",
       "        vertical-align: top;\n",
       "    }\n",
       "\n",
       "    .dataframe thead th {\n",
       "        text-align: right;\n",
       "    }\n",
       "</style>\n",
       "<table border=\"1\" class=\"dataframe\">\n",
       "  <thead>\n",
       "    <tr style=\"text-align: right;\">\n",
       "      <th></th>\n",
       "      <th>movieId</th>\n",
       "      <th>title</th>\n",
       "      <th>genres</th>\n",
       "      <th>Release_year</th>\n",
       "    </tr>\n",
       "  </thead>\n",
       "  <tbody>\n",
       "    <tr>\n",
       "      <th>0</th>\n",
       "      <td>1</td>\n",
       "      <td>Toy Story (1995)</td>\n",
       "      <td>Adventure</td>\n",
       "      <td>1995</td>\n",
       "    </tr>\n",
       "    <tr>\n",
       "      <th>1</th>\n",
       "      <td>1</td>\n",
       "      <td>Toy Story (1995)</td>\n",
       "      <td>Animation</td>\n",
       "      <td>1995</td>\n",
       "    </tr>\n",
       "    <tr>\n",
       "      <th>2</th>\n",
       "      <td>1</td>\n",
       "      <td>Toy Story (1995)</td>\n",
       "      <td>Children</td>\n",
       "      <td>1995</td>\n",
       "    </tr>\n",
       "    <tr>\n",
       "      <th>3</th>\n",
       "      <td>1</td>\n",
       "      <td>Toy Story (1995)</td>\n",
       "      <td>Comedy</td>\n",
       "      <td>1995</td>\n",
       "    </tr>\n",
       "    <tr>\n",
       "      <th>4</th>\n",
       "      <td>1</td>\n",
       "      <td>Toy Story (1995)</td>\n",
       "      <td>Fantasy</td>\n",
       "      <td>1995</td>\n",
       "    </tr>\n",
       "  </tbody>\n",
       "</table>\n",
       "</div>"
      ],
      "text/plain": [
       "   movieId             title     genres  Release_year\n",
       "0        1  Toy Story (1995)  Adventure          1995\n",
       "1        1  Toy Story (1995)  Animation          1995\n",
       "2        1  Toy Story (1995)   Children          1995\n",
       "3        1  Toy Story (1995)     Comedy          1995\n",
       "4        1  Toy Story (1995)    Fantasy          1995"
      ]
     },
     "execution_count": 20,
     "metadata": {},
     "output_type": "execute_result"
    }
   ],
   "source": [
    "# seperate the combinations into individual genres by removing the \",\" seperators\n",
    "movie_df['genres'] = movie_df['genres'].str.split('|')\n",
    "\n",
    "# create a new Exploded dataframe with the list of genres into individual rows\n",
    "movie_df= movie_df.explode('genres').reset_index(drop=True)\n",
    "\n",
    "\n",
    "movie_df.head()"
   ]
  },
  {
   "cell_type": "markdown",
   "metadata": {},
   "source": [
    "The genres column is now made up of lists of individual genres."
   ]
  },
  {
   "cell_type": "markdown",
   "metadata": {},
   "source": [
    "**Merging the movie_df with rating_df** "
   ]
  },
  {
   "cell_type": "code",
   "execution_count": 21,
   "metadata": {},
   "outputs": [
    {
     "data": {
      "text/html": [
       "<div>\n",
       "<style scoped>\n",
       "    .dataframe tbody tr th:only-of-type {\n",
       "        vertical-align: middle;\n",
       "    }\n",
       "\n",
       "    .dataframe tbody tr th {\n",
       "        vertical-align: top;\n",
       "    }\n",
       "\n",
       "    .dataframe thead th {\n",
       "        text-align: right;\n",
       "    }\n",
       "</style>\n",
       "<table border=\"1\" class=\"dataframe\">\n",
       "  <thead>\n",
       "    <tr style=\"text-align: right;\">\n",
       "      <th></th>\n",
       "      <th>userId</th>\n",
       "      <th>movieId</th>\n",
       "      <th>rating</th>\n",
       "      <th>title</th>\n",
       "      <th>genres</th>\n",
       "      <th>Release_year</th>\n",
       "    </tr>\n",
       "  </thead>\n",
       "  <tbody>\n",
       "    <tr>\n",
       "      <th>0</th>\n",
       "      <td>1</td>\n",
       "      <td>1</td>\n",
       "      <td>4.0</td>\n",
       "      <td>Toy Story (1995)</td>\n",
       "      <td>Adventure</td>\n",
       "      <td>1995</td>\n",
       "    </tr>\n",
       "    <tr>\n",
       "      <th>1</th>\n",
       "      <td>1</td>\n",
       "      <td>1</td>\n",
       "      <td>4.0</td>\n",
       "      <td>Toy Story (1995)</td>\n",
       "      <td>Animation</td>\n",
       "      <td>1995</td>\n",
       "    </tr>\n",
       "    <tr>\n",
       "      <th>2</th>\n",
       "      <td>1</td>\n",
       "      <td>1</td>\n",
       "      <td>4.0</td>\n",
       "      <td>Toy Story (1995)</td>\n",
       "      <td>Children</td>\n",
       "      <td>1995</td>\n",
       "    </tr>\n",
       "    <tr>\n",
       "      <th>3</th>\n",
       "      <td>1</td>\n",
       "      <td>1</td>\n",
       "      <td>4.0</td>\n",
       "      <td>Toy Story (1995)</td>\n",
       "      <td>Comedy</td>\n",
       "      <td>1995</td>\n",
       "    </tr>\n",
       "    <tr>\n",
       "      <th>4</th>\n",
       "      <td>1</td>\n",
       "      <td>1</td>\n",
       "      <td>4.0</td>\n",
       "      <td>Toy Story (1995)</td>\n",
       "      <td>Fantasy</td>\n",
       "      <td>1995</td>\n",
       "    </tr>\n",
       "    <tr>\n",
       "      <th>...</th>\n",
       "      <td>...</td>\n",
       "      <td>...</td>\n",
       "      <td>...</td>\n",
       "      <td>...</td>\n",
       "      <td>...</td>\n",
       "      <td>...</td>\n",
       "    </tr>\n",
       "    <tr>\n",
       "      <th>274475</th>\n",
       "      <td>610</td>\n",
       "      <td>160836</td>\n",
       "      <td>3.0</td>\n",
       "      <td>Hazard (2005)</td>\n",
       "      <td>Drama</td>\n",
       "      <td>2005</td>\n",
       "    </tr>\n",
       "    <tr>\n",
       "      <th>274476</th>\n",
       "      <td>610</td>\n",
       "      <td>160836</td>\n",
       "      <td>3.0</td>\n",
       "      <td>Hazard (2005)</td>\n",
       "      <td>Thriller</td>\n",
       "      <td>2005</td>\n",
       "    </tr>\n",
       "    <tr>\n",
       "      <th>274477</th>\n",
       "      <td>610</td>\n",
       "      <td>163937</td>\n",
       "      <td>3.5</td>\n",
       "      <td>Blair Witch (2016)</td>\n",
       "      <td>Horror</td>\n",
       "      <td>2016</td>\n",
       "    </tr>\n",
       "    <tr>\n",
       "      <th>274478</th>\n",
       "      <td>610</td>\n",
       "      <td>163937</td>\n",
       "      <td>3.5</td>\n",
       "      <td>Blair Witch (2016)</td>\n",
       "      <td>Thriller</td>\n",
       "      <td>2016</td>\n",
       "    </tr>\n",
       "    <tr>\n",
       "      <th>274479</th>\n",
       "      <td>610</td>\n",
       "      <td>163981</td>\n",
       "      <td>3.5</td>\n",
       "      <td>31 (2016)</td>\n",
       "      <td>Horror</td>\n",
       "      <td>2016</td>\n",
       "    </tr>\n",
       "  </tbody>\n",
       "</table>\n",
       "<p>274480 rows × 6 columns</p>\n",
       "</div>"
      ],
      "text/plain": [
       "        userId  movieId  rating               title     genres  Release_year\n",
       "0            1        1     4.0    Toy Story (1995)  Adventure          1995\n",
       "1            1        1     4.0    Toy Story (1995)  Animation          1995\n",
       "2            1        1     4.0    Toy Story (1995)   Children          1995\n",
       "3            1        1     4.0    Toy Story (1995)     Comedy          1995\n",
       "4            1        1     4.0    Toy Story (1995)    Fantasy          1995\n",
       "...        ...      ...     ...                 ...        ...           ...\n",
       "274475     610   160836     3.0       Hazard (2005)      Drama          2005\n",
       "274476     610   160836     3.0       Hazard (2005)   Thriller          2005\n",
       "274477     610   163937     3.5  Blair Witch (2016)     Horror          2016\n",
       "274478     610   163937     3.5  Blair Witch (2016)   Thriller          2016\n",
       "274479     610   163981     3.5           31 (2016)     Horror          2016\n",
       "\n",
       "[274480 rows x 6 columns]"
      ]
     },
     "execution_count": 21,
     "metadata": {},
     "output_type": "execute_result"
    }
   ],
   "source": [
    "#Merging the movie_df with rating_df to identify different ratings per genre\n",
    "merged_df=pd.merge(rating_df,movie_df, on='movieId')\n",
    "merged_df"
   ]
  },
  {
   "cell_type": "code",
   "execution_count": 22,
   "metadata": {},
   "outputs": [
    {
     "name": "stdout",
     "output_type": "stream",
     "text": [
      "displaying the first 5 rows \n",
      "    userId  movieId  rating             title     genres  Release_year\n",
      "0       1        1     4.0  Toy Story (1995)  Adventure          1995\n",
      "1       1        1     4.0  Toy Story (1995)  Animation          1995\n",
      "2       1        1     4.0  Toy Story (1995)   Children          1995\n",
      "3       1        1     4.0  Toy Story (1995)     Comedy          1995\n",
      "4       1        1     4.0  Toy Story (1995)    Fantasy          1995 \n",
      "\n",
      "Shape of the dataset:  (274480, 6) \n",
      "\n",
      "Dataset info:\n",
      "\n",
      "<class 'pandas.core.frame.DataFrame'>\n",
      "Int64Index: 274480 entries, 0 to 274479\n",
      "Data columns (total 6 columns):\n",
      " #   Column        Non-Null Count   Dtype  \n",
      "---  ------        --------------   -----  \n",
      " 0   userId        274480 non-null  int64  \n",
      " 1   movieId       274480 non-null  int64  \n",
      " 2   rating        274480 non-null  float64\n",
      " 3   title         274480 non-null  object \n",
      " 4   genres        274480 non-null  object \n",
      " 5   Release_year  274480 non-null  int64  \n",
      "dtypes: float64(1), int64(3), object(2)\n",
      "memory usage: 14.7+ MB\n",
      "\n",
      "\n",
      "Statistical summary:\n",
      "               userId        movieId         rating   Release_year\n",
      "count  274480.000000  274480.000000  274480.000000  274480.000000\n",
      "mean      324.707607   20302.543398       3.517797    1994.467295\n",
      "std       182.550241   35369.990843       1.034705      34.297612\n",
      "min         1.000000       1.000000       0.500000       0.000000\n",
      "25%       177.000000    1198.000000       3.000000    1991.000000\n",
      "50%       323.000000    3037.000000       3.500000    1997.000000\n",
      "75%       477.000000    8961.000000       4.000000    2004.000000\n",
      "max       610.000000  193609.000000       5.000000    2018.000000 \n",
      "\n",
      "percentage of nulls \n",
      " userId          0.0\n",
      "movieId         0.0\n",
      "rating          0.0\n",
      "title           0.0\n",
      "genres          0.0\n",
      "Release_year    0.0\n",
      "dtype: float64\n"
     ]
    }
   ],
   "source": [
    "#Importing the loading function to inspect the details of the merged dataset\n",
    "explore_data(merged_df)"
   ]
  },
  {
   "cell_type": "markdown",
   "metadata": {},
   "source": [
    "The function successfully loaded the merged CSV files, which included the movie_df and the rating_df. It displayed the first 5 rows of the merged DataFrame, summary statistics, column data types, the percentage of null values, and the shape of the DataFrame.\n",
    "\n",
    "From the output, the DataFrame has 0% null values, and also contains 274480 movie ratings. The shape of the DataFrame confirms it consists of 7 columns, all of which have the correct data types. According to the summary statistics, the minimum rating is 0.5, the maximum rating is 5, and the average rating is 3.5. The merged_df further captures the release year for each movie."
   ]
  },
  {
   "cell_type": "markdown",
   "metadata": {},
   "source": [
    "**Checking for the Distribution of the data**"
   ]
  },
  {
   "cell_type": "code",
   "execution_count": 23,
   "metadata": {},
   "outputs": [
    {
     "data": {
      "image/png": "[encoded data removed]",
      "text/plain": [
       "<Figure size 720x720 with 3 Axes>"
      ]
     },
     "metadata": {
      "needs_background": "light"
     },
     "output_type": "display_data"
    }
   ],
   "source": [
    "#Selecting the numerical columns from the merged df\n",
    "numerical_cols_df = merged_df[[\"rating\", \"movieId\", \"userId\"]]\n",
    "\n",
    "# Creating  subplots\n",
    "fig, axes = plt.subplots(3, figsize=(10,10))\n",
    "\n",
    "# Flatten axes array for easy iteration\n",
    "axes = axes.flatten()\n",
    "\n",
    "# Looping through each column and plotting in the respective subplot\n",
    "for i, col in enumerate(numerical_cols_df):\n",
    "    sns.histplot(x=rating_df[col], ax=axes[i], kde=True)  \n",
    "    axes[i].set_title(f'Distribution of {col}')  \n",
    "\n",
    "# Adjust layout for better spacing\n",
    "plt.tight_layout()\n",
    "\n",
    "# Show the plots\n",
    "plt.show()"
   ]
  },
  {
   "cell_type": "markdown",
   "metadata": {},
   "source": [
    "**Interpretation**\n",
    "\n",
    "The analysis reveals that movie ratings are generally skewed towards higher values, with most users giving positive feedback. Although there are a few instances of very low ratings, these are exceptions rather than the norm. \n",
    "\n",
    "Regarding movie IDs, the distribution shows a heavy right-skew, indicating that while many movies receive few ratings, a smaller set of movies attracts a large number of ratings. \n",
    "\n",
    "Lastly, the distribution of user IDs is relatively uniform, suggesting that a moderate number of users contribute a similar amount of ratings, although some users may rate more frequently than others.\n",
    "\n",
    "To address the skewness in the data, we will apply MinMax scaling during the modeling phase.Since we decided to retain the outliers in our analysis, MinMax scaling will normalize the data to a fixed range while preserving the relative relationships between the features, including the outliers."
   ]
  },
  {
   "cell_type": "markdown",
   "metadata": {},
   "source": [
    "## EXPLORATORY DATA ANALYSIS\n",
    "***"
   ]
  },
  {
   "cell_type": "markdown",
   "metadata": {},
   "source": [
    "**1. To identify the top 10 most popular genres based on the number of user ratings.**\n"
   ]
  },
  {
   "cell_type": "code",
   "execution_count": 24,
   "metadata": {},
   "outputs": [
    {
     "name": "stdout",
     "output_type": "stream",
     "text": [
      "       genres  Rating_Count\n",
      "8       Drama         41928\n",
      "5      Comedy         39053\n",
      "1      Action         30635\n",
      "17   Thriller         26452\n",
      "2   Adventure         24161\n",
      "15    Romance         18124\n",
      "16     Sci-Fi         17243\n",
      "6       Crime         16681\n",
      "9     Fantasy         11834\n",
      "4    Children          9208\n"
     ]
    }
   ],
   "source": [
    "# Group by genres and calculate the total number of ratings\n",
    "genre_ratings = merged_df.groupby('genres').agg(\n",
    "    Rating_Count=('rating', 'count')\n",
    ").reset_index()\n",
    "\n",
    "# Sort genres by the number of ratings and select the top 10\n",
    "top_genres = genre_ratings.sort_values(by='Rating_Count', ascending=False).head(10)\n",
    "\n",
    "# Display the top 10 genres\n",
    "print(top_genres)"
   ]
  },
  {
   "cell_type": "code",
   "execution_count": 25,
   "metadata": {},
   "outputs": [
    {
     "data": {
      "image/png": "[encoded data removed]",
      "text/plain": [
       "<Figure size 720x432 with 1 Axes>"
      ]
     },
     "metadata": {
      "needs_background": "light"
     },
     "output_type": "display_data"
    }
   ],
   "source": [
    "# Plotting the top 10 genres\n",
    "plt.figure(figsize=(10, 6))\n",
    "sns.barplot(x='Rating_Count', y='genres', data=top_genres, palette='viridis')\n",
    "plt.title('Top 10 Most Popular Genres Based on User Ratings')\n",
    "plt.xlabel('Number of Ratings')\n",
    "plt.ylabel('Genres')\n",
    "plt.show();"
   ]
  },
  {
   "cell_type": "markdown",
   "metadata": {},
   "source": [
    "**Interpretation**\n",
    "\n",
    "The graph displays the top 10 most-rated genres, with Drama having the highest number of user ratings, followed by Comedy and Action. This sheds light on the kind of genres which were highly watched by different users."
   ]
  },
  {
   "cell_type": "markdown",
   "metadata": {},
   "source": [
    "**2. To Identify the top 10 Genres with the highest ratings**"
   ]
  },
  {
   "cell_type": "code",
   "execution_count": 26,
   "metadata": {
    "scrolled": false
   },
   "outputs": [
    {
     "data": {
      "image/png": "[encoded data removed]",
      "text/plain": [
       "<Figure size 720x432 with 1 Axes>"
      ]
     },
     "metadata": {
      "needs_background": "light"
     },
     "output_type": "display_data"
    }
   ],
   "source": [
    "# Group by genre and calculate the average rating for each genre\n",
    "top_10_genres_avg_rating =merged_df.groupby('genres')['rating'].mean().sort_values(ascending=False)\n",
    "\n",
    "# Select the top 10 genres\n",
    "top_10_genres = top_10_genres_avg_rating.head(10)\n",
    "\n",
    "# Plotting the top 10 genres by average rating\n",
    "plt.figure(figsize=(10,6))\n",
    "top_10_genres.plot(kind='bar', color='skyblue')\n",
    "\n",
    "# Adding title and labels\n",
    "plt.title('Top 10 Genres by Average Rating', fontsize=16)\n",
    "plt.xlabel('Genre', fontsize=14)\n",
    "plt.ylabel('Average Rating', fontsize=14)\n",
    "plt.xticks(rotation=45, ha='right')\n",
    "plt.tight_layout()\n",
    "\n",
    "# Show the plot\n",
    "plt.show()"
   ]
  },
  {
   "cell_type": "markdown",
   "metadata": {},
   "source": [
    "**Interpretation**\n",
    "\n",
    "The graph presents the genres which were highly rated, with Film-Noir presenting to have the highest rating, followed by war then documentary."
   ]
  },
  {
   "cell_type": "markdown",
   "metadata": {},
   "source": [
    "**3. To Identify the distribution of movie ratings per user**"
   ]
  },
  {
   "cell_type": "code",
   "execution_count": 27,
   "metadata": {
    "scrolled": false
   },
   "outputs": [
    {
     "data": {
      "image/png": "[encoded data removed]",
      "text/plain": [
       "<Figure size 864x432 with 1 Axes>"
      ]
     },
     "metadata": {
      "needs_background": "light"
     },
     "output_type": "display_data"
    }
   ],
   "source": [
    "# Display the average ratings per user\n",
    "ratings_per_user = merged_df.groupby('userId')['rating'].mean()\n",
    "\n",
    "# Create a histogram of ratings per user\n",
    "plt.figure(figsize=(12, 6))\n",
    "ratings_per_user.plot(kind='hist', bins=50, color='skyblue', edgecolor='black') \n",
    "\n",
    "# Customize the plot\n",
    "plt.title('Distribution of average Ratings per User')\n",
    "plt.xlabel('Ratings')\n",
    "plt.ylabel('Frequency of Users')\n",
    "plt.grid(axis='y', linestyle='--', alpha=0.5)\n",
    "\n",
    "# Show the plot\n",
    "plt.show()"
   ]
  },
  {
   "cell_type": "markdown",
   "metadata": {},
   "source": [
    "**Interpretation**\n",
    "\n",
    "The distribution indicates that the majority of movie ratings fall within the 2 to 4.5 star range, suggesting that most users tend to rate movies positively. However, the presence of a few low ratings below 2 stars highlights that there are still some users who express strong dissatisfaction, potentially due to varying expectations or specific negative experiences with certain films."
   ]
  },
  {
   "cell_type": "markdown",
   "metadata": {},
   "source": [
    "**4. To identify the trend of movies' production by decade**"
   ]
  },
  {
   "cell_type": "code",
   "execution_count": 28,
   "metadata": {},
   "outputs": [
    {
     "data": {
      "image/png": "[encoded data removed]",
      "text/plain": [
       "<Figure size 864x432 with 1 Axes>"
      ]
     },
     "metadata": {
      "needs_background": "light"
     },
     "output_type": "display_data"
    }
   ],
   "source": [
    "# Calculate the number of movies by decade\n",
    "movie_df['Decade'] = (movie_df['Release_year'] // 10) * 10\n",
    "movies_by_decade = movie_df.groupby('Decade').size()\n",
    "\n",
    "# Extract decades and counts\n",
    "decades = movies_by_decade.index\n",
    "counts = movies_by_decade.values\n",
    "\n",
    "# Create the line plot\n",
    "plt.figure(figsize=(12, 6))\n",
    "sns.lineplot(x=decades.astype(str), y=counts, marker='o', color='blue') \n",
    "\n",
    "# Add labels and title\n",
    "plt.title('Trend of Movie production by Decade', fontsize=16)\n",
    "plt.xlabel('Decade', fontsize=14)\n",
    "plt.ylabel('Number of Movies', fontsize=14) \n",
    "\n",
    "# Customize x-axis ticks\n",
    "plt.xticks(rotation=45, ha='right') \n",
    "\n",
    "# Show the plot\n",
    "plt.show()"
   ]
  },
  {
   "cell_type": "markdown",
   "metadata": {},
   "source": [
    "**Interpretation**\n",
    "\n",
    "The graph presents that movie production remained slow in the 1900s, but saw a significant increase starting in the 1970s. This upward trajectory can be attributed to technological advancements, higher demand for films, and greater investment in the film industry. However, from the 2000s onward, production is seen to fluctuate, likely due to changes in market dynamics, including the rise of digital streaming platforms, evolving consumer preferences, and increased competition within the entertainment industry."
   ]
  },
  {
   "cell_type": "markdown",
   "metadata": {},
   "source": [
    "**5. To examine the number of ratings per movie**"
   ]
  },
  {
   "cell_type": "code",
   "execution_count": 29,
   "metadata": {},
   "outputs": [
    {
     "data": {
      "image/png": "[encoded data removed]",
      "text/plain": [
       "<Figure size 864x432 with 1 Axes>"
      ]
     },
     "metadata": {
      "needs_background": "light"
     },
     "output_type": "display_data"
    }
   ],
   "source": [
    "# Calculate the number of ratings per movie\n",
    "ratings_per_movie = rating_df.groupby('movieId')['rating'].count()\n",
    "\n",
    "# Set a threshold to focus on movies with a reasonable number of ratings\n",
    "ratings_threshold = 50  \n",
    "\n",
    "# Filter ratings per movie to focus on movies with less than the threshold\n",
    "filtered_ratings = ratings_per_movie[ratings_per_movie <= ratings_threshold]\n",
    "\n",
    "# Plot the histogram for the filtered data\n",
    "plt.figure(figsize=(12, 6))\n",
    "sns.histplot(filtered_ratings, bins=30, kde=False, color='skyblue')\n",
    "plt.title('Distribution of Number of Ratings Per Movie', fontsize=16)\n",
    "plt.xlabel('Number of Ratings', fontsize=14)\n",
    "plt.ylabel('Count of Movies', fontsize=14)\n",
    "plt.xticks(fontsize=12)\n",
    "plt.yticks(fontsize=12)\n",
    "plt.show()"
   ]
  },
  {
   "cell_type": "markdown",
   "metadata": {},
   "source": [
    "**Interpretation**\n",
    "\n",
    "The number of ratings per movie appears to vary, with most movies receiving fewer than 10 ratings. This highlights that, despite a large number of users, only a small portion of movies were rated, indicating a high likelihood of data sparsity​."
   ]
  },
  {
   "cell_type": "markdown",
   "metadata": {},
   "source": [
    "**6. To Identify the most popular movies**"
   ]
  },
  {
   "cell_type": "code",
   "execution_count": 30,
   "metadata": {},
   "outputs": [
    {
     "data": {
      "text/html": [
       "<div>\n",
       "<style scoped>\n",
       "    .dataframe tbody tr th:only-of-type {\n",
       "        vertical-align: middle;\n",
       "    }\n",
       "\n",
       "    .dataframe tbody tr th {\n",
       "        vertical-align: top;\n",
       "    }\n",
       "\n",
       "    .dataframe thead th {\n",
       "        text-align: right;\n",
       "    }\n",
       "</style>\n",
       "<table border=\"1\" class=\"dataframe\">\n",
       "  <thead>\n",
       "    <tr style=\"text-align: right;\">\n",
       "      <th></th>\n",
       "      <th>movieId</th>\n",
       "      <th>title</th>\n",
       "      <th>genres</th>\n",
       "      <th>Release_year</th>\n",
       "      <th>Decade</th>\n",
       "    </tr>\n",
       "  </thead>\n",
       "  <tbody>\n",
       "    <tr>\n",
       "      <th>5862</th>\n",
       "      <td>3604</td>\n",
       "      <td>Gypsy (1962)</td>\n",
       "      <td>Musical</td>\n",
       "      <td>1962</td>\n",
       "      <td>1960</td>\n",
       "    </tr>\n",
       "  </tbody>\n",
       "</table>\n",
       "</div>"
      ],
      "text/plain": [
       "      movieId         title   genres  Release_year  Decade\n",
       "5862     3604  Gypsy (1962)  Musical          1962    1960"
      ]
     },
     "execution_count": 30,
     "metadata": {},
     "output_type": "execute_result"
    }
   ],
   "source": [
    "#Movie with the lowest rating\n",
    "mean_ratings = rating_df.groupby('movieId')[['rating']].mean()\n",
    "lowest_rated = mean_ratings['rating'].idxmin()\n",
    "movie_df[movie_df['movieId']==lowest_rated]"
   ]
  },
  {
   "cell_type": "markdown",
   "metadata": {},
   "source": [
    "Gypsy presents to be the movie with the lowest rating."
   ]
  },
  {
   "cell_type": "code",
   "execution_count": 31,
   "metadata": {},
   "outputs": [
    {
     "data": {
      "text/html": [
       "<div>\n",
       "<style scoped>\n",
       "    .dataframe tbody tr th:only-of-type {\n",
       "        vertical-align: middle;\n",
       "    }\n",
       "\n",
       "    .dataframe tbody tr th {\n",
       "        vertical-align: top;\n",
       "    }\n",
       "\n",
       "    .dataframe thead th {\n",
       "        text-align: right;\n",
       "    }\n",
       "</style>\n",
       "<table border=\"1\" class=\"dataframe\">\n",
       "  <thead>\n",
       "    <tr style=\"text-align: right;\">\n",
       "      <th></th>\n",
       "      <th>movieId</th>\n",
       "      <th>title</th>\n",
       "      <th>genres</th>\n",
       "      <th>Release_year</th>\n",
       "      <th>Decade</th>\n",
       "    </tr>\n",
       "  </thead>\n",
       "  <tbody>\n",
       "    <tr>\n",
       "      <th>117</th>\n",
       "      <td>53</td>\n",
       "      <td>Lamerica (1994)</td>\n",
       "      <td>Adventure</td>\n",
       "      <td>1994</td>\n",
       "      <td>1990</td>\n",
       "    </tr>\n",
       "    <tr>\n",
       "      <th>118</th>\n",
       "      <td>53</td>\n",
       "      <td>Lamerica (1994)</td>\n",
       "      <td>Drama</td>\n",
       "      <td>1994</td>\n",
       "      <td>1990</td>\n",
       "    </tr>\n",
       "  </tbody>\n",
       "</table>\n",
       "</div>"
      ],
      "text/plain": [
       "     movieId            title     genres  Release_year  Decade\n",
       "117       53  Lamerica (1994)  Adventure          1994    1990\n",
       "118       53  Lamerica (1994)      Drama          1994    1990"
      ]
     },
     "execution_count": 31,
     "metadata": {},
     "output_type": "execute_result"
    }
   ],
   "source": [
    "#Movie with the highest rating\n",
    "highest_rated = mean_ratings['rating'].idxmax()\n",
    "movie_df[movie_df['movieId'] == highest_rated]"
   ]
  },
  {
   "cell_type": "markdown",
   "metadata": {},
   "source": [
    "Lamerica presents to be the movie with the highest rating, however, how many ratings does this movie have?"
   ]
  },
  {
   "cell_type": "code",
   "execution_count": 32,
   "metadata": {},
   "outputs": [
    {
     "data": {
      "text/html": [
       "<div>\n",
       "<style scoped>\n",
       "    .dataframe tbody tr th:only-of-type {\n",
       "        vertical-align: middle;\n",
       "    }\n",
       "\n",
       "    .dataframe tbody tr th {\n",
       "        vertical-align: top;\n",
       "    }\n",
       "\n",
       "    .dataframe thead th {\n",
       "        text-align: right;\n",
       "    }\n",
       "</style>\n",
       "<table border=\"1\" class=\"dataframe\">\n",
       "  <thead>\n",
       "    <tr style=\"text-align: right;\">\n",
       "      <th></th>\n",
       "      <th>userId</th>\n",
       "      <th>movieId</th>\n",
       "      <th>rating</th>\n",
       "    </tr>\n",
       "  </thead>\n",
       "  <tbody>\n",
       "    <tr>\n",
       "      <th>13368</th>\n",
       "      <td>85</td>\n",
       "      <td>53</td>\n",
       "      <td>5.0</td>\n",
       "    </tr>\n",
       "    <tr>\n",
       "      <th>96115</th>\n",
       "      <td>603</td>\n",
       "      <td>53</td>\n",
       "      <td>5.0</td>\n",
       "    </tr>\n",
       "  </tbody>\n",
       "</table>\n",
       "</div>"
      ],
      "text/plain": [
       "       userId  movieId  rating\n",
       "13368      85       53     5.0\n",
       "96115     603       53     5.0"
      ]
     },
     "execution_count": 32,
     "metadata": {},
     "output_type": "execute_result"
    }
   ],
   "source": [
    "#Checking for the number of ratings for the Lamerica movie\n",
    "rating_df[rating_df['movieId']==highest_rated]"
   ]
  },
  {
   "cell_type": "markdown",
   "metadata": {},
   "source": [
    "Although Lamerica was the highly rated movie, it had only 2 votes. A better approach for evaluating movie popularity is to do look at the Bayesian average.\n",
    "\n",
    "Using raw ratings to rank the top 10 movies has limitations. Ratings alone don’t account for popularity, meaning a movie rated 5 by 10 voters might rank higher than one rated 4.9 by 10,000 voters. Similarly, fewer votes can lead to skewed results, as small sample sizes may not reflect true quality. Ratings tend to stabilize with more votes, offering a better representation of a movie's value. A more reliable metric is a **weighted rating**, which considers both the average rating and\n",
    "and the number of votes, ensuring popular movies with high ratings rank appropriately over those with limited feedback. \n",
    "\n",
    "Therefore, in the below cell, we will apply Bayesian Average to assign weights to the different ratings in relation to the number of users who rated that movie."
   ]
  },
  {
   "cell_type": "markdown",
   "metadata": {},
   "source": [
    "## Bayesian Average\n",
    "Bayesian Average is defined as:\n",
    "\n",
    " \\begin{equation} \\text Weighted Rating (\\bf WR) = \\left({{\\bf v} \\over {\\bf v} + {\\bf m}} \\cdot R\\right) + \\left({{\\bf m} \\over {\\bf v} + {\\bf m}} \\cdot C\\right) \\end{equation}\n",
    "\n",
    "In the above equation,\n",
    "\n",
    "v is the number of votes for the movie;\n",
    "\n",
    "m is the minimum votes required to be listed in the chart;\n",
    "\n",
    "R is the average rating of the movie."
   ]
  },
  {
   "cell_type": "code",
   "execution_count": 33,
   "metadata": {},
   "outputs": [
    {
     "data": {
      "text/html": [
       "<div>\n",
       "<style scoped>\n",
       "    .dataframe tbody tr th:only-of-type {\n",
       "        vertical-align: middle;\n",
       "    }\n",
       "\n",
       "    .dataframe tbody tr th {\n",
       "        vertical-align: top;\n",
       "    }\n",
       "\n",
       "    .dataframe thead th {\n",
       "        text-align: right;\n",
       "    }\n",
       "</style>\n",
       "<table border=\"1\" class=\"dataframe\">\n",
       "  <thead>\n",
       "    <tr style=\"text-align: right;\">\n",
       "      <th></th>\n",
       "      <th>count</th>\n",
       "      <th>mean</th>\n",
       "    </tr>\n",
       "    <tr>\n",
       "      <th>movieId</th>\n",
       "      <th></th>\n",
       "      <th></th>\n",
       "    </tr>\n",
       "  </thead>\n",
       "  <tbody>\n",
       "    <tr>\n",
       "      <th>1</th>\n",
       "      <td>215</td>\n",
       "      <td>3.920930</td>\n",
       "    </tr>\n",
       "    <tr>\n",
       "      <th>2</th>\n",
       "      <td>110</td>\n",
       "      <td>3.431818</td>\n",
       "    </tr>\n",
       "    <tr>\n",
       "      <th>3</th>\n",
       "      <td>52</td>\n",
       "      <td>3.259615</td>\n",
       "    </tr>\n",
       "    <tr>\n",
       "      <th>4</th>\n",
       "      <td>7</td>\n",
       "      <td>2.357143</td>\n",
       "    </tr>\n",
       "    <tr>\n",
       "      <th>5</th>\n",
       "      <td>49</td>\n",
       "      <td>3.071429</td>\n",
       "    </tr>\n",
       "  </tbody>\n",
       "</table>\n",
       "</div>"
      ],
      "text/plain": [
       "         count      mean\n",
       "movieId                 \n",
       "1          215  3.920930\n",
       "2          110  3.431818\n",
       "3           52  3.259615\n",
       "4            7  2.357143\n",
       "5           49  3.071429"
      ]
     },
     "execution_count": 33,
     "metadata": {},
     "output_type": "execute_result"
    }
   ],
   "source": [
    "#Calculating the average rating per movie\n",
    "movie_stats = rating_df.groupby('movieId')['rating'].agg(['count', 'mean'])\n",
    "movie_stats.head()"
   ]
  },
  {
   "cell_type": "code",
   "execution_count": 34,
   "metadata": {},
   "outputs": [
    {
     "name": "stdout",
     "output_type": "stream",
     "text": [
      "Average number of ratings for a given movie: 10.37\n",
      "Average rating for a given movie: 3.26\n"
     ]
    }
   ],
   "source": [
    "#Applying bayesian average\n",
    "C = movie_stats['count'].mean()\n",
    "m = movie_stats['mean'].mean()\n",
    "\n",
    "print(f\"Average number of ratings for a given movie: {C:.2f}\")\n",
    "print(f\"Average rating for a given movie: {m:.2f}\")\n",
    "\n",
    "def bayesian_avg(ratings):\n",
    "    bayesian_avg = (C*m+ratings.sum())/(C+ratings.count())\n",
    "    return round(bayesian_avg, 3)"
   ]
  },
  {
   "cell_type": "markdown",
   "metadata": {},
   "source": [
    "Let's test our bayesian_avg function out on Lamerica:"
   ]
  },
  {
   "cell_type": "code",
   "execution_count": 35,
   "metadata": {},
   "outputs": [
    {
     "data": {
      "text/plain": [
       "3.543"
      ]
     },
     "execution_count": 35,
     "metadata": {},
     "output_type": "execute_result"
    }
   ],
   "source": [
    "#Testing bayesian function to the highly rated movie\n",
    "lamerica = pd.Series([5, 5])\n",
    "bayesian_avg(lamerica)"
   ]
  },
  {
   "cell_type": "markdown",
   "metadata": {},
   "source": [
    "Lamerica's average Bayesian rating is 3.5.\n",
    "\n",
    "Let's now apply bayesian_avg to all movies in our dataset."
   ]
  },
  {
   "cell_type": "code",
   "execution_count": 36,
   "metadata": {},
   "outputs": [
    {
     "data": {
      "text/html": [
       "<div>\n",
       "<style scoped>\n",
       "    .dataframe tbody tr th:only-of-type {\n",
       "        vertical-align: middle;\n",
       "    }\n",
       "\n",
       "    .dataframe tbody tr th {\n",
       "        vertical-align: top;\n",
       "    }\n",
       "\n",
       "    .dataframe thead th {\n",
       "        text-align: right;\n",
       "    }\n",
       "</style>\n",
       "<table border=\"1\" class=\"dataframe\">\n",
       "  <thead>\n",
       "    <tr style=\"text-align: right;\">\n",
       "      <th></th>\n",
       "      <th>movieId</th>\n",
       "      <th>count</th>\n",
       "      <th>mean</th>\n",
       "      <th>bayesian_avg</th>\n",
       "      <th>title</th>\n",
       "    </tr>\n",
       "  </thead>\n",
       "  <tbody>\n",
       "    <tr>\n",
       "      <th>0</th>\n",
       "      <td>1</td>\n",
       "      <td>215</td>\n",
       "      <td>3.92093</td>\n",
       "      <td>3.891</td>\n",
       "      <td>Toy Story (1995)</td>\n",
       "    </tr>\n",
       "    <tr>\n",
       "      <th>1</th>\n",
       "      <td>1</td>\n",
       "      <td>215</td>\n",
       "      <td>3.92093</td>\n",
       "      <td>3.891</td>\n",
       "      <td>Toy Story (1995)</td>\n",
       "    </tr>\n",
       "    <tr>\n",
       "      <th>2</th>\n",
       "      <td>1</td>\n",
       "      <td>215</td>\n",
       "      <td>3.92093</td>\n",
       "      <td>3.891</td>\n",
       "      <td>Toy Story (1995)</td>\n",
       "    </tr>\n",
       "    <tr>\n",
       "      <th>3</th>\n",
       "      <td>1</td>\n",
       "      <td>215</td>\n",
       "      <td>3.92093</td>\n",
       "      <td>3.891</td>\n",
       "      <td>Toy Story (1995)</td>\n",
       "    </tr>\n",
       "    <tr>\n",
       "      <th>4</th>\n",
       "      <td>1</td>\n",
       "      <td>215</td>\n",
       "      <td>3.92093</td>\n",
       "      <td>3.891</td>\n",
       "      <td>Toy Story (1995)</td>\n",
       "    </tr>\n",
       "    <tr>\n",
       "      <th>...</th>\n",
       "      <td>...</td>\n",
       "      <td>...</td>\n",
       "      <td>...</td>\n",
       "      <td>...</td>\n",
       "      <td>...</td>\n",
       "    </tr>\n",
       "    <tr>\n",
       "      <th>22041</th>\n",
       "      <td>193583</td>\n",
       "      <td>1</td>\n",
       "      <td>3.50000</td>\n",
       "      <td>3.283</td>\n",
       "      <td>No Game No Life: Zero (2017)</td>\n",
       "    </tr>\n",
       "    <tr>\n",
       "      <th>22042</th>\n",
       "      <td>193585</td>\n",
       "      <td>1</td>\n",
       "      <td>3.50000</td>\n",
       "      <td>3.283</td>\n",
       "      <td>Flint (2017)</td>\n",
       "    </tr>\n",
       "    <tr>\n",
       "      <th>22043</th>\n",
       "      <td>193587</td>\n",
       "      <td>1</td>\n",
       "      <td>3.50000</td>\n",
       "      <td>3.283</td>\n",
       "      <td>Bungo Stray Dogs: Dead Apple (2018)</td>\n",
       "    </tr>\n",
       "    <tr>\n",
       "      <th>22044</th>\n",
       "      <td>193587</td>\n",
       "      <td>1</td>\n",
       "      <td>3.50000</td>\n",
       "      <td>3.283</td>\n",
       "      <td>Bungo Stray Dogs: Dead Apple (2018)</td>\n",
       "    </tr>\n",
       "    <tr>\n",
       "      <th>22045</th>\n",
       "      <td>193609</td>\n",
       "      <td>1</td>\n",
       "      <td>4.00000</td>\n",
       "      <td>3.327</td>\n",
       "      <td>Andrew Dice Clay: Dice Rules (1991)</td>\n",
       "    </tr>\n",
       "  </tbody>\n",
       "</table>\n",
       "<p>22046 rows × 5 columns</p>\n",
       "</div>"
      ],
      "text/plain": [
       "       movieId  count     mean  bayesian_avg  \\\n",
       "0            1    215  3.92093         3.891   \n",
       "1            1    215  3.92093         3.891   \n",
       "2            1    215  3.92093         3.891   \n",
       "3            1    215  3.92093         3.891   \n",
       "4            1    215  3.92093         3.891   \n",
       "...        ...    ...      ...           ...   \n",
       "22041   193583      1  3.50000         3.283   \n",
       "22042   193585      1  3.50000         3.283   \n",
       "22043   193587      1  3.50000         3.283   \n",
       "22044   193587      1  3.50000         3.283   \n",
       "22045   193609      1  4.00000         3.327   \n",
       "\n",
       "                                     title  \n",
       "0                         Toy Story (1995)  \n",
       "1                         Toy Story (1995)  \n",
       "2                         Toy Story (1995)  \n",
       "3                         Toy Story (1995)  \n",
       "4                         Toy Story (1995)  \n",
       "...                                    ...  \n",
       "22041         No Game No Life: Zero (2017)  \n",
       "22042                         Flint (2017)  \n",
       "22043  Bungo Stray Dogs: Dead Apple (2018)  \n",
       "22044  Bungo Stray Dogs: Dead Apple (2018)  \n",
       "22045  Andrew Dice Clay: Dice Rules (1991)  \n",
       "\n",
       "[22046 rows x 5 columns]"
      ]
     },
     "execution_count": 36,
     "metadata": {},
     "output_type": "execute_result"
    }
   ],
   "source": [
    "#Applying Bayesian to the rest of the dataset\n",
    "bayesian_avg_ratings = rating_df.groupby('movieId')['rating'].agg(bayesian_avg).reset_index()\n",
    "bayesian_avg_ratings.columns = ['movieId', 'bayesian_avg']\n",
    "movie_stats = movie_stats.merge(bayesian_avg_ratings, on='movieId', how='left')\n",
    "movie_stats = movie_stats.merge(movie_df[['movieId', 'title']], on='movieId', how='left')\n",
    "movie_stats"
   ]
  },
  {
   "cell_type": "markdown",
   "metadata": {},
   "source": [
    "**Interpretation**\n",
    "\n",
    "Based on the results, the Bayesian average provides a more balanced weighted average, minimizing bias towards the most-rated movies. While Toy Story had an average rating, it still stands out as the most-rated movie."
   ]
  },
  {
   "cell_type": "markdown",
   "metadata": {},
   "source": [
    "**7. To identify if there is a relationship between movie genres and ratings.**"
   ]
  },
  {
   "cell_type": "markdown",
   "metadata": {},
   "source": [
    "Null Hypothesis (H₀): There is no relationship between movie genres and ratings.\n",
    "\n",
    "Alternative Hypothesis (H₁): There is a significant relationship between movie genres and ratings."
   ]
  },
  {
   "cell_type": "code",
   "execution_count": 37,
   "metadata": {},
   "outputs": [
    {
     "name": "stdout",
     "output_type": "stream",
     "text": [
      "ANOVA result: F_onewayResult(statistic=176.87467559267563, pvalue=0.0)\n"
     ]
    }
   ],
   "source": [
    "genre_ratings = merged_df.groupby('genres')['rating'].apply(list)\n",
    "\n",
    "# Perform one-way ANOVA (if assumptions are satisfied)\n",
    "anova_result = f_oneway(*genre_ratings)\n",
    "print('ANOVA result:', anova_result)"
   ]
  },
  {
   "cell_type": "markdown",
   "metadata": {},
   "source": [
    "**Interpretation**\n",
    "\n",
    "F-statistic: 176.87 suggests a large difference between the mean ratings of the different genres.\n",
    "\n",
    "Since the p-value is less than 0.05, we reject the null hypothesis. This means that there is a significant difference between the average ratings of at least some of the movie genres."
   ]
  },
  {
   "cell_type": "markdown",
   "metadata": {},
   "source": [
    "**Examining rating distributions by genre**"
   ]
  },
  {
   "cell_type": "code",
   "execution_count": 38,
   "metadata": {},
   "outputs": [
    {
     "data": {
      "image/png": "[encoded data removed]",
      "text/plain": [
       "<Figure size 864x432 with 1 Axes>"
      ]
     },
     "metadata": {
      "needs_background": "light"
     },
     "output_type": "display_data"
    }
   ],
   "source": [
    "plt.figure(figsize=(12, 6))\n",
    "sns.boxplot(x='genres', y='rating', data=merged_df, palette='viridis')\n",
    "plt.xticks(rotation=45)\n",
    "plt.title('Distribution of Ratings by Genre')\n",
    "plt.show()"
   ]
  },
  {
   "cell_type": "markdown",
   "metadata": {},
   "source": [
    "**Interpretation**\n",
    "\n",
    "Since the hypothesis testing highlighted that there is a significant difference in ratings by genre, the above box plots displays how these ratings vary by genre. With some genre ratings ranging from 3-4 star ratings , others 2.5 to 4.5 star ratings while others 3.5 to 4.5 star rating.This disparity reveals that, certain genres tend to receive more consistent ratings, while others experience greater variability, possibly reflecting differing audience expectations, preferences, or subjective opinions about the films within each genre."
   ]
  },
  {
   "cell_type": "markdown",
   "metadata": {},
   "source": [
    "**8. To examine user-generated tags to identify popular keywords associated with movie themes.**"
   ]
  },
  {
   "cell_type": "code",
   "execution_count": 39,
   "metadata": {},
   "outputs": [
    {
     "data": {
      "image/png": "[encoded data removed]",
      "text/plain": [
       "<Figure size 720x432 with 1 Axes>"
      ]
     },
     "metadata": {
      "needs_background": "light"
     },
     "output_type": "display_data"
    },
    {
     "name": "stdout",
     "output_type": "stream",
     "text": [
      "          word  count\n",
      "0      netflix    134\n",
      "1        queue    131\n",
      "2       comedy     64\n",
      "3         dark     47\n",
      "4  atmospheric     41\n",
      "5       ending     32\n",
      "6        scifi     31\n",
      "7        movie     30\n",
      "8        space     28\n",
      "9        funny     28\n"
     ]
    }
   ],
   "source": [
    "# Initialize lemmatizer and stop words list\n",
    "lemmatizer = WordNetLemmatizer()\n",
    "stop_words = set(stopwords.words('english'))\n",
    "\n",
    "# converting the tags to lowercase and removing non-alphabetic characters\n",
    "tags_df['tag'] = tags_df['tag'].str.lower().apply(lambda x: re.sub(r'[^a-z\\s]', '', x))\n",
    "\n",
    "# Tokenize the tags, remove stop words, and apply lemmatization\n",
    "tags_df['processed_tag'] = tags_df['tag'].apply(lambda x: [\n",
    "    lemmatizer.lemmatize(word) for word in word_tokenize(x) if word not in stop_words\n",
    "])\n",
    "\n",
    "# Flatten the list of lists to get all words in one list\n",
    "all_words = [word for tag in tags_df['processed_tag'] for word in tag]\n",
    "\n",
    "# Get word frequency\n",
    "word_counts = pd.Series(all_words).value_counts().reset_index()\n",
    "word_counts.columns = ['word', 'count']\n",
    "\n",
    "# Display the top 10 most frequent words\n",
    "top_10_words = word_counts.head(10)\n",
    "\n",
    "# Plotting the top 10 words\n",
    "plt.figure(figsize=(10, 6))\n",
    "plt.bar(top_10_words['word'], top_10_words['count'], color='skyblue')\n",
    "plt.xticks(rotation=45, ha='right')\n",
    "plt.xlabel('Words')\n",
    "plt.ylabel('Frequency')\n",
    "plt.title('Top 10 Most Frequent Words in Movie Tags')\n",
    "plt.show()\n",
    "\n",
    "# Print the top 10 words\n",
    "print(top_10_words)"
   ]
  },
  {
   "cell_type": "markdown",
   "metadata": {},
   "source": [
    "**Interpretation**\n",
    "\n",
    "The most frequent words highlights on users preferences.\n",
    "\n",
    "- Netflix being on the top would highly imply that most movies were watched from netflix.\n",
    "\n",
    "- Queue would indicate that most users usually tag or add movies to their watchlist.\n",
    "\n",
    "- Word like Ending would suggest that most users are particularly focused on the conclusion of movies implying that a movie's ending is a key feature for most films.\n",
    "\n",
    "- The word Movie appears commonly to reflect that most users tag films as 'movies' compared to the 'series' term. This implies that movie is frequently watched compared to series.\n",
    "\n",
    "- Other words such as funny, dark and comedy highlights on the frequently watched themes, which would be key in offering a movie recommendation.\n",
    "\n",
    "- Sci-Fi, space and Atmospheric implies that there is also a good chunk of users who are drawn to watching movies related to science fiction genres or movies with strong mood setting."
   ]
  },
  {
   "cell_type": "markdown",
   "metadata": {},
   "source": [
    "## MODELLING\n",
    "***"
   ]
  },
  {
   "cell_type": "markdown",
   "metadata": {},
   "source": [
    "**9. To build a recommendation system that suggests the top 5 rated movies to a user.**"
   ]
  },
  {
   "cell_type": "markdown",
   "metadata": {},
   "source": [
    "**Data Preprocessing**"
   ]
  },
  {
   "cell_type": "code",
   "execution_count": 40,
   "metadata": {},
   "outputs": [],
   "source": [
    "#Transforming data to be compatible with surprise library\n",
    "reader = Reader()\n",
    "data = Dataset.load_from_df(rating_df[['userId', 'movieId', 'rating']],reader)"
   ]
  },
  {
   "cell_type": "code",
   "execution_count": 41,
   "metadata": {},
   "outputs": [
    {
     "name": "stdout",
     "output_type": "stream",
     "text": [
      "Number of users:  610 \n",
      "\n",
      "Number of items:  9724\n"
     ]
    }
   ],
   "source": [
    "#Check for the number of users and items in our dataset\n",
    "dataset = data.build_full_trainset()\n",
    "print('Number of users: ', dataset.n_users, '\\n')\n",
    "print('Number of items: ', dataset.n_items)"
   ]
  },
  {
   "cell_type": "markdown",
   "metadata": {},
   "source": [
    "Our data presents to have fewer users compared to the number of movies, which creates a sparse matrix. The below code will inspect the level of sparsity for our data. Then follow up to apply either collaborative or content-based filtering based on the level of our data sparsity."
   ]
  },
  {
   "cell_type": "code",
   "execution_count": 42,
   "metadata": {},
   "outputs": [
    {
     "name": "stdout",
     "output_type": "stream",
     "text": [
      "Matrix sparsity: 1.70%\n"
     ]
    }
   ],
   "source": [
    "#cheking for level of sparsity for our data\n",
    "\n",
    "#Importing the function for sparse matrix from our functions .py\n",
    "from Functions import  create_sparsitymatrix\n",
    "\n",
    "\n",
    "#Display sparsity value for our data\n",
    "X, user_mapper, movie_mapper, user_inv_mapper, movie_inv_mapper, sparsity = create_sparsitymatrix(rating_df)\n",
    "sparsity_value = 100 - (sparsity * 100) \n",
    "print(f\"Matrix sparsity: {sparsity_value:.2f}%\")"
   ]
  },
  {
   "cell_type": "markdown",
   "metadata": {},
   "source": [
    "Our sparsity value is above 1 meaning that our data is highly sparsed, which is typical in recommendation systems, as users generally rate only a small subset of movies they’ve watched. Therefore, to address this, we will consider collaborative filtering in building our recommendation system.This is because collaborative filtering leverages patterns in user-item interactions, even when most interactions are missing, by predicting missing ratings based on similarities between users or items."
   ]
  },
  {
   "cell_type": "markdown",
   "metadata": {},
   "source": [
    "**Determining the best model**"
   ]
  },
  {
   "cell_type": "code",
   "execution_count": 43,
   "metadata": {},
   "outputs": [
    {
     "name": "stdout",
     "output_type": "stream",
     "text": [
      "Best RMSE score: {'rmse': 0.8497176968797493, 'mae': 0.6512860986862473}\n",
      "Best parameters: {'rmse': {'n_factors': 100, 'reg_all': 0.1, 'lr_all': 0.01, 'n_epochs': 50}, 'mae': {'n_factors': 100, 'reg_all': 0.1, 'lr_all': 0.01, 'n_epochs': 50}}\n"
     ]
    }
   ],
   "source": [
    "#Performing Gridsearch for SVD Model\n",
    "param_grid = {\n",
    "    'n_factors': [20, 50, 100],        # Number of latent factors\n",
    "    'reg_all': [0.02, 0.05, 0.1],      # Regularization term\n",
    "    'lr_all': [0.002, 0.005, 0.01],    # Learning rate\n",
    "    'n_epochs': [20, 30, 50]           # Number of epochs\n",
    "}\n",
    "\n",
    "# Initialize the GridSearchCV with the SVD algorithm\n",
    "gs = GridSearchCV(SVD, param_grid,cv=5, n_jobs=-1)\n",
    "# Fit the GridSearchCV\n",
    "gs.fit(data)\n",
    "\n",
    "# Get the best parameters and their corresponding score\n",
    "print(\"Best RMSE score:\", gs.best_score)\n",
    "print(\"Best parameters:\", gs.best_params)\n",
    "\n",
    "\n",
    "# This code cell might take a long time to run"
   ]
  },
  {
   "cell_type": "markdown",
   "metadata": {},
   "source": [
    "The gridsearch results presents the best RMSE score to be 0.8501 which was achieved with 100 latent factors, a regularization term of 0.1, a learning rate of 0.01, and 50 epochs, while the best MAE score of 0.6502 came from 100 latent factors, a regularization term of 0.1, a learning rate of 0.01, and 50 epochs."
   ]
  },
  {
   "cell_type": "code",
   "execution_count": 44,
   "metadata": {},
   "outputs": [
    {
     "name": "stdout",
     "output_type": "stream",
     "text": [
      "('test_rmse', array([0.97995453, 0.96537803, 0.97102679, 0.96874603, 0.97409526]))\n",
      "('test_mae', array([0.7560053 , 0.74802893, 0.75032265, 0.74951937, 0.75064002]))\n",
      "('fit_time', (2.2139573097229004, 2.2090110778808594, 2.220344066619873, 2.110130548477173, 2.1086995601654053))\n",
      "('test_time', (4.669553279876709, 4.741825103759766, 4.705122709274292, 4.7211689949035645, 4.688222646713257))\n",
      "-----------------------\n",
      "0.9718401292207395\n"
     ]
    }
   ],
   "source": [
    "#Cross Validating with KNNBasic\n",
    "knn_basic = KNNBasic(sim_options={'name':'pearson', 'user_based':True})\n",
    "cv_knn_basic = cross_validate(knn_basic, data, n_jobs=-1)\n",
    "for i in cv_knn_basic.items():\n",
    "    print(i)\n",
    "print('-----------------------')\n",
    "print(np.mean(cv_knn_basic['test_rmse']))"
   ]
  },
  {
   "cell_type": "markdown",
   "metadata": {},
   "source": [
    "The test RMSE values range from 0.964 to 0.977, indicating consistent performance, while the test MAE values range from 0.743 to 0.754, reflecting a small margin of error. The model's fit time averages around 2 seconds, and the test time is approximately 4 seconds, showing relatively quick computation. The overall mean RMSE is 0.9716, suggesting stable performance across different folds"
   ]
  },
  {
   "cell_type": "code",
   "execution_count": 45,
   "metadata": {},
   "outputs": [
    {
     "name": "stdout",
     "output_type": "stream",
     "text": [
      "Estimating biases using als...\n",
      "Computing the pearson similarity matrix...\n",
      "Done computing similarity matrix.\n",
      "Estimating biases using als...\n",
      "Computing the pearson similarity matrix...\n",
      "Done computing similarity matrix.\n",
      "Estimating biases using als...\n",
      "Computing the pearson similarity matrix...\n",
      "Done computing similarity matrix.\n",
      "Estimating biases using als...\n",
      "Computing the pearson similarity matrix...\n",
      "Done computing similarity matrix.\n",
      "Estimating biases using als...\n",
      "Computing the pearson similarity matrix...\n",
      "Done computing similarity matrix.\n",
      "('test_rmse', array([0.87356974, 0.87668751, 0.88079166, 0.88025751, 0.8712255 ]))\n",
      "('test_mae', array([0.66757057, 0.66955513, 0.67236177, 0.67148248, 0.66885701]))\n",
      "('fit_time', (1.6465935707092285, 1.2345778942108154, 1.3912041187286377, 1.151320457458496, 1.3620200157165527))\n",
      "('test_time', (4.167438507080078, 2.834017753601074, 2.1388254165649414, 2.270153284072876, 2.296154499053955))\n"
     ]
    },
    {
     "data": {
      "text/plain": [
       "0.8765063852720729"
      ]
     },
     "execution_count": 45,
     "metadata": {},
     "output_type": "execute_result"
    }
   ],
   "source": [
    "# cross validating with KNNBaseline\n",
    "knn_baseline = KNNBaseline(sim_options={'name':'pearson', 'user_based':True})\n",
    "cv_knn_baseline = cross_validate(knn_baseline,data)\n",
    "for i in cv_knn_baseline.items():\n",
    "    print(i)\n",
    "\n",
    "np.mean(cv_knn_baseline['test_rmse'])"
   ]
  },
  {
   "cell_type": "markdown",
   "metadata": {},
   "source": [
    "The test RMSE values range from 0.872 to 0.88, indicating consistent performance, while the test MAE values range from 0.66 to 0.67, reflecting minimal prediction error. The model's fit time averages around 1.30 seconds, and the test time is approximately 2.5 seconds, suggesting efficient computation. The overall mean RMSE is 0.8764, showing stable and reliable performance across different folds."
   ]
  },
  {
   "cell_type": "markdown",
   "metadata": {},
   "source": [
    "**Overall Interpretation for the models**\n",
    "\n",
    "Comparing the Root Mean Squared Error(RMSE) for the above models, SVD presents to have the least rmse,signaling that it makes the most accurate predictions about users' ratings. RMSE measures the square root of the average squared differences between the predicted and actual ratings, so a lower value indicates that the model's predictions are closer to the true ratings. This suggests that SVD is better at capturing underlying patterns and preferences in the data compared to other models, making it the most suitable choice for building our recommendation system. Additionally, SVD works by breaking down the sparse matrix of user-item interactions into smaller, dense matrices (latent factors) that capture these hidden patterns, helping to predict missing ratings."
   ]
  },
  {
   "cell_type": "markdown",
   "metadata": {},
   "source": [
    "**Making Recommendations using Collaborative filtering**"
   ]
  },
  {
   "cell_type": "code",
   "execution_count": 46,
   "metadata": {},
   "outputs": [
    {
     "data": {
      "text/plain": [
       "Prediction(uid=1, iid=673, r_ui=None, est=3.4764648343524023, details={'was_impossible': False})"
      ]
     },
     "execution_count": 46,
     "metadata": {},
     "output_type": "execute_result"
    }
   ],
   "source": [
    "#fit and predicting the model\n",
    "svd = SVD(n_factors = 100, reg_all = 0.1, lr_all = 0.01, \n",
    "          n_epochs = 50)\n",
    "svd.fit(dataset)\n",
    "\n",
    "svd.predict(1,673)"
   ]
  },
  {
   "cell_type": "code",
   "execution_count": 51,
   "metadata": {},
   "outputs": [
    {
     "name": "stdout",
     "output_type": "stream",
     "text": [
      "       movieId                title genres  Release_year  Decade\n",
      "17783    92259  Intouchables (2011)  Drama          2011    2010\n",
      "You rated this movie: n\n",
      "Not Rated\n",
      "      movieId                                              title genres  \\\n",
      "2730     1643  Mrs. Brown (a.k.a. Her Majesty, Mrs. Brown) (1...  Drama   \n",
      "\n",
      "      Release_year  Decade  \n",
      "2730          1997    1990  \n",
      "You rated this movie: 4\n",
      "       movieId                  title genres  Release_year  Decade\n",
      "10513     7259  You Got Served (2004)  Drama          2004    2000\n",
      "You rated this movie: 4.2\n",
      "      movieId                                             title genres  \\\n",
      "3402     2068  Fanny and Alexander (Fanny och Alexander) (1982)  Drama   \n",
      "\n",
      "      Release_year  Decade  \n",
      "3402          1982    1980  \n",
      "You rated this movie: n\n",
      "Not Rated\n",
      "       movieId                                              title genres  \\\n",
      "10262     7063  Aguirre: The Wrath of God (Aguirre, der Zorn G...  Drama   \n",
      "\n",
      "       Release_year  Decade  \n",
      "10262          1972    1970  \n",
      "You rated this movie: 4.7\n",
      "      movieId                                       title genres  \\\n",
      "6939     4347  Divided We Fall (Musíme si pomáhat) (2000)  Drama   \n",
      "\n",
      "      Release_year  Decade  \n",
      "6939          2000    2000  \n",
      "You rated this movie: 3\n"
     ]
    }
   ],
   "source": [
    "#Prompting a user to rate a movie\n",
    "\n",
    "#Importing the function from the functions.py\n",
    "from Functions import movie_rater\n",
    "\n",
    "#prompt the user to rate some random movie(s) based on genre of their preference if they wish\n",
    "user_ratings = movie_rater(movie_df)"
   ]
  },
  {
   "cell_type": "markdown",
   "metadata": {},
   "source": [
    "**Interpretation**\n",
    "\n",
    "The code prompts the user to rate a chosen number of movies based on their preferred genre. First, the user is asked how many movies they would like to rate, followed by a question about their specific genre of interest. The code then presents various movies for the user to rate until the specified number of movies is completed.\n",
    "\n",
    "The output above provides an example of movie ratings within the Drama genre, where different animated movies are rated. The ratings are stored in the **user_ratings** variable, which serves as the foundation for recommending five related movies to the user using collaborative filtering."
   ]
  },
  {
   "cell_type": "code",
   "execution_count": 52,
   "metadata": {},
   "outputs": [
    {
     "data": {
      "text/plain": [
       "[{'userId': 4001, 'movieId': 1643, 'rating': 4.0},\n",
       " {'userId': 4001, 'movieId': 7259, 'rating': 4.2},\n",
       " {'userId': 4001, 'movieId': 7063, 'rating': 4.7},\n",
       " {'userId': 4001, 'movieId': 4347, 'rating': 3.0}]"
      ]
     },
     "execution_count": 52,
     "metadata": {},
     "output_type": "execute_result"
    }
   ],
   "source": [
    "#Display the ratings of the movies that the user has rated\n",
    "user_ratings"
   ]
  },
  {
   "cell_type": "code",
   "execution_count": 53,
   "metadata": {},
   "outputs": [
    {
     "name": "stdout",
     "output_type": "stream",
     "text": [
      "Based on the 4 movies you've rated, here are some recommendations tailored to your preferences. These movies have high predicted ratings, suggesting you might enjoy them!\n",
      "Recommended Movies based on collaborative filtering:\n",
      "       movieId                                              title  \\\n",
      "8885      5915          Victory (a.k.a. Escape to Victory) (1981)   \n",
      "10354     7121                                  Adam's Rib (1949)   \n",
      "5639      3451                Guess Who's Coming to Dinner (1967)   \n",
      "13565    43376  Sophie Scholl: The Final Days (Sophie Scholl -...   \n",
      "12289    27156  Neon Genesis Evangelion: The End of Evangelion...   \n",
      "\n",
      "       predicted_rating  \n",
      "8885           4.778611  \n",
      "10354          4.776052  \n",
      "5639           4.773426  \n",
      "13565          4.768252  \n",
      "12289          4.737587  \n"
     ]
    }
   ],
   "source": [
    "#Importing the function for displaying the recommended movies based on the user ratings using collaborative filtering\n",
    "from Functions import recommend_movies\n",
    "\n",
    "# Print recommended movies\n",
    "recommendations = recommend_movies(user_ratings, movie_df, rating_df, svd, num_recommendations=5)\n",
    "\n",
    "print(f\"Recommended Movies based on collaborative filtering:\\n{recommendations}\")"
   ]
  },
  {
   "cell_type": "markdown",
   "metadata": {},
   "source": [
    "**Interpretation**\n",
    "\n",
    "The above code displays the recommended ratings to the user based on the different movies they rated."
   ]
  },
  {
   "cell_type": "markdown",
   "metadata": {},
   "source": [
    "*Addressing Cold-start Problem*\n",
    "***\n",
    "\n",
    "Recommendation systems often face challenges when there's insufficient interaction data for users or items. This is known as the **cold start problem**. This section explains the different types of cold start problems, their implications, and solutions using `movieId`, `title`, and `genres` as key features.\n",
    "\n",
    "\n",
    "**Types of Cold Start Problems**\n",
    "\n",
    "**1. New User Problem**\n",
    "- When a new user joins the platform, there’s no prior interaction data (e.g., no ratings or clicks).\n",
    "- The system cannot provide personalized recommendations.\n",
    "\n",
    "**2. New Item Problem**\n",
    "- When a new movie is added, there are no user interactions with it.\n",
    "- The system struggles to recommend this movie to users, even if it’s relevant.\n",
    "\n",
    "**3. New System Problem**\n",
    "- When the platform starts, there’s little to no interaction data for users or items.\n",
    "- Both new users and new items coexist, making recommendations challenging.\n",
    "\n",
    "\n",
    "**Cold-start in relation to this Analysis**\n",
    "\n",
    "In this analysis, our model is encountering a cold start problem, as the collaborative filtering model depends on new users rating movies before receiving recommendations for related ones. As a result, the SVD model is unable to capture enough diversity in the recommendations. To address this, the next step involves applying content-based filtering to resolve the new user issue, enabling the recommendation of movies to users through a hybrid approach that combines both collaborative and content-based filtering."
   ]
  },
  {
   "cell_type": "markdown",
   "metadata": {},
   "source": [
    "**Making Recommendation based on the hybrid approach(both collaborative and content based filtering)**"
   ]
  },
  {
   "cell_type": "code",
   "execution_count": 54,
   "metadata": {},
   "outputs": [
    {
     "name": "stdout",
     "output_type": "stream",
     "text": [
      "Based on the 4 movies you've rated, here are some recommendations tailored to your preferences. These movies have high predicted ratings, suggesting you might enjoy them!\n",
      "Recommended movies based on both collaborative and content based filtering(Hybrid):\n",
      "                                                  title           genres  \\\n",
      "4590                 Come and See (Idi i smotri) (1985)     [Drama, War]   \n",
      "4396                     Trial, The (Procès, Le) (1962)          [Drama]   \n",
      "9618   Three Billboards Outside Ebbing, Missouri (2017)   [Crime, Drama]   \n",
      "1664  Swept Away (Travolti da un insolito destino ne...  [Comedy, Drama]   \n",
      "2582                Guess Who's Coming to Dinner (1967)          [Drama]   \n",
      "\n",
      "      hybrid_scores  \n",
      "4590       3.471717  \n",
      "4396       3.461001  \n",
      "9618       3.456949  \n",
      "1664       3.451288  \n",
      "2582       3.435949  \n"
     ]
    }
   ],
   "source": [
    "#Importing the function for displaying the recommended movies based on the user ratings using both collaborative and\n",
    "#content based filtering\n",
    "\n",
    "from Functions import get_hybrid_recommendations\n",
    "\n",
    "#print recommended movies\n",
    "hybrid_recommendations = get_hybrid_recommendations(user_ratings, movie_df, rating_df, svd, num_recommendations=5)\n",
    "print(f\"Recommended movies based on both collaborative and content based filtering(Hybrid):\\n{hybrid_recommendations}\")"
   ]
  },
  {
   "cell_type": "markdown",
   "metadata": {},
   "source": [
    "**Interpretation**\n",
    "\n",
    "The hybrid approach presents to offer more personalized movies because of addressing the cold start problem. From the movies displayed, it's evident that they are more unique compared to those recommended through collaborative filtering. This delivers a more tailored experience to the user."
   ]
  },
  {
   "cell_type": "markdown",
   "metadata": {},
   "source": [
    "# CONCLUSIONS\n",
    "***\n",
    "**1. Top 10 Most Popular Genres:**\n",
    "- Examined the top 10 genres that are most popular based on the rating_count. The top-rated genres included Drama, Comedy, and Action.\n",
    "\n",
    "**2. To identify the top 10 most popular genres based on user ratings:**\n",
    "- The analysis clearly shows the top 10 most popular genres rated by users. This insight showed the continuous genres that catch the attention of the audience and therefore recommend strategies could be better focused.\n",
    "\n",
    "**3. To identify if there is a relationship between movie genres and ratings:**\n",
    "- It can be seen at the end of the analysis that movie genres play a significant role in shaping user ratings. Some genres are given considerably higher or lower ratings, reflecting how genre influences user preference and overall satisfaction. This suggests that genre needs to be taken into consideration while analyzing or predicting user ratings.\n",
    "\n",
    "**4. To examine the number of ratings per movie:**\n",
    "- The analysis highlighted the disparity in the number of ratings per movie, which ranged from widely rated to niche-rated movies. This brings a balance in recommendations to avoid focusing too much on highly rated though less popular titles.\n",
    "\n",
    "**5. To Identify the most popular movies:**\n",
    "- The analysis established a basis for recommending films that are relevant and appealing to a wide range of viewers by identifying the most watched films based on user engagement.\n",
    "\n",
    "**6. To examine user-generated tags to identify popular keywords associated with movie themes:**\n",
    "- The analysis of user-generated tags revealed notable themes and descriptions that are commonly connected to motion pictures. These tags offer an extra level of context to help improve suggestions.\n",
    "\n",
    "**7. To identify the trend of movies' production by decade:**\n",
    "- The breakdown of movie production in this century is highly remarkable, increasing especially in the two consecutive decades, the 1980s to the 2000s, while it decreases again in the 2010s. This trend suggests the rapid growth in movie productions up to the 2000s and may be associated with changes in technology and globalization within the industry. However, the decline in the 2010s may reflect shifts in consumer preferences, the rise of alternative media platforms.\n",
    "\n",
    "**8. Recommendation System Performance:**\n",
    "- The recommendation system was able to identify the top 5 rated movies for individual users based on their preferences.\n",
    "- SVD-backed collaborative filtering techniques did a good job in personalizing recommendations.\n",
    "- Evaluation metrics, such as RMSE, showed the model's reliability by showing low error rates in predicting user preferences.\n",
    "\n",
    "**9. General Findings:**\n",
    "- User behavior plays an important role in identifying trends, hence active engagement data is crucial for good recommendations.\n",
    "- The system faced cold-start problems for new users and movies, which we tried to solve using content-based filtering.\n",
    "- Hybridizing user-generated tags with rating-based models resulted in an enhanced recommendation capability that showed the potential of hybrid systems."
   ]
  },
  {
   "cell_type": "markdown",
   "metadata": {},
   "source": [
    "## RECOMMENDATIONS\n",
    "***"
   ]
  },
  {
   "cell_type": "markdown",
   "metadata": {},
   "source": [
    "1. **Leverage Ratings to Build Personalization**  \n",
    "   The system effectively used user ratings to recommend movies. Encouraging users to rate more movies can further improve the accuracy and relevance of recommendations, as it provides valuable data for collaborative filtering.\n",
    "\n",
    "2. **Focus on a Hybrid Approach**  \n",
    "   The hybrid recommendation system, combining collaborative filtering with content-based filtering, performed well and addressed challenges like the cold start problem for new users. This strategy ensures a more tailored experience for users by considering both user preferences and movie attributes.\n",
    "\n",
    "3. **Enhance Genre-Based Suggestions**  \n",
    "   Since genres play a significant role in user preferences, building recommendations that prioritize a user’s preferred genres can improve satisfaction. Offering users curated lists of movies based on their top-rated genres could enhance engagement.\n",
    "\n",
    "4. **Adapt to Shifting Trends in Movie Production**  \n",
    "   Observing the trends in movie production over decades reveals user interest in specific eras. Streaming platforms can highlight popular movies from these eras to attract viewers nostalgic for particular time periods or interested in classic films.\n",
    "\n",
    "5. **Encourage Ratings from New Users**  \n",
    "   Since the collaborative filtering model relies heavily on user ratings, creating an easy and engaging way for new users to rate a few movies during onboarding will reduce cold start issues and improve early recommendations.\n",
    "\n",
    "6. **Explore Metadata Beyond Ratings**  \n",
    "   Future iterations could explore incorporating metadata like cast, director, or production year to refine content-based filtering. These attributes could help identify patterns in user preferences, leading to more nuanced recommendations.\n",
    "\n",
    "By implementing these strategies, the recommendation system can remain user-focused, increase engagement, and cater to a diverse audience with personalized and meaningful suggestions.\n"
   ]
  },
  {
   "cell_type": "markdown",
   "metadata": {},
   "source": [
    "## WEAKNESSES\n",
    "1. **Lack of Contextual Awareness**\n",
    "\n",
    "The recommendations are static and do not consider contextual factors like:\n",
    "- Time of day (e.g., recommending lighter movies in the evening).\n",
    "- User mood or situational preferences.\n",
    "\n",
    "2. **Dependence on Explicit Feedback**\n",
    "\n",
    "The system primarily relies on explicit user ratings, which may not capture implicit preferences (e.g., watch history, skips, or search patterns).\n",
    "Explicit ratings are often sparse in real-world datasets.\n",
    "\n",
    "3. **Absence of Temporal Dynamics**\n",
    "\n",
    "Recommendations do not account for changes in user preferences or movie popularity over time.\n",
    "Older movies may dominate recommendations if they have accumulated higher ratings historically.\n",
    "\n",
    "4. **Evaluation Gaps**\n",
    "\n",
    "No user feedback loop is included to validate the system's real-world effectiveness.\n",
    "The evaluation focuses on metrics like RMSE, which assess prediction accuracy but do not evaluate ranking quality (e.g., precision, recall for top recommendations).\n",
    "\n"
   ]
  },
  {
   "cell_type": "markdown",
   "metadata": {},
   "source": [
    "## FUTURE WORK/NEXT STEPS\n",
    "***\n",
    "\n",
    "1. **Incorporate more User and Movie Metadata**\n",
    "\n",
    "- Add additional features like release year, directors, actors, or production studios into the recommendation algorithms to improve personalization.\n",
    "- Consider sentiment analysis of tags or reviews associated with movies for further insights.\n",
    "- Utilize demographic data (if available) to provide basic recommendations for new users.\n",
    "\n",
    "2. **Explore Deep Learning Models**\n",
    "\n",
    "- Apply neural collaborative filtering (NCF) to learn non-linear relationships between users and movies.\n",
    "Use neural networks to model sequential patterns in user ratings or watch history.\n",
    "\n",
    "3. **Time-Aware Recommendations**\n",
    "\n",
    "- Analyze rating trends over time to recommend movies that match evolving user preferences, recent user interactions or movie popularity.\n",
    "\n",
    "4. **Improved Evaluation Metrics**\n",
    "\n",
    "- Conduct user studies to gather feedback on the quality of recommendations.\n",
    "- Beyond RMSE and MAE, evaluate the system using metrics like precision, recall, and F1-score for ranking tasks.\n",
    "\n",
    "5. **Interactive Dashboard**\n",
    "\n",
    "- Develop an interactive visualization tool to display personalized recommendations and trends dynamically.\n",
    "Allow users to explore recommendations by filtering through genres, release years, or popularity."
   ]
  },
  {
   "cell_type": "markdown",
   "metadata": {},
   "source": [
    "**Reference**\n",
    "\n",
    "1. Rashevskaya, A. (2024, April 12). All about Netflix artificial intelligence: The truth behind personalized content. Litslink. https://litslink.com/blog/all-about-netflix-artificial-intelligence-the-truth-behind-personalized-content"
   ]
  }
 ],
 "metadata": {
  "kernelspec": {
   "display_name": "Python (learn-env)",
   "language": "python",
   "name": "learn-env"
  },
  "language_info": {
   "codemirror_mode": {
    "name": "ipython",
    "version": 3
   },
   "file_extension": ".py",
   "mimetype": "text/x-python",
   "name": "python",
   "nbconvert_exporter": "python",
   "pygments_lexer": "ipython3",
   "version": "3.8.5"
  }
 },
 "nbformat": 4,
 "nbformat_minor": 4
}
