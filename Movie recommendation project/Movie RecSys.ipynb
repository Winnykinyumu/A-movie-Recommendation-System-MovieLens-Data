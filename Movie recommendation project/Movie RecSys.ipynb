{
 "cells": [
  {
   "cell_type": "markdown",
   "metadata": {},
   "source": [
    "# A movie Recommendation System Using MovieLens Data"
   ]
  },
  {
   "cell_type": "markdown",
   "metadata": {},
   "source": [
    "**Project Overview**\n",
    "\n",
    "This project focuses on analyzing movie ratings from the MovieLens dataset to provide tailored movie recommendations. It combines collaborative filtering and content-based filtering, to identify the top 5 movies most suited to a user's interests. This dual approach enhances the recommendation accuracy by integrating both user-driven insights and movie-specific characteristics, creating a robust, personalized viewing experience."
   ]
  },
  {
   "cell_type": "markdown",
   "metadata": {},
   "source": [
    "**Business Understanding**\n",
    "\n",
    "In today’s digital age, online streaming platforms such as Netflix, Showmax,HBO,provide a vast library of movies across various genres, which users can stream on devices like smartphones, tablets, smart TVs, and computers. These platforms generate vast amounts of data on user interactions, including viewing habits, preferences, and ratings. However, the challenge lies in leveraging this data to enhance user engagement by providing personalized movie recommendations that align with individual tastes. \n",
    "\n",
    "Personalization has a proven impact on engagement; for example, [75% of what people watch on Netflix](https://litslink.com/blog/all-about-netflix-artificial-intelligence-the-truth-behind-personalized-content) comes from its personalized recommendations, highlighting the importance of robust recommendation algorithms in guiding users toward their next favorite show or movie. The goal of this project is to improve user satisfaction and retention by suggesting the top 5 movies a user is likely to enjoy, utilizing a blend of collaborative and content-based filtering."
   ]
  },
  {
   "cell_type": "markdown",
   "metadata": {},
   "source": [
    "**Problem Statement**\n",
    "\n",
    "With the increasing volume of movies available on streaming platforms, users often experience choice overload, making it difficult to discover content that matches their preferences. This reduces user satisfaction and engagement, negatively impacting retention rates for content providers. The challenge is to develop a personalized recommendation system that can accurately predict and suggest movies tailored to individual users' tastes. "
   ]
  },
  {
   "cell_type": "markdown",
   "metadata": {},
   "source": [
    "**Objectives**\n",
    "\n",
    "1. To identify the top 10 most popular genres based on user ratings.\n",
    "2. To identify if there is a relationship between movie genres and ratings.\n",
    "3. To examine user-generated tags to identify popular keywords associated with genres and movie themes.\n",
    "4. To build a recommendation system that suggests the top 5 rated movies to a user."
   ]
  },
  {
   "cell_type": "markdown",
   "metadata": {},
   "source": [
    "**Success Metrics**"
   ]
  },
  {
   "cell_type": "markdown",
   "metadata": {},
   "source": [
    "**Data Understanding**\n",
    "\n",
    "The [dataset](https://grouplens.org/datasets/movielens/latest/) for the analysis is from the GroupLens research lab at the University of Minnesota. It entails 100,000 movie ratings. It entails different csv files\n",
    "\n"
   ]
  },
  {
   "cell_type": "code",
   "execution_count": 45,
   "metadata": {},
   "outputs": [
    {
     "name": "stderr",
     "output_type": "stream",
     "text": [
      "[nltk_data] Downloading package punkt to\n",
      "[nltk_data]     C:\\Users\\User\\AppData\\Roaming\\nltk_data...\n",
      "[nltk_data]   Package punkt is already up-to-date!\n",
      "[nltk_data] Downloading package stopwords to\n",
      "[nltk_data]     C:\\Users\\User\\AppData\\Roaming\\nltk_data...\n",
      "[nltk_data]   Package stopwords is already up-to-date!\n",
      "[nltk_data] Downloading package wordnet to\n",
      "[nltk_data]     C:\\Users\\User\\AppData\\Roaming\\nltk_data...\n",
      "[nltk_data]   Package wordnet is already up-to-date!\n",
      "[nltk_data] Downloading package omw-1.4 to\n",
      "[nltk_data]     C:\\Users\\User\\AppData\\Roaming\\nltk_data...\n",
      "[nltk_data]   Package omw-1.4 is already up-to-date!\n"
     ]
    },
    {
     "data": {
      "text/plain": [
       "True"
      ]
     },
     "execution_count": 45,
     "metadata": {},
     "output_type": "execute_result"
    }
   ],
   "source": [
    "#Importing the necessary libaries\n",
    "import pandas as pd\n",
    "import numpy as np\n",
    "import matplotlib.pyplot as plt\n",
    "import seaborn as sns\n",
    "import itertools\n",
    "from sklearn.metrics import classification_report\n",
    "from sklearn.metrics import confusion_matrix, ConfusionMatrixDisplay\n",
    "from sklearn.preprocessing import StandardScaler\n",
    "from surprise.model_selection import cross_validate\n",
    "from surprise.prediction_algorithms import SVD\n",
    "from surprise.prediction_algorithms import KNNWithMeans, KNNBasic, KNNBaseline\n",
    "from surprise.model_selection import GridSearchCV\n",
    "from sklearn.neighbors import KNeighborsClassifier\n",
    "from scipy.stats import f_oneway\n",
    "import nltk\n",
    "from nltk.tokenize import word_tokenize\n",
    "from nltk.corpus import stopwords\n",
    "from nltk.stem import WordNetLemmatizer\n",
    "from collections import Counter\n",
    "import re\n",
    "from surprise import SVD,Reader, Dataset\n",
    "from surprise.model_selection import cross_validate\n",
    "from surprise.prediction_algorithms.knns import KNNBasic\n",
    "import warnings\n",
    "warnings.filterwarnings(\"ignore\")\n",
    "import string\n",
    "from sklearn.feature_extraction.text import TfidfVectorizer\n",
    "from sklearn.metrics.pairwise import cosine_similarity\n",
    "from scipy.sparse import csr_matrix\n",
    "# Download necessary NLTK resources\n",
    "nltk.download('punkt')\n",
    "nltk.download('stopwords')\n",
    "nltk.download('wordnet')\n",
    "nltk.download('omw-1.4')"
   ]
  },
  {
   "cell_type": "markdown",
   "metadata": {},
   "source": [
    "## Loading  Data"
   ]
  },
  {
   "cell_type": "code",
   "execution_count": 2,
   "metadata": {},
   "outputs": [
    {
     "name": "stderr",
     "output_type": "stream",
     "text": [
      "[nltk_data] Downloading package omw-1.4 to\n",
      "[nltk_data]     C:\\Users\\User\\AppData\\Roaming\\nltk_data...\n",
      "[nltk_data]   Package omw-1.4 is already up-to-date!\n",
      "[nltk_data] Downloading package punkt to\n",
      "[nltk_data]     C:\\Users\\User\\AppData\\Roaming\\nltk_data...\n",
      "[nltk_data]   Package punkt is already up-to-date!\n",
      "[nltk_data] Downloading package stopwords to\n",
      "[nltk_data]     C:\\Users\\User\\AppData\\Roaming\\nltk_data...\n",
      "[nltk_data]   Package stopwords is already up-to-date!\n",
      "[nltk_data] Downloading package wordnet to\n",
      "[nltk_data]     C:\\Users\\User\\AppData\\Roaming\\nltk_data...\n",
      "[nltk_data]   Package wordnet is already up-to-date!\n"
     ]
    }
   ],
   "source": [
    "#loading the csv files\n",
    "from Functions import load_data\n",
    "\n",
    "#Defining the csv file paths \n",
    "movie_file_path = \"Data/movies.csv\"\n",
    "rating_file_path= \"Data/ratings.csv\"\n",
    "tags_file_path= \"Data/tags.csv\""
   ]
  },
  {
   "cell_type": "code",
   "execution_count": 3,
   "metadata": {
    "scrolled": false
   },
   "outputs": [
    {
     "name": "stdout",
     "output_type": "stream",
     "text": [
      "displaying the first 5 rows \n",
      "    movieId                               title  \\\n",
      "0        1                    Toy Story (1995)   \n",
      "1        2                      Jumanji (1995)   \n",
      "2        3             Grumpier Old Men (1995)   \n",
      "3        4            Waiting to Exhale (1995)   \n",
      "4        5  Father of the Bride Part II (1995)   \n",
      "\n",
      "                                        genres  \n",
      "0  Adventure|Animation|Children|Comedy|Fantasy  \n",
      "1                   Adventure|Children|Fantasy  \n",
      "2                               Comedy|Romance  \n",
      "3                         Comedy|Drama|Romance  \n",
      "4                                       Comedy   \n",
      "\n",
      "Shape of the dataset:  (9742, 3) \n",
      "\n",
      "Dataset info:\n",
      "\n",
      "<class 'pandas.core.frame.DataFrame'>\n",
      "RangeIndex: 9742 entries, 0 to 9741\n",
      "Data columns (total 3 columns):\n",
      " #   Column   Non-Null Count  Dtype \n",
      "---  ------   --------------  ----- \n",
      " 0   movieId  9742 non-null   int64 \n",
      " 1   title    9742 non-null   object\n",
      " 2   genres   9742 non-null   object\n",
      "dtypes: int64(1), object(2)\n",
      "memory usage: 228.5+ KB\n",
      "\n",
      "\n",
      "Statistical summary:\n",
      "              movieId\n",
      "count    9742.000000\n",
      "mean    42200.353623\n",
      "std     52160.494854\n",
      "min         1.000000\n",
      "25%      3248.250000\n",
      "50%      7300.000000\n",
      "75%     76232.000000\n",
      "max    193609.000000 \n",
      "\n",
      "percentage of nulls \n",
      " movieId    0.0\n",
      "title      0.0\n",
      "genres     0.0\n",
      "dtype: float64\n"
     ]
    }
   ],
   "source": [
    "#Importing function for loading data\n",
    "from Functions import explore_data\n",
    "\n",
    "#Loading and inspecting the movie csv file\n",
    "movie_df = pd.read_csv(movie_file_path)  \n",
    "explore_data(movie_df)"
   ]
  },
  {
   "cell_type": "code",
   "execution_count": 4,
   "metadata": {},
   "outputs": [
    {
     "name": "stdout",
     "output_type": "stream",
     "text": [
      "displaying the first 5 rows \n",
      "    userId  movieId  rating  timestamp\n",
      "0       1        1     4.0  964982703\n",
      "1       1        3     4.0  964981247\n",
      "2       1        6     4.0  964982224\n",
      "3       1       47     5.0  964983815\n",
      "4       1       50     5.0  964982931 \n",
      "\n",
      "Shape of the dataset:  (100836, 4) \n",
      "\n",
      "Dataset info:\n",
      "\n",
      "<class 'pandas.core.frame.DataFrame'>\n",
      "RangeIndex: 100836 entries, 0 to 100835\n",
      "Data columns (total 4 columns):\n",
      " #   Column     Non-Null Count   Dtype  \n",
      "---  ------     --------------   -----  \n",
      " 0   userId     100836 non-null  int64  \n",
      " 1   movieId    100836 non-null  int64  \n",
      " 2   rating     100836 non-null  float64\n",
      " 3   timestamp  100836 non-null  int64  \n",
      "dtypes: float64(1), int64(3)\n",
      "memory usage: 3.1 MB\n",
      "\n",
      "\n",
      "Statistical summary:\n",
      "               userId        movieId         rating     timestamp\n",
      "count  100836.000000  100836.000000  100836.000000  1.008360e+05\n",
      "mean      326.127564   19435.295718       3.501557  1.205946e+09\n",
      "std       182.618491   35530.987199       1.042529  2.162610e+08\n",
      "min         1.000000       1.000000       0.500000  8.281246e+08\n",
      "25%       177.000000    1199.000000       3.000000  1.019124e+09\n",
      "50%       325.000000    2991.000000       3.500000  1.186087e+09\n",
      "75%       477.000000    8122.000000       4.000000  1.435994e+09\n",
      "max       610.000000  193609.000000       5.000000  1.537799e+09 \n",
      "\n",
      "percentage of nulls \n",
      " userId       0.0\n",
      "movieId      0.0\n",
      "rating       0.0\n",
      "timestamp    0.0\n",
      "dtype: float64\n"
     ]
    }
   ],
   "source": [
    "#Loading and inspecting the movie ratings csv file\n",
    "rating_df = pd.read_csv(rating_file_path)  \n",
    "explore_data(rating_df)"
   ]
  },
  {
   "cell_type": "code",
   "execution_count": 5,
   "metadata": {},
   "outputs": [
    {
     "name": "stdout",
     "output_type": "stream",
     "text": [
      "displaying the first 5 rows \n",
      "    userId  movieId              tag   timestamp\n",
      "0       2    60756            funny  1445714994\n",
      "1       2    60756  Highly quotable  1445714996\n",
      "2       2    60756     will ferrell  1445714992\n",
      "3       2    89774     Boxing story  1445715207\n",
      "4       2    89774              MMA  1445715200 \n",
      "\n",
      "Shape of the dataset:  (3683, 4) \n",
      "\n",
      "Dataset info:\n",
      "\n",
      "<class 'pandas.core.frame.DataFrame'>\n",
      "RangeIndex: 3683 entries, 0 to 3682\n",
      "Data columns (total 4 columns):\n",
      " #   Column     Non-Null Count  Dtype \n",
      "---  ------     --------------  ----- \n",
      " 0   userId     3683 non-null   int64 \n",
      " 1   movieId    3683 non-null   int64 \n",
      " 2   tag        3683 non-null   object\n",
      " 3   timestamp  3683 non-null   int64 \n",
      "dtypes: int64(3), object(1)\n",
      "memory usage: 115.2+ KB\n",
      "\n",
      "\n",
      "Statistical summary:\n",
      "             userId        movieId     timestamp\n",
      "count  3683.000000    3683.000000  3.683000e+03\n",
      "mean    431.149335   27252.013576  1.320032e+09\n",
      "std     158.472553   43490.558803  1.721025e+08\n",
      "min       2.000000       1.000000  1.137179e+09\n",
      "25%     424.000000    1262.500000  1.137521e+09\n",
      "50%     474.000000    4454.000000  1.269833e+09\n",
      "75%     477.000000   39263.000000  1.498457e+09\n",
      "max     610.000000  193565.000000  1.537099e+09 \n",
      "\n",
      "percentage of nulls \n",
      " userId       0.0\n",
      "movieId      0.0\n",
      "tag          0.0\n",
      "timestamp    0.0\n",
      "dtype: float64\n"
     ]
    }
   ],
   "source": [
    "#Loading and inspecting movie tags csv\n",
    "tags_df = pd.read_csv(tags_file_path)  \n",
    "explore_data(tags_df)"
   ]
  },
  {
   "cell_type": "markdown",
   "metadata": {},
   "source": [
    "## Data Cleaning\n",
    "\n",
    "This section will involve checking the following about the dataset.\n",
    "- Accuracy\n",
    "- Validity\n",
    "- Completeness\n",
    "- Uniformity"
   ]
  },
  {
   "cell_type": "markdown",
   "metadata": {},
   "source": [
    "**1. Accuracy**"
   ]
  },
  {
   "cell_type": "markdown",
   "metadata": {},
   "source": [
    "**Checking for duplicates**"
   ]
  },
  {
   "cell_type": "code",
   "execution_count": 6,
   "metadata": {},
   "outputs": [
    {
     "name": "stdout",
     "output_type": "stream",
     "text": [
      "Number of duplicate rows: 0\n",
      "No duplicates found.\n",
      "Number of duplicate rows: 0\n",
      "No duplicates found.\n",
      "Number of duplicate rows: 0\n",
      "No duplicates found.\n"
     ]
    }
   ],
   "source": [
    "#Check for duplicates\n",
    "from Functions import check_and_remove_duplicates\n",
    "# Checking and removing duplicates in movies dataset\n",
    "movie_df = check_and_remove_duplicates(movie_df)\n",
    "\n",
    "# Checking and removing duplicates in ratings dataset\n",
    "rating_df = check_and_remove_duplicates(rating_df)\n",
    "\n",
    "# Checking and removing duplicates in tags dataset\n",
    "tags_df = check_and_remove_duplicates(tags_df)\n"
   ]
  },
  {
   "cell_type": "markdown",
   "metadata": {},
   "source": [
    "**Interpretation**\n",
    "\n",
    "After running the check on all three datasets (movies, ratings, and tags), we confirm that no duplicate rows were found in any of the datasets. Therefore, the data is clean in this regard and requires no further action to remove duplicates, ensuring the integrity of the subsequent analysis."
   ]
  },
  {
   "cell_type": "markdown",
   "metadata": {},
   "source": [
    "**Checking for outliers**"
   ]
  },
  {
   "cell_type": "code",
   "execution_count": 7,
   "metadata": {},
   "outputs": [
    {
     "data": {
      "image/png": "[encoded data removed]",
      "text/plain": [
       "<Figure size 576x432 with 1 Axes>"
      ]
     },
     "metadata": {
      "needs_background": "light"
     },
     "output_type": "display_data"
    }
   ],
   "source": [
    "#Checking for outliers in the 'rating' column of the ratings dataset\n",
    "from Functions import visualize_outliers_with_boxplot\n",
    "visualize_outliers_with_boxplot(rating_df, 'rating')"
   ]
  },
  {
   "cell_type": "markdown",
   "metadata": {},
   "source": [
    "**Interpretation**\n",
    "\n",
    "The boxplot of the rating column shows that most ratings fall between 3.0 and 4.5, indicating a general preference for higher-rated movies, with a few low outliers reflecting strong dislikes.These outliers are retained because they provide meaningful insights into user behavior, particularly reflecting strong negative opinions about certain movies. Low ratings are critical for understanding user dislikes, which is essential for preventing the recommendation system from suggesting unsuitable movies. By maintaining these outliers, the recommendation system can better capture the diversity of user sentiments, leading to more robust and personalized recommendations that accurately represent the full spectrum of user preferences.\n"
   ]
  },
  {
   "cell_type": "markdown",
   "metadata": {},
   "source": [
    "**2.Validity**"
   ]
  },
  {
   "cell_type": "code",
   "execution_count": 8,
   "metadata": {},
   "outputs": [
    {
     "data": {
      "text/plain": [
       "0         1970-01-01\n",
       "1         1970-01-01\n",
       "2         1970-01-01\n",
       "3         1970-01-01\n",
       "4         1970-01-01\n",
       "             ...    \n",
       "100831    1970-01-01\n",
       "100832    1970-01-01\n",
       "100833    1970-01-01\n",
       "100834    1970-01-01\n",
       "100835    1970-01-01\n",
       "Name: timestamp, Length: 100836, dtype: object"
      ]
     },
     "execution_count": 8,
     "metadata": {},
     "output_type": "execute_result"
    }
   ],
   "source": [
    "#Check for consistency in datatypes\n",
    "#Converting Timestamp into DATE format\n",
    "\n",
    "#Converting the timestamp into date format\n",
    "rating_df['timestamp'] = pd.to_datetime(rating_df['timestamp'])\n",
    "tags_df['timestamp']= pd.to_datetime(tags_df['timestamp'])  \n",
    "\n",
    "\n",
    "#Extracting the date\n",
    "\n",
    "rating_df['timestamp'] = rating_df['timestamp'].dt.date\n",
    "tags_df['timestamp']=tags_df['timestamp'].dt.date\n",
    "tags_df['timestamp']\n",
    "rating_df['timestamp']"
   ]
  },
  {
   "cell_type": "code",
   "execution_count": 9,
   "metadata": {},
   "outputs": [
    {
     "data": {
      "text/plain": [
       "1970-01-01    100836\n",
       "Name: timestamp, dtype: int64"
      ]
     },
     "execution_count": 9,
     "metadata": {},
     "output_type": "execute_result"
    }
   ],
   "source": [
    "#Checking for unique values in the date column for the rating csv\n",
    "rating_df['timestamp'].value_counts()"
   ]
  },
  {
   "cell_type": "code",
   "execution_count": 10,
   "metadata": {},
   "outputs": [
    {
     "data": {
      "text/plain": [
       "1970-01-01    3683\n",
       "Name: timestamp, dtype: int64"
      ]
     },
     "execution_count": 10,
     "metadata": {},
     "output_type": "execute_result"
    }
   ],
   "source": [
    "#Checking for unique values in the date column for the tags csv\n",
    "tags_df['timestamp'].value_counts()"
   ]
  },
  {
   "cell_type": "markdown",
   "metadata": {},
   "source": [
    "Since the timestamp column only indicates the time when users rated a movie and all values fall within the same year (1970), it does not add valuable information to our analysis. Therefore, we will drop it from the dataset to streamline our data and focus on more relevant features."
   ]
  },
  {
   "cell_type": "code",
   "execution_count": 11,
   "metadata": {},
   "outputs": [],
   "source": [
    "#Drop irrelevant columns\n",
    "#Dropping the timestamp column\n",
    "rating_df=rating_df.drop('timestamp',axis=1)\n",
    "tags_df=tags_df.drop('timestamp',axis=1)"
   ]
  },
  {
   "cell_type": "code",
   "execution_count": 12,
   "metadata": {},
   "outputs": [
    {
     "data": {
      "text/plain": [
       "Index(['userId', 'movieId', 'rating'], dtype='object')"
      ]
     },
     "execution_count": 12,
     "metadata": {},
     "output_type": "execute_result"
    }
   ],
   "source": [
    "#Confirm the column names after dropping timestamp\n",
    "rating_df.columns"
   ]
  },
  {
   "cell_type": "code",
   "execution_count": 13,
   "metadata": {},
   "outputs": [
    {
     "data": {
      "text/plain": [
       "Index(['userId', 'movieId', 'tag'], dtype='object')"
      ]
     },
     "execution_count": 13,
     "metadata": {},
     "output_type": "execute_result"
    }
   ],
   "source": [
    "#Confirm the column names after dropping the timestamp column\n",
    "tags_df.columns"
   ]
  },
  {
   "cell_type": "code",
   "execution_count": 14,
   "metadata": {},
   "outputs": [
    {
     "data": {
      "text/plain": [
       "' The column names are consistent in naming for all files. They are also all in lower case.'"
      ]
     },
     "execution_count": 14,
     "metadata": {},
     "output_type": "execute_result"
    }
   ],
   "source": [
    "#Checking for column names\n",
    "\"\"\" The column names are consistent in naming for all files. They are also all in lower case.\"\"\""
   ]
  },
  {
   "cell_type": "markdown",
   "metadata": {},
   "source": [
    "**3.Completeness**"
   ]
  },
  {
   "cell_type": "code",
   "execution_count": 15,
   "metadata": {},
   "outputs": [
    {
     "data": {
      "text/plain": [
       "'\\nThe data presented not to have any missing values, so no imputation was done.\\n\\n'"
      ]
     },
     "execution_count": 15,
     "metadata": {},
     "output_type": "execute_result"
    }
   ],
   "source": [
    "#Impute missing values\n",
    "\"\"\"\n",
    "The data presented not to have any missing values, so no imputation was done.\n",
    "\n",
    "\"\"\""
   ]
  },
  {
   "cell_type": "markdown",
   "metadata": {},
   "source": [
    "**4. Consistency/Uniformity**"
   ]
  },
  {
   "cell_type": "code",
   "execution_count": 16,
   "metadata": {},
   "outputs": [
    {
     "data": {
      "text/plain": [
       "'\\nAll the columns displayed consistency in their naming and were all in lower case.\\n'"
      ]
     },
     "execution_count": 16,
     "metadata": {},
     "output_type": "execute_result"
    }
   ],
   "source": [
    "#Column names capitalization\n",
    "\"\"\"\n",
    "All the columns displayed consistency in their naming and were all in lower case.\n",
    "\"\"\""
   ]
  },
  {
   "cell_type": "code",
   "execution_count": 17,
   "metadata": {},
   "outputs": [
    {
     "data": {
      "text/plain": [
       "'\\nAll the movie ratings were in the same range, ranging from 0.5 to 5 star rating, with no missing value as well.\\n'"
      ]
     },
     "execution_count": 17,
     "metadata": {},
     "output_type": "execute_result"
    }
   ],
   "source": [
    "#Checking if ratings lie within the same range\n",
    "\"\"\"\n",
    "All the movie ratings were in the same range, ranging from 0.5 to 5 star rating, with no missing value as well.\n",
    "\"\"\""
   ]
  },
  {
   "cell_type": "code",
   "execution_count": 18,
   "metadata": {},
   "outputs": [
    {
     "data": {
      "text/plain": [
       "0       1995\n",
       "1       1995\n",
       "2       1995\n",
       "3       1995\n",
       "4       1995\n",
       "        ... \n",
       "9737    2017\n",
       "9738    2017\n",
       "9739    2017\n",
       "9740    2018\n",
       "9741    1991\n",
       "Name: Release_year, Length: 9742, dtype: int64"
      ]
     },
     "execution_count": 18,
     "metadata": {},
     "output_type": "execute_result"
    }
   ],
   "source": [
    "# Splitting the movie titles from the years\n",
    "movie_df[\"Release_year\"] = movie_df[\"title\"].apply( lambda x: x[-5:-1] if x[-5:-1].isdigit() else \"0000\")\n",
    "movie_df[\"Release_year\"] = movie_df[\"Release_year\"].astype(\"int64\")\n",
    "movie_df[\"Release_year\"]"
   ]
  },
  {
   "cell_type": "code",
   "execution_count": 19,
   "metadata": {},
   "outputs": [
    {
     "data": {
      "text/plain": [
       "array(['Adventure|Animation|Children|Comedy|Fantasy',\n",
       "       'Adventure|Children|Fantasy', 'Comedy|Romance',\n",
       "       'Comedy|Drama|Romance', 'Comedy', 'Action|Crime|Thriller',\n",
       "       'Adventure|Children', 'Action', 'Action|Adventure|Thriller',\n",
       "       'Comedy|Horror', 'Adventure|Animation|Children', 'Drama',\n",
       "       'Action|Adventure|Romance', 'Crime|Drama', 'Drama|Romance',\n",
       "       'Action|Comedy|Crime|Drama|Thriller', 'Comedy|Crime|Thriller',\n",
       "       'Crime|Drama|Horror|Mystery|Thriller', 'Drama|Sci-Fi',\n",
       "       'Children|Drama', 'Adventure|Drama|Fantasy|Mystery|Sci-Fi',\n",
       "       'Mystery|Sci-Fi|Thriller', 'Children|Comedy', 'Drama|War',\n",
       "       'Action|Crime|Drama', 'Action|Adventure|Fantasy',\n",
       "       'Comedy|Drama|Thriller', 'Mystery|Thriller',\n",
       "       'Animation|Children|Drama|Musical|Romance',\n",
       "       'Crime|Mystery|Thriller', 'Adventure|Drama', 'Drama|Thriller',\n",
       "       'Comedy|Crime', 'Action|Sci-Fi|Thriller',\n",
       "       'Action|Comedy|Horror|Thriller', 'Comedy|Drama', 'Documentary',\n",
       "       'Action|Crime|Drama|Thriller', 'Crime|Drama|Romance',\n",
       "       'Action|Adventure|Drama'], dtype=object)"
      ]
     },
     "execution_count": 19,
     "metadata": {},
     "output_type": "execute_result"
    }
   ],
   "source": [
    "movie_df[\"genres\"].unique()[:40]"
   ]
  },
  {
   "cell_type": "markdown",
   "metadata": {},
   "source": [
    "Most movies seem to be a **combination of multiple genres** hence why there are so so many unique combinations.\n",
    "\n",
    "Let's seperate these combinations into individual genres and get more granular data"
   ]
  },
  {
   "cell_type": "code",
   "execution_count": 20,
   "metadata": {},
   "outputs": [
    {
     "data": {
      "text/html": [
       "<div>\n",
       "<style scoped>\n",
       "    .dataframe tbody tr th:only-of-type {\n",
       "        vertical-align: middle;\n",
       "    }\n",
       "\n",
       "    .dataframe tbody tr th {\n",
       "        vertical-align: top;\n",
       "    }\n",
       "\n",
       "    .dataframe thead th {\n",
       "        text-align: right;\n",
       "    }\n",
       "</style>\n",
       "<table border=\"1\" class=\"dataframe\">\n",
       "  <thead>\n",
       "    <tr style=\"text-align: right;\">\n",
       "      <th></th>\n",
       "      <th>movieId</th>\n",
       "      <th>title</th>\n",
       "      <th>genres</th>\n",
       "      <th>Release_year</th>\n",
       "    </tr>\n",
       "  </thead>\n",
       "  <tbody>\n",
       "    <tr>\n",
       "      <th>0</th>\n",
       "      <td>1</td>\n",
       "      <td>Toy Story (1995)</td>\n",
       "      <td>Adventure</td>\n",
       "      <td>1995</td>\n",
       "    </tr>\n",
       "    <tr>\n",
       "      <th>1</th>\n",
       "      <td>1</td>\n",
       "      <td>Toy Story (1995)</td>\n",
       "      <td>Animation</td>\n",
       "      <td>1995</td>\n",
       "    </tr>\n",
       "    <tr>\n",
       "      <th>2</th>\n",
       "      <td>1</td>\n",
       "      <td>Toy Story (1995)</td>\n",
       "      <td>Children</td>\n",
       "      <td>1995</td>\n",
       "    </tr>\n",
       "    <tr>\n",
       "      <th>3</th>\n",
       "      <td>1</td>\n",
       "      <td>Toy Story (1995)</td>\n",
       "      <td>Comedy</td>\n",
       "      <td>1995</td>\n",
       "    </tr>\n",
       "    <tr>\n",
       "      <th>4</th>\n",
       "      <td>1</td>\n",
       "      <td>Toy Story (1995)</td>\n",
       "      <td>Fantasy</td>\n",
       "      <td>1995</td>\n",
       "    </tr>\n",
       "  </tbody>\n",
       "</table>\n",
       "</div>"
      ],
      "text/plain": [
       "   movieId             title     genres  Release_year\n",
       "0        1  Toy Story (1995)  Adventure          1995\n",
       "1        1  Toy Story (1995)  Animation          1995\n",
       "2        1  Toy Story (1995)   Children          1995\n",
       "3        1  Toy Story (1995)     Comedy          1995\n",
       "4        1  Toy Story (1995)    Fantasy          1995"
      ]
     },
     "execution_count": 20,
     "metadata": {},
     "output_type": "execute_result"
    }
   ],
   "source": [
    "# seperate the combinations into individual genres by removing the \",\" seperators\n",
    "movie_df['genres'] = movie_df['genres'].str.split('|')\n",
    "\n",
    "# create a new Exploded dataframe with the list of genres into individual rows\n",
    "movie_df= movie_df.explode('genres').reset_index(drop=True)\n",
    "\n",
    "\n",
    "movie_df.head()"
   ]
  },
  {
   "cell_type": "markdown",
   "metadata": {},
   "source": [
    "The genres column is now made up of lists of individual genres."
   ]
  },
  {
   "cell_type": "markdown",
   "metadata": {},
   "source": [
    "**Merging the movie_df with rating_df** "
   ]
  },
  {
   "cell_type": "code",
   "execution_count": 21,
   "metadata": {},
   "outputs": [
    {
     "data": {
      "text/html": [
       "<div>\n",
       "<style scoped>\n",
       "    .dataframe tbody tr th:only-of-type {\n",
       "        vertical-align: middle;\n",
       "    }\n",
       "\n",
       "    .dataframe tbody tr th {\n",
       "        vertical-align: top;\n",
       "    }\n",
       "\n",
       "    .dataframe thead th {\n",
       "        text-align: right;\n",
       "    }\n",
       "</style>\n",
       "<table border=\"1\" class=\"dataframe\">\n",
       "  <thead>\n",
       "    <tr style=\"text-align: right;\">\n",
       "      <th></th>\n",
       "      <th>userId</th>\n",
       "      <th>movieId</th>\n",
       "      <th>rating</th>\n",
       "      <th>title</th>\n",
       "      <th>genres</th>\n",
       "      <th>Release_year</th>\n",
       "    </tr>\n",
       "  </thead>\n",
       "  <tbody>\n",
       "    <tr>\n",
       "      <th>0</th>\n",
       "      <td>1</td>\n",
       "      <td>1</td>\n",
       "      <td>4.0</td>\n",
       "      <td>Toy Story (1995)</td>\n",
       "      <td>Adventure</td>\n",
       "      <td>1995</td>\n",
       "    </tr>\n",
       "    <tr>\n",
       "      <th>1</th>\n",
       "      <td>1</td>\n",
       "      <td>1</td>\n",
       "      <td>4.0</td>\n",
       "      <td>Toy Story (1995)</td>\n",
       "      <td>Animation</td>\n",
       "      <td>1995</td>\n",
       "    </tr>\n",
       "    <tr>\n",
       "      <th>2</th>\n",
       "      <td>1</td>\n",
       "      <td>1</td>\n",
       "      <td>4.0</td>\n",
       "      <td>Toy Story (1995)</td>\n",
       "      <td>Children</td>\n",
       "      <td>1995</td>\n",
       "    </tr>\n",
       "    <tr>\n",
       "      <th>3</th>\n",
       "      <td>1</td>\n",
       "      <td>1</td>\n",
       "      <td>4.0</td>\n",
       "      <td>Toy Story (1995)</td>\n",
       "      <td>Comedy</td>\n",
       "      <td>1995</td>\n",
       "    </tr>\n",
       "    <tr>\n",
       "      <th>4</th>\n",
       "      <td>1</td>\n",
       "      <td>1</td>\n",
       "      <td>4.0</td>\n",
       "      <td>Toy Story (1995)</td>\n",
       "      <td>Fantasy</td>\n",
       "      <td>1995</td>\n",
       "    </tr>\n",
       "    <tr>\n",
       "      <th>...</th>\n",
       "      <td>...</td>\n",
       "      <td>...</td>\n",
       "      <td>...</td>\n",
       "      <td>...</td>\n",
       "      <td>...</td>\n",
       "      <td>...</td>\n",
       "    </tr>\n",
       "    <tr>\n",
       "      <th>274475</th>\n",
       "      <td>610</td>\n",
       "      <td>160836</td>\n",
       "      <td>3.0</td>\n",
       "      <td>Hazard (2005)</td>\n",
       "      <td>Drama</td>\n",
       "      <td>2005</td>\n",
       "    </tr>\n",
       "    <tr>\n",
       "      <th>274476</th>\n",
       "      <td>610</td>\n",
       "      <td>160836</td>\n",
       "      <td>3.0</td>\n",
       "      <td>Hazard (2005)</td>\n",
       "      <td>Thriller</td>\n",
       "      <td>2005</td>\n",
       "    </tr>\n",
       "    <tr>\n",
       "      <th>274477</th>\n",
       "      <td>610</td>\n",
       "      <td>163937</td>\n",
       "      <td>3.5</td>\n",
       "      <td>Blair Witch (2016)</td>\n",
       "      <td>Horror</td>\n",
       "      <td>2016</td>\n",
       "    </tr>\n",
       "    <tr>\n",
       "      <th>274478</th>\n",
       "      <td>610</td>\n",
       "      <td>163937</td>\n",
       "      <td>3.5</td>\n",
       "      <td>Blair Witch (2016)</td>\n",
       "      <td>Thriller</td>\n",
       "      <td>2016</td>\n",
       "    </tr>\n",
       "    <tr>\n",
       "      <th>274479</th>\n",
       "      <td>610</td>\n",
       "      <td>163981</td>\n",
       "      <td>3.5</td>\n",
       "      <td>31 (2016)</td>\n",
       "      <td>Horror</td>\n",
       "      <td>2016</td>\n",
       "    </tr>\n",
       "  </tbody>\n",
       "</table>\n",
       "<p>274480 rows × 6 columns</p>\n",
       "</div>"
      ],
      "text/plain": [
       "        userId  movieId  rating               title     genres  Release_year\n",
       "0            1        1     4.0    Toy Story (1995)  Adventure          1995\n",
       "1            1        1     4.0    Toy Story (1995)  Animation          1995\n",
       "2            1        1     4.0    Toy Story (1995)   Children          1995\n",
       "3            1        1     4.0    Toy Story (1995)     Comedy          1995\n",
       "4            1        1     4.0    Toy Story (1995)    Fantasy          1995\n",
       "...        ...      ...     ...                 ...        ...           ...\n",
       "274475     610   160836     3.0       Hazard (2005)      Drama          2005\n",
       "274476     610   160836     3.0       Hazard (2005)   Thriller          2005\n",
       "274477     610   163937     3.5  Blair Witch (2016)     Horror          2016\n",
       "274478     610   163937     3.5  Blair Witch (2016)   Thriller          2016\n",
       "274479     610   163981     3.5           31 (2016)     Horror          2016\n",
       "\n",
       "[274480 rows x 6 columns]"
      ]
     },
     "execution_count": 21,
     "metadata": {},
     "output_type": "execute_result"
    }
   ],
   "source": [
    "merged_df=pd.merge(rating_df,movie_df, on='movieId')\n",
    "merged_df"
   ]
  },
  {
   "cell_type": "code",
   "execution_count": 22,
   "metadata": {},
   "outputs": [
    {
     "name": "stdout",
     "output_type": "stream",
     "text": [
      "displaying the first 5 rows \n",
      "    userId  movieId  rating             title     genres  Release_year\n",
      "0       1        1     4.0  Toy Story (1995)  Adventure          1995\n",
      "1       1        1     4.0  Toy Story (1995)  Animation          1995\n",
      "2       1        1     4.0  Toy Story (1995)   Children          1995\n",
      "3       1        1     4.0  Toy Story (1995)     Comedy          1995\n",
      "4       1        1     4.0  Toy Story (1995)    Fantasy          1995 \n",
      "\n",
      "Shape of the dataset:  (274480, 6) \n",
      "\n",
      "Dataset info:\n",
      "\n",
      "<class 'pandas.core.frame.DataFrame'>\n",
      "Int64Index: 274480 entries, 0 to 274479\n",
      "Data columns (total 6 columns):\n",
      " #   Column        Non-Null Count   Dtype  \n",
      "---  ------        --------------   -----  \n",
      " 0   userId        274480 non-null  int64  \n",
      " 1   movieId       274480 non-null  int64  \n",
      " 2   rating        274480 non-null  float64\n",
      " 3   title         274480 non-null  object \n",
      " 4   genres        274480 non-null  object \n",
      " 5   Release_year  274480 non-null  int64  \n",
      "dtypes: float64(1), int64(3), object(2)\n",
      "memory usage: 14.7+ MB\n",
      "\n",
      "\n",
      "Statistical summary:\n",
      "               userId        movieId         rating   Release_year\n",
      "count  274480.000000  274480.000000  274480.000000  274480.000000\n",
      "mean      324.707607   20302.543398       3.517797    1994.467295\n",
      "std       182.550241   35369.990843       1.034705      34.297612\n",
      "min         1.000000       1.000000       0.500000       0.000000\n",
      "25%       177.000000    1198.000000       3.000000    1991.000000\n",
      "50%       323.000000    3037.000000       3.500000    1997.000000\n",
      "75%       477.000000    8961.000000       4.000000    2004.000000\n",
      "max       610.000000  193609.000000       5.000000    2018.000000 \n",
      "\n",
      "percentage of nulls \n",
      " userId          0.0\n",
      "movieId         0.0\n",
      "rating          0.0\n",
      "title           0.0\n",
      "genres          0.0\n",
      "Release_year    0.0\n",
      "dtype: float64\n"
     ]
    }
   ],
   "source": [
    "explore_data(merged_df)"
   ]
  },
  {
   "cell_type": "markdown",
   "metadata": {},
   "source": [
    "**Checking for the Distribution of the data**"
   ]
  },
  {
   "cell_type": "code",
   "execution_count": 23,
   "metadata": {},
   "outputs": [
    {
     "data": {
      "image/png": "[encoded data removed]",
      "text/plain": [
       "<Figure size 720x720 with 3 Axes>"
      ]
     },
     "metadata": {
      "needs_background": "light"
     },
     "output_type": "display_data"
    }
   ],
   "source": [
    "numerical_cols_df = merged_df[[\"rating\", \"movieId\", \"userId\"]]\n",
    "\n",
    "# Create 4x4 grid of subplots\n",
    "fig, axes = plt.subplots(3, figsize=(10,10))\n",
    "\n",
    "# Flatten axes array for easy iteration\n",
    "axes = axes.flatten()\n",
    "\n",
    "# Looping through each column and plotting in the respective subplot\n",
    "for i, col in enumerate(numerical_cols_df):\n",
    "    sns.histplot(x=rating_df[col], ax=axes[i], kde=True)  \n",
    "    axes[i].set_title(f'Distribution of {col}')  \n",
    "\n",
    "# Adjust layout for better spacing\n",
    "plt.tight_layout()\n",
    "\n",
    "# Show the plots\n",
    "plt.show()"
   ]
  },
  {
   "cell_type": "markdown",
   "metadata": {},
   "source": [
    "**Interpretation**\n",
    "\n",
    "The analysis reveals that movie ratings are generally skewed towards higher values, with most users giving positive feedback. Although there are a few instances of very low ratings, these are exceptions rather than the norm. \n",
    "\n",
    "Regarding movie IDs, the distribution shows a heavy right-skew, indicating that while many movies receive few ratings, a smaller set of movies attracts a large number of ratings. \n",
    "\n",
    "Lastly, the distribution of user IDs is relatively uniform, suggesting that a moderate number of users contribute a similar amount of ratings, although some users may rate more frequently than others.\n",
    "\n",
    "To address the skewness in the data, we will apply MinMax scaling during the modeling phase.Since we decided to retain the outliers in our analysis, MinMax scaling will normalize the data to a fixed range while preserving the relative relationships between the features, including the outliers."
   ]
  },
  {
   "cell_type": "markdown",
   "metadata": {},
   "source": [
    "## Exploratory Data Analysis"
   ]
  },
  {
   "cell_type": "markdown",
   "metadata": {},
   "source": [
    "**1. To identify the top 10 most popular genres based on the number of user ratings.**\n"
   ]
  },
  {
   "cell_type": "code",
   "execution_count": 24,
   "metadata": {},
   "outputs": [
    {
     "name": "stdout",
     "output_type": "stream",
     "text": [
      "       genres  Rating_Count\n",
      "8       Drama         41928\n",
      "5      Comedy         39053\n",
      "1      Action         30635\n",
      "17   Thriller         26452\n",
      "2   Adventure         24161\n",
      "15    Romance         18124\n",
      "16     Sci-Fi         17243\n",
      "6       Crime         16681\n",
      "9     Fantasy         11834\n",
      "4    Children          9208\n"
     ]
    }
   ],
   "source": [
    "# Group by genres and calculate the total number of ratings\n",
    "genre_ratings = merged_df.groupby('genres').agg(\n",
    "    Rating_Count=('rating', 'count')\n",
    ").reset_index()\n",
    "\n",
    "# Sort genres by the number of ratings and select the top 10\n",
    "top_genres = genre_ratings.sort_values(by='Rating_Count', ascending=False).head(10)\n",
    "\n",
    "# Display the top 10 genres\n",
    "print(top_genres)"
   ]
  },
  {
   "cell_type": "code",
   "execution_count": 25,
   "metadata": {},
   "outputs": [
    {
     "data": {
      "image/png": "[encoded data removed]",
      "text/plain": [
       "<Figure size 720x432 with 1 Axes>"
      ]
     },
     "metadata": {
      "needs_background": "light"
     },
     "output_type": "display_data"
    }
   ],
   "source": [
    "# Plotting the top 10 genres\n",
    "plt.figure(figsize=(10, 6))\n",
    "sns.barplot(x='Rating_Count', y='genres', data=top_genres, palette='viridis')\n",
    "plt.title('Top 10 Most Popular Genres Based on User Ratings')\n",
    "plt.xlabel('Number of Ratings')\n",
    "plt.ylabel('Genres')\n",
    "plt.show();"
   ]
  },
  {
   "cell_type": "markdown",
   "metadata": {},
   "source": [
    "**Interpretation**\n",
    "\n",
    "The graph displays the top 10 most-rated genres, with Drama having the highest number of user ratings, followed by Comedy and Action. This sheds light on the kind of genres which were highly watched by different users."
   ]
  },
  {
   "cell_type": "markdown",
   "metadata": {},
   "source": [
    "**2. To Identify the top 10 Genres with the highest ratings**"
   ]
  },
  {
   "cell_type": "code",
   "execution_count": 26,
   "metadata": {
    "scrolled": false
   },
   "outputs": [
    {
     "data": {
      "image/png": "[encoded data removed]",
      "text/plain": [
       "<Figure size 720x432 with 1 Axes>"
      ]
     },
     "metadata": {
      "needs_background": "light"
     },
     "output_type": "display_data"
    }
   ],
   "source": [
    "# Group by genre and calculate the average rating for each genre\n",
    "top_10_genres_avg_rating =merged_df.groupby('genres')['rating'].mean().sort_values(ascending=False)\n",
    "\n",
    "# Select the top 10 genres\n",
    "top_10_genres = top_10_genres_avg_rating.head(10)\n",
    "\n",
    "# Plotting the top 10 genres by average rating\n",
    "plt.figure(figsize=(10,6))\n",
    "top_10_genres.plot(kind='bar', color='skyblue')\n",
    "\n",
    "# Adding title and labels\n",
    "plt.title('Top 10 Genres by Average Rating', fontsize=16)\n",
    "plt.xlabel('Genre', fontsize=14)\n",
    "plt.ylabel('Average Rating', fontsize=14)\n",
    "plt.xticks(rotation=45, ha='right')\n",
    "plt.tight_layout()\n",
    "\n",
    "# Show the plot\n",
    "plt.show()"
   ]
  },
  {
   "cell_type": "markdown",
   "metadata": {},
   "source": [
    "**Interpretation**\n",
    "\n",
    "The graph presents the genres which were highly rated, with Film-Noir presenting to have the highest rating, followed by war then documentary."
   ]
  },
  {
   "cell_type": "markdown",
   "metadata": {},
   "source": [
    "**3. To Identify the distribution of movie ratings per user**"
   ]
  },
  {
   "cell_type": "code",
   "execution_count": 27,
   "metadata": {
    "scrolled": false
   },
   "outputs": [
    {
     "data": {
      "image/png": "[encoded data removed]",
      "text/plain": [
       "<Figure size 864x432 with 1 Axes>"
      ]
     },
     "metadata": {
      "needs_background": "light"
     },
     "output_type": "display_data"
    }
   ],
   "source": [
    "# Display the average ratings per user\n",
    "ratings_per_user = merged_df.groupby('userId')['rating'].mean()\n",
    "\n",
    "# Create a histogram of ratings per user\n",
    "plt.figure(figsize=(12, 6))\n",
    "ratings_per_user.plot(kind='hist', bins=50, color='skyblue', edgecolor='black') \n",
    "\n",
    "# Customize the plot\n",
    "plt.title('Distribution of average Ratings per User')\n",
    "plt.xlabel('Ratings')\n",
    "plt.ylabel('Frequency of Users')\n",
    "plt.grid(axis='y', linestyle='--', alpha=0.5)\n",
    "\n",
    "# Show the plot\n",
    "plt.show()"
   ]
  },
  {
   "cell_type": "markdown",
   "metadata": {},
   "source": [
    "**Interpretation**\n",
    "\n",
    "The distribution indicates that the majority of movie ratings fall within the 2 to 4.5 star range, suggesting that most users tend to rate movies positively. However, the presence of a few low ratings below 2 stars highlights that there are still some users who express strong dissatisfaction, potentially due to varying expectations or specific negative experiences with certain films."
   ]
  },
  {
   "cell_type": "markdown",
   "metadata": {},
   "source": [
    "**4.To identify the trend of movies' production by decade**"
   ]
  },
  {
   "cell_type": "code",
   "execution_count": 28,
   "metadata": {},
   "outputs": [
    {
     "data": {
      "image/png": "[encoded data removed]",
      "text/plain": [
       "<Figure size 864x432 with 1 Axes>"
      ]
     },
     "metadata": {
      "needs_background": "light"
     },
     "output_type": "display_data"
    }
   ],
   "source": [
    "# Calculate the number of movies by decade\n",
    "movie_df['Decade'] = (movie_df['Release_year'] // 10) * 10\n",
    "movies_by_decade = movie_df.groupby('Decade').size()\n",
    "\n",
    "# Extract decades and counts\n",
    "decades = movies_by_decade.index\n",
    "counts = movies_by_decade.values\n",
    "\n",
    "# Create the line plot\n",
    "plt.figure(figsize=(12, 6))\n",
    "sns.lineplot(x=decades.astype(str), y=counts, marker='o', color='blue') \n",
    "\n",
    "# Add labels and title\n",
    "plt.title('Trend of Movie production by Decade', fontsize=16)\n",
    "plt.xlabel('Decade', fontsize=14)\n",
    "plt.ylabel('Number of Movies', fontsize=14) \n",
    "\n",
    "# Customize x-axis ticks\n",
    "plt.xticks(rotation=45, ha='right') \n",
    "\n",
    "# Show the plot\n",
    "plt.show()"
   ]
  },
  {
   "cell_type": "markdown",
   "metadata": {},
   "source": [
    "**Interpretation**\n",
    "\n",
    "The graph presents that movie production remained slow in the 1900s, but saw a significant increase starting in the 1970s. This upward trajectory can be attributed to technological advancements, higher demand for films, and greater investment in the film industry. However, from the 2000s onward, production is seen to fluctuate, likely due to changes in market dynamics, including the rise of digital streaming platforms, evolving consumer preferences, and increased competition within the entertainment industry."
   ]
  },
  {
   "cell_type": "markdown",
   "metadata": {},
   "source": [
    "**5. To examine the number of ratings per movie**"
   ]
  },
  {
   "cell_type": "code",
   "execution_count": 29,
   "metadata": {},
   "outputs": [
    {
     "ename": "NameError",
     "evalue": "name 'ratings_per_movie' is not defined",
     "output_type": "error",
     "traceback": [
      "\u001b[1;31m---------------------------------------------------------------------------\u001b[0m",
      "\u001b[1;31mNameError\u001b[0m                                 Traceback (most recent call last)",
      "\u001b[1;32m<ipython-input-29-5621c20dba75>\u001b[0m in \u001b[0;36m<module>\u001b[1;34m\u001b[0m\n\u001b[0;32m      3\u001b[0m \u001b[1;33m\u001b[0m\u001b[0m\n\u001b[0;32m      4\u001b[0m \u001b[1;31m# Filter ratings per movie to focus on movies with less than the threshold\u001b[0m\u001b[1;33m\u001b[0m\u001b[1;33m\u001b[0m\u001b[1;33m\u001b[0m\u001b[0m\n\u001b[1;32m----> 5\u001b[1;33m \u001b[0mfiltered_ratings\u001b[0m \u001b[1;33m=\u001b[0m \u001b[0mratings_per_movie\u001b[0m\u001b[1;33m[\u001b[0m\u001b[0mratings_per_movie\u001b[0m \u001b[1;33m<=\u001b[0m \u001b[0mratings_threshold\u001b[0m\u001b[1;33m]\u001b[0m\u001b[1;33m\u001b[0m\u001b[1;33m\u001b[0m\u001b[0m\n\u001b[0m\u001b[0;32m      6\u001b[0m \u001b[1;33m\u001b[0m\u001b[0m\n\u001b[0;32m      7\u001b[0m \u001b[1;31m# Plot the histogram for the filtered data\u001b[0m\u001b[1;33m\u001b[0m\u001b[1;33m\u001b[0m\u001b[1;33m\u001b[0m\u001b[0m\n",
      "\u001b[1;31mNameError\u001b[0m: name 'ratings_per_movie' is not defined"
     ]
    }
   ],
   "source": [
    "# Set a threshold to focus on movies with a reasonable number of ratings\n",
    "ratings_threshold = 50  \n",
    "\n",
    "# Filter ratings per movie to focus on movies with less than the threshold\n",
    "filtered_ratings = ratings_per_movie[ratings_per_movie <= ratings_threshold]\n",
    "\n",
    "# Plot the histogram for the filtered data\n",
    "plt.figure(figsize=(12, 6))\n",
    "sns.histplot(filtered_ratings, bins=30, kde=False, color='skyblue')\n",
    "plt.title('Distribution of Number of Ratings Per Movie (Filtered)', fontsize=16)\n",
    "plt.xlabel('Number of Ratings', fontsize=14)\n",
    "plt.ylabel('Count of Movies', fontsize=14)\n",
    "plt.xticks(fontsize=12)\n",
    "plt.yticks(fontsize=12)\n",
    "plt.show()"
   ]
  },
  {
   "cell_type": "markdown",
   "metadata": {},
   "source": []
  },
  {
   "cell_type": "markdown",
   "metadata": {},
   "source": [
    "**6. To identify if there is a relationship between movie genres and ratings.**"
   ]
  },
  {
   "cell_type": "markdown",
   "metadata": {},
   "source": [
    "Null Hypothesis (H₀): There is no relationship between movie genres and ratings.\n",
    "\n",
    "Alternative Hypothesis (H₁): There is a significant relationship between movie genres and ratings."
   ]
  },
  {
   "cell_type": "code",
   "execution_count": null,
   "metadata": {},
   "outputs": [],
   "source": [
    "genre_ratings = merged_df.groupby('genres')['rating'].apply(list)\n",
    "\n",
    "# Perform one-way ANOVA (if assumptions are satisfied)\n",
    "anova_result = f_oneway(*genre_ratings)\n",
    "print('ANOVA result:', anova_result)"
   ]
  },
  {
   "cell_type": "markdown",
   "metadata": {},
   "source": [
    "**Interpretation**\n",
    "\n",
    "F-statistic: 176.87 suggests a large difference between the mean ratings of the different genres.\n",
    "\n",
    "Since the p-value is less than 0.05, we reject the null hypothesis. This means that there is a significant difference between the average ratings of at least some of the movie genres."
   ]
  },
  {
   "cell_type": "markdown",
   "metadata": {},
   "source": [
    "**Examining rating distributions by genre**"
   ]
  },
  {
   "cell_type": "code",
   "execution_count": null,
   "metadata": {},
   "outputs": [],
   "source": [
    "plt.figure(figsize=(12, 6))\n",
    "sns.boxplot(x='genres', y='rating', data=merged_df, palette='viridis')\n",
    "plt.xticks(rotation=45)\n",
    "plt.title('Distribution of Ratings by Genre')\n",
    "plt.show()"
   ]
  },
  {
   "cell_type": "markdown",
   "metadata": {},
   "source": [
    "**Interpretation**\n",
    "\n",
    "Since the hypothesis testing highlighted that there is a significant difference in ratings by genre, the above box plots displays how these ratings vary by genre. With some genre ratings ranging from 3-4 star ratings , others 2.5 to 4.5 star ratings while others 3.5 to 4.5 star rating.This disparity reveals that, certain genres tend to receive more consistent ratings, while others experience greater variability, possibly reflecting differing audience expectations, preferences, or subjective opinions about the films within each genre."
   ]
  },
  {
   "cell_type": "markdown",
   "metadata": {},
   "source": [
    "**7. To examine user-generated tags to identify popular keywords associated with movie themes.**"
   ]
  },
  {
   "cell_type": "code",
   "execution_count": null,
   "metadata": {},
   "outputs": [],
   "source": [
    "# Initialize lemmatizer and stop words list\n",
    "lemmatizer = WordNetLemmatizer()\n",
    "stop_words = set(stopwords.words('english'))\n",
    "\n",
    "# converting the tags to lowercase and removing non-alphabetic characters\n",
    "tags_df['tag'] = tags_df['tag'].str.lower().apply(lambda x: re.sub(r'[^a-z\\s]', '', x))\n",
    "\n",
    "# Tokenize the tags, remove stop words, and apply lemmatization\n",
    "tags_df['processed_tag'] = tags_df['tag'].apply(lambda x: [\n",
    "    lemmatizer.lemmatize(word) for word in word_tokenize(x) if word not in stop_words\n",
    "])\n",
    "\n",
    "# Flatten the list of lists to get all words in one list\n",
    "all_words = [word for tag in tags_df['processed_tag'] for word in tag]\n",
    "\n",
    "# Get word frequency\n",
    "word_counts = pd.Series(all_words).value_counts().reset_index()\n",
    "word_counts.columns = ['word', 'count']\n",
    "\n",
    "# Display the top 10 most frequent words\n",
    "top_10_words = word_counts.head(10)\n",
    "\n",
    "# Plotting the top 10 words\n",
    "plt.figure(figsize=(10, 6))\n",
    "plt.bar(top_10_words['word'], top_10_words['count'], color='skyblue')\n",
    "plt.xticks(rotation=45, ha='right')\n",
    "plt.xlabel('Words')\n",
    "plt.ylabel('Frequency')\n",
    "plt.title('Top 10 Most Frequent Words in Movie Tags')\n",
    "plt.show()\n",
    "\n",
    "# Print the top 10 words\n",
    "print(top_10_words)"
   ]
  },
  {
   "cell_type": "markdown",
   "metadata": {},
   "source": [
    "**Interpretation**\n",
    "\n",
    "The most frequent words highlights on users preferences.\n",
    "\n",
    "- Netflix being on the top would highly imply that most movies were watched from netflix.\n",
    "\n",
    "- Queue would indicate that most users usually tag or add movies to their watchlist.\n",
    "\n",
    "- Word like Ending would suggest that most users are particularly focused on the conclusion of movies implying that a movie's ending is a key feature for most films.\n",
    "\n",
    "- The word Movie appears commonly to reflect that most users tag films as 'movies' compared to the 'series' term. This implies that movie is frequently watched compared to series.\n",
    "\n",
    "- Other words such as funny, dark and comedy highlights on the frequently watched themes, which would be key in offering a movie recommendation.\n",
    "\n",
    "- Sci-Fi, space and Atmospheric implies that there is also a good chunk of users who are drawn to watching movies related to science fiction genres or movies with strong mood setting."
   ]
  },
  {
   "cell_type": "markdown",
   "metadata": {},
   "source": [
    "## Modeling"
   ]
  },
  {
   "cell_type": "markdown",
   "metadata": {},
   "source": [
    "**8. To build a recommendation system that suggests the top 5 rated movies to a user.**"
   ]
  },
  {
   "cell_type": "code",
   "execution_count": null,
   "metadata": {},
   "outputs": [],
   "source": [
    "#collaborative filtering\n",
    "#-memorybased-knn\n",
    "#model-based-svd-tuning\n",
    "\n",
    "#1. Identify the users/items-user based collaborative filtering/Memory(use the entire dataset)\n",
    "#2. Dealing sparsity\n",
    "#Matrix Factorization using SVD\n",
    "#3. Dealing with coldstart problem-content based filtering\n",
    "#4. Scaling the data-apply pipelines\n",
    "#5. Building the model-KNN,-specify the similarity metric(cosine,pearson,Jaccard)\n",
    "#6.SVD-tune\n",
    "\n",
    "#Data preprocessing\n",
    "#Scaling data\n",
    "#Encoding categorical values\n",
    "#Deal with sparsity i.e Remove users or items with too few interactions.\n",
    "#Apply dimensionality reduction methods or matrix factorization (e.g., SVD)\n",
    "# Address coldstart problem-\n",
    "#Convert the data into a format suitable for the model.\n"
   ]
  },
  {
   "cell_type": "markdown",
   "metadata": {},
   "source": [
    "**Data Preprocessing**"
   ]
  },
  {
   "cell_type": "code",
   "execution_count": 35,
   "metadata": {},
   "outputs": [],
   "source": [
    "#Scaling our data\n",
    "scaler=StandardScaler()\n",
    "\n",
    "#fit scaled ratings\n",
    "rating_df['scaled_rating']=scaler.fit_transform(rating_df[['rating']])"
   ]
  },
  {
   "cell_type": "markdown",
   "metadata": {},
   "source": [
    "We applied StandardScaler to our data to handle outliers in the rating column, as we chose to work with them. This approach is particularly helpful given that the algorithms used in our model, KNN and SVD, are sensitive to outliers.The approach will reduce the effect of outliers to the model."
   ]
  },
  {
   "cell_type": "code",
   "execution_count": 36,
   "metadata": {},
   "outputs": [],
   "source": [
    "#Transforming data to be compatible with surprise library\n",
    "reader = Reader()\n",
    "data = Dataset.load_from_df(rating_df[['userId', 'movieId', 'scaled_rating']],reader)"
   ]
  },
  {
   "cell_type": "code",
   "execution_count": 37,
   "metadata": {},
   "outputs": [
    {
     "name": "stdout",
     "output_type": "stream",
     "text": [
      "Number of users:  610 \n",
      "\n",
      "Number of items:  9724\n"
     ]
    }
   ],
   "source": [
    "#Check for the number of users and items in our dataset\n",
    "dataset = data.build_full_trainset()\n",
    "print('Number of users: ', dataset.n_users, '\\n')\n",
    "print('Number of items: ', dataset.n_items)"
   ]
  },
  {
   "cell_type": "markdown",
   "metadata": {},
   "source": [
    "Our data presents to have fewer users compared to the number of movies, which creates a sparse matrix. The below code will inspect the level of sparsity for our data. Then follow up to apply either collaborative or content-based filtering based on the level of our data sparsity."
   ]
  },
  {
   "cell_type": "code",
   "execution_count": 47,
   "metadata": {},
   "outputs": [
    {
     "name": "stdout",
     "output_type": "stream",
     "text": [
      "Matrix sparsity: 1.70%\n"
     ]
    }
   ],
   "source": [
    "#cheking for level of sparsity for our data\n",
    "def create_X(df):\n",
    "    #Identify the unique users and movies in our data\n",
    "    num_users = df[\"userId\"].nunique()\n",
    "    num_movies = df[\"movieId\"].nunique()\n",
    "    \n",
    "    #Create mappings for user ids and movie ids \n",
    "    user_mapper = {user_id: i for i, user_id in enumerate(df[\"userId\"].unique())}\n",
    "    movie_mapper = {movie_id: i for i, movie_id in enumerate(df[\"movieId\"].unique())}\n",
    "    \n",
    "    #Inverse mappings for users and movies IDs\n",
    "\n",
    "    user_inv_mapper = {v: k for k, v in user_mapper.items()}\n",
    "    movie_inv_mapper = {v: k for k, v in movie_mapper.items()}\n",
    "    \n",
    "    #Map users and Movie IDs to indices\n",
    "\n",
    "    user_idx = df[\"userId\"].map(user_mapper)\n",
    "    movie_idx = df[\"movieId\"].map(movie_mapper)\n",
    "    \n",
    "    #Creates sparse matrix\n",
    "    X = csr_matrix((df[\"rating\"].values, (movie_idx, user_idx)), shape=(num_movies, num_users))\n",
    "    \n",
    "    #Calculating sparsity for our data\n",
    "\n",
    "    sparsity = 1 - (X.nnz / (X.shape[0] * X.shape[1]))\n",
    "\n",
    "    return X, user_mapper, movie_mapper, user_inv_mapper, movie_inv_mapper, sparsity\n",
    "\n",
    "#Display sparsity value for our data\n",
    "X, user_mapper, movie_mapper, user_inv_mapper, movie_inv_mapper, sparsity = create_X(rating_df)\n",
    "sparsity_value = 100 - (sparsity * 100) \n",
    "print(f\"Matrix sparsity: {sparsity_value:.2f}%\")"
   ]
  },
  {
   "cell_type": "markdown",
   "metadata": {},
   "source": [
    "Our sparsity value is above 1 meaning that our data is highly sparsed, which is typical in recommendation systems, as users generally rate only a small subset of movies they’ve watched. Therefore, to address this, we will consider collaborative filtering in building our recommendation system.This is because collaborative filtering leverages patterns in user-item interactions, even when most interactions are missing, by predicting missing ratings based on similarities between users or items."
   ]
  },
  {
   "cell_type": "markdown",
   "metadata": {},
   "source": [
    "**Determining the best model**"
   ]
  },
  {
   "cell_type": "code",
   "execution_count": 42,
   "metadata": {},
   "outputs": [
    {
     "name": "stdout",
     "output_type": "stream",
     "text": [
      "Best RMSE score: {'rmse': 1.4142092897119058, 'mae': 1.1136267581163295}\n",
      "Best parameters: {'rmse': {'n_factors': 15, 'reg_all': 0.1, 'lr_all': 0.002, 'n_epochs': 20}, 'mae': {'n_factors': 15, 'reg_all': 0.05, 'lr_all': 0.01, 'n_epochs': 30}}\n"
     ]
    }
   ],
   "source": [
    "#Performing Gridsearch for SVD Model\n",
    "param_grid = {\n",
    "    'n_factors': [5, 10, 15],        # Number of latent factors\n",
    "    'reg_all': [0.02, 0.05, 0.1],      # Regularization term\n",
    "    'lr_all': [0.002, 0.005, 0.01],    # Learning rate\n",
    "    'n_epochs': [20, 30, 50]           # Number of epochs\n",
    "}\n",
    "\n",
    "# Initialize the GridSearchCV with the SVD algorithm\n",
    "gs = GridSearchCV(SVD, param_grid,cv=5, n_jobs=-1)\n",
    "# Fit the GridSearchCV\n",
    "gs.fit(data)\n",
    "\n",
    "# Get the best parameters and their corresponding score\n",
    "print(\"Best RMSE score:\", gs.best_score)\n",
    "print(\"Best parameters:\", gs.best_params)"
   ]
  },
  {
   "cell_type": "markdown",
   "metadata": {},
   "source": [
    "The gridsearch results presents the best RMSE score to be 1.414 which was achieved with 15 latent factors, a regularization term of 0.1, a learning rate of 0.002, and 20 epochs, while the best MAE score of 1.11 came from 15 latent factors, a regularization term of 0.05, a learning rate of 0.01, and 30 epochs."
   ]
  },
  {
   "cell_type": "code",
   "execution_count": 44,
   "metadata": {},
   "outputs": [
    {
     "name": "stdout",
     "output_type": "stream",
     "text": [
      "('test_rmse', array([1.42202633, 1.41448053, 1.40319021, 1.4266767 , 1.41045975]))\n",
      "('test_mae', array([1.12103227, 1.11398429, 1.10712531, 1.12598497, 1.11097052]))\n",
      "('fit_time', (1.8566372394561768, 1.8534140586853027, 1.840834617614746, 1.7900831699371338, 1.6897900104522705))\n",
      "('test_time', (2.3487489223480225, 2.3278086185455322, 2.3513994216918945, 2.347350597381592, 2.294785976409912))\n",
      "-----------------------\n",
      "1.4153667037116728\n"
     ]
    }
   ],
   "source": [
    "#Cross Validating with KNNBasic\n",
    "knn_basic = KNNBasic(sim_options={'name':'pearson', 'user_based':True})\n",
    "cv_knn_basic = cross_validate(knn_basic, data, n_jobs=-1)\n",
    "for i in cv_knn_basic.items():\n",
    "    print(i)\n",
    "print('-----------------------')\n",
    "print(np.mean(cv_knn_basic['test_rmse']))"
   ]
  },
  {
   "cell_type": "markdown",
   "metadata": {},
   "source": [
    "The test RMSE values range from 1.40 to 1.43, indicating consistent performance, while the test MAE values range from 1.11 to 1.12, reflecting a small margin of error. The model's fit time averages around 1.83 seconds, and the test time is approximately 2.33 seconds, showing relatively quick computation. The overall mean RMSE is 1.415, suggesting stable performance across different folds"
   ]
  },
  {
   "cell_type": "code",
   "execution_count": 45,
   "metadata": {},
   "outputs": [
    {
     "name": "stdout",
     "output_type": "stream",
     "text": [
      "Estimating biases using als...\n",
      "Computing the pearson similarity matrix...\n",
      "Done computing similarity matrix.\n",
      "Estimating biases using als...\n",
      "Computing the pearson similarity matrix...\n",
      "Done computing similarity matrix.\n",
      "Estimating biases using als...\n",
      "Computing the pearson similarity matrix...\n",
      "Done computing similarity matrix.\n",
      "Estimating biases using als...\n",
      "Computing the pearson similarity matrix...\n",
      "Done computing similarity matrix.\n",
      "Estimating biases using als...\n",
      "Computing the pearson similarity matrix...\n",
      "Done computing similarity matrix.\n",
      "('test_rmse', array([1.41173533, 1.41257758, 1.42332523, 1.41664354, 1.41696095]))\n",
      "('test_mae', array([1.11516534, 1.11431538, 1.11918899, 1.11318814, 1.11688968]))\n",
      "('fit_time', (1.3015086650848389, 1.3073387145996094, 1.414597749710083, 1.2291531562805176, 1.2883191108703613))\n",
      "('test_time', (2.1251564025878906, 2.5132839679718018, 2.3295226097106934, 2.1620290279388428, 2.1268370151519775))\n"
     ]
    },
    {
     "data": {
      "text/plain": [
       "1.4162485270735659"
      ]
     },
     "execution_count": 45,
     "metadata": {},
     "output_type": "execute_result"
    }
   ],
   "source": [
    "# cross validating with KNNBaseline\n",
    "knn_baseline = KNNBaseline(sim_options={'name':'pearson', 'user_based':True})\n",
    "cv_knn_baseline = cross_validate(knn_baseline,data)\n",
    "for i in cv_knn_baseline.items():\n",
    "    print(i)\n",
    "\n",
    "np.mean(cv_knn_baseline['test_rmse'])"
   ]
  },
  {
   "cell_type": "markdown",
   "metadata": {},
   "source": [
    "The test RMSE values range from 1.41 to 1.42, indicating consistent performance, while the test MAE values range from 1.11 to 1.12, reflecting minimal prediction error. The model's fit time averages around 1.30 seconds, and the test time is approximately 2.31 seconds, suggesting efficient computation. The overall mean RMSE is 1.416, showing stable and reliable performance across different folds."
   ]
  },
  {
   "cell_type": "markdown",
   "metadata": {},
   "source": [
    "**Overall Interpretation for the models**\n",
    "\n",
    "Comparing the Root Mean Squared Error(RMSE) for the above models, SVD presents to have the least rmse,signaling that it makes the most accurate predictions about users' ratings. RMSE measures the square root of the average squared differences between the predicted and actual ratings, so a lower value indicates that the model's predictions are closer to the true ratings. This suggests that SVD is better at capturing underlying patterns and preferences in the data compared to other models, making it the most suitable choice for building our recommendation system. Additionally, SVD works by breaking down the sparse matrix of user-item interactions into smaller, dense matrices (latent factors) that capture these hidden patterns, helping to predict missing ratings."
   ]
  },
  {
   "cell_type": "markdown",
   "metadata": {},
   "source": [
    "**Making Recommendations using Collaborative filtering**"
   ]
  },
  {
   "cell_type": "code",
   "execution_count": 52,
   "metadata": {},
   "outputs": [
    {
     "data": {
      "text/plain": [
       "Prediction(uid=5, iid=7, r_ui=None, est=1, details={'was_impossible': False})"
      ]
     },
     "execution_count": 52,
     "metadata": {},
     "output_type": "execute_result"
    }
   ],
   "source": [
    "#fit and predicting the model\n",
    "svd = SVD(n_factors= 15, reg_all= 0.1, lr_all= 0.002,n_epochs= 20)\n",
    "svd.fit(dataset)\n",
    "\n",
    "svd.predict(5,7)"
   ]
  },
  {
   "cell_type": "code",
   "execution_count": null,
   "metadata": {},
   "outputs": [],
   "source": [
    "\n",
    "#Checking for cold-start problems(collaborative filtering)"
   ]
  },
  {
   "cell_type": "code",
   "execution_count": null,
   "metadata": {},
   "outputs": [],
   "source": []
  },
  {
   "cell_type": "markdown",
   "metadata": {},
   "source": [
    "## Content-Based Filtering"
   ]
  },
  {
   "cell_type": "code",
   "execution_count": null,
   "metadata": {},
   "outputs": [],
   "source": [
    "from sklearn.feature_extraction.text import TfidfVectorizer\n",
    "from sklearn.metrics.pairwise import cosine_similarity\n",
    "import pandas as pd\n",
    "\n",
    "#Use genres instead of tags\n",
    "# Sample DataFrame: Movie titles and their tags\n",
    "movies_df = pd.DataFrame({\n",
    "    'movieId': [1, 2, 3, 4],\n",
    "    'title': ['Movie A', 'Movie B', 'Movie C', 'Movie D'],\n",
    "    'tags': ['action adventure', 'comedy romance', 'action thriller', 'romance drama']\n",
    "})\n",
    "\n",
    "# Vectorize the tags using TF-IDF (Term Frequency - Inverse Document Frequency)\n",
    "tfidf = TfidfVectorizer(stop_words='english')\n",
    "tfidf_matrix = tfidf.fit_transform(movies_df['tags'])\n",
    "\n",
    "# Calculate the cosine similarity between all movie pairs\n",
    "cosine_sim = cosine_similarity(tfidf_matrix, tfidf_matrix)\n",
    "\n",
    "# Function to recommend movies based on similarity score\n",
    "def recommend_movies(movie_title, cosine_sim=cosine_sim):\n",
    "    # Get the index of the movie that matches the title\n",
    "    idx = movies_df.index[movies_df['title'] == movie_title].tolist()[0]\n",
    "    \n",
    "    # Get pairwise similarity scores for that movie with all other movies\n",
    "    sim_scores = list(enumerate(cosine_sim[idx]))\n",
    "    \n",
    "    # Sort the movies based on similarity score\n",
    "    sim_scores = sorted(sim_scores, key=lambda x: x[1], reverse=True)\n",
    "    \n",
    "    # Get the indices of the top 3 most similar movies\n",
    "    sim_scores = sim_scores[1:4]  # Skip the first movie as it's the same as the input movie\n",
    "    movie_indices = [i[0] for i in sim_scores]\n",
    "    \n",
    "    # Return the top 3 most similar movies\n",
    "    return movies_df['title'].iloc[movie_indices]\n",
    "\n",
    "# Example: Recommend movies similar to 'Movie A'\n",
    "recommended_movies = recommend_movies('Movie A')\n",
    "print(recommended_movies)"
   ]
  },
  {
   "cell_type": "code",
   "execution_count": null,
   "metadata": {},
   "outputs": [],
   "source": [
    "#Importing function for text preprocesing\n",
    "from Functions import preprocess_text\n",
    "\n",
    "# Combine relevant features into a single column\n",
    "merged_df[\"content\"] =merged_df[\"genres\"] + \" \" + merged_df[\"title\"] + \" \" + merged_df[\"Release_year\"].astype(str)\n",
    "\n",
    "#Apply preprocessing to the combined features\n",
    "merged_df[\"content\"] =merged_df[\"content\"].apply(preprocess_text)\n",
    "\n",
    "#Apply tf-idf to assign weights to each word\n",
    "tfidf = TfidfVectorizer(stop_words='english',max_features=1000, min_df=2)  \n",
    "tfidf_matrix = tfidf.fit_transform(merged_df[\"content\"])\n",
    "\n",
    "#Compute similarity score\n",
    "cosine_sim = cosine_similarity(tfidf_matrix, tfidf_matrix)\n",
    "\n",
    "#Get top 5 most similar movies for a given movie index\n",
    "movie_index = 0  \n",
    "similar_movies = list(enumerate(cosine_sim[movie_index]))\n",
    "similar_movies = sorted(similar_movies, key=lambda x: x[1], reverse=True)\n",
    "top_5_movies = similar_movies[1:6]  "
   ]
  },
  {
   "cell_type": "markdown",
   "metadata": {},
   "source": [
    "## Hybrid Filtering Recommendation"
   ]
  },
  {
   "cell_type": "code",
   "execution_count": null,
   "metadata": {},
   "outputs": [],
   "source": [
    "#"
   ]
  },
  {
   "cell_type": "code",
   "execution_count": null,
   "metadata": {},
   "outputs": [],
   "source": []
  },
  {
   "cell_type": "code",
   "execution_count": null,
   "metadata": {},
   "outputs": [],
   "source": []
  },
  {
   "cell_type": "code",
   "execution_count": null,
   "metadata": {},
   "outputs": [],
   "source": []
  },
  {
   "cell_type": "markdown",
   "metadata": {},
   "source": [
    "**Reference**\n",
    "\n",
    "1. Rashevskaya, A. (2024, April 12). All about Netflix artificial intelligence: The truth behind personalized content. Litslink. https://litslink.com/blog/all-about-netflix-artificial-intelligence-the-truth-behind-personalized-content"
   ]
  },
  {
   "cell_type": "code",
   "execution_count": null,
   "metadata": {},
   "outputs": [],
   "source": []
  }
 ],
 "metadata": {
  "kernelspec": {
   "display_name": "Python 3",
   "language": "python",
   "name": "python3"
  },
  "language_info": {
   "codemirror_mode": {
    "name": "ipython",
    "version": 3
   },
   "file_extension": ".py",
   "mimetype": "text/x-python",
   "name": "python",
   "nbconvert_exporter": "python",
   "pygments_lexer": "ipython3",
   "version": "3.8.5"
  }
 },
 "nbformat": 4,
 "nbformat_minor": 4
}
