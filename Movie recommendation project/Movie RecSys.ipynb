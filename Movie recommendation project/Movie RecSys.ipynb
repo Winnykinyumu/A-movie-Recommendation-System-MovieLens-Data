{
 "cells": [
  {
   "cell_type": "markdown",
   "metadata": {},
   "source": [
    "# A movie Recommendation System Using MovieLens Data"
   ]
  },
  {
   "cell_type": "markdown",
   "metadata": {},
   "source": [
    "**Project Overview**\n",
    "\n",
    "This project focuses on analyzing movie ratings from the MovieLens dataset to provide tailored movie recommendations. It combines collaborative filtering and content-based filtering, to identify the top 5 movies most suited to a user's interests. This dual approach enhances the recommendation accuracy by integrating both user-driven insights and movie-specific characteristics, creating a robust, personalized viewing experience."
   ]
  },
  {
   "cell_type": "markdown",
   "metadata": {},
   "source": [
    "**Business Understanding**\n",
    "\n",
    "In today’s digital age, online streaming platforms such as Netflix, Showmax,HBO,provide a vast library of movies across various genres, which users can stream on devices like smartphones, tablets, smart TVs, and computers. These platforms generate vast amounts of data on user interactions, including viewing habits, preferences, and ratings. However, the challenge lies in leveraging this data to enhance user engagement by providing personalized movie recommendations that align with individual tastes. \n",
    "\n",
    "Personalization has a proven impact on engagement; for example, [75% of what people watch on Netflix](https://litslink.com/blog/all-about-netflix-artificial-intelligence-the-truth-behind-personalized-content) comes from its personalized recommendations, highlighting the importance of robust recommendation algorithms in guiding users toward their next favorite show or movie. The goal of this project is to improve user satisfaction and retention by suggesting the top 5 movies a user is likely to enjoy, utilizing a blend of collaborative and content-based filtering."
   ]
  },
  {
   "cell_type": "markdown",
   "metadata": {},
   "source": [
    "**Problem Statement**\n",
    "\n",
    "With the increasing volume of movies available on streaming platforms, users often experience choice overload, making it difficult to discover content that matches their preferences. This reduces user satisfaction and engagement, negatively impacting retention rates for content providers. The challenge is to develop a personalized recommendation system that can accurately predict and suggest movies tailored to individual users' tastes. "
   ]
  },
  {
   "cell_type": "markdown",
   "metadata": {},
   "source": [
    "**Objectives**\n",
    "\n",
    "1. To build a recommendation system that suggests the top 5 rated movies to a user.\n",
    "2. To identify the top 10 most popular genres based on user ratings.\n",
    "3. To examine user-generated tags to identify popular keywords associated with genres and movie themes.\n",
    "4. To identify if there is a relationship between movie genres and ratings."
   ]
  },
  {
   "cell_type": "markdown",
   "metadata": {},
   "source": [
    "**Success Metrics**"
   ]
  },
  {
   "cell_type": "markdown",
   "metadata": {},
   "source": [
    "**Data Understanding**\n",
    "\n",
    "The [dataset](https://grouplens.org/datasets/movielens/latest/) for the analysis is from the GroupLens research lab at the University of Minnesota. It entails 100,000 movie ratings. It entails different csv files\n",
    "\n"
   ]
  },
  {
   "cell_type": "code",
   "execution_count": 1,
   "metadata": {},
   "outputs": [],
   "source": [
    "#Importing the necessary libaries\n",
    "import pandas as pd\n",
    "import numpy as np\n",
    "import matplotlib.pyplot as plt\n",
    "import seaborn as sns\n",
    "from scipy.stats import ttest_ind,mannwhitneyu\n",
    "from sklearn.preprocessing import LabelEncoder\n",
    "import itertools\n",
    "from sklearn.model_selection import train_test_split\n",
    "from sklearn.linear_model import LogisticRegression\n",
    "from sklearn.metrics import roc_curve, auc,classification_report\n",
    "from sklearn.metrics import confusion_matrix, ConfusionMatrixDisplay\n",
    "from imblearn.over_sampling import SMOTE, ADASYN\n",
    "from sklearn.preprocessing import StandardScaler\n",
    "from sklearn.metrics import classification_report\n",
    "from sklearn.utils.class_weight import compute_class_weight\n",
    "from sklearn.tree import DecisionTreeClassifier\n",
    "from sklearn.feature_selection import SelectKBest,mutual_info_classif\n",
    "from sklearn.feature_selection import RFE\n",
    "from sklearn.model_selection import cross_val_score\n",
    "from sklearn.tree import DecisionTreeClassifier\n",
    "from sklearn.model_selection import GridSearchCV"
   ]
  },
  {
   "cell_type": "markdown",
   "metadata": {},
   "source": [
    "## Loading  Data"
   ]
  },
  {
   "cell_type": "code",
   "execution_count": 2,
   "metadata": {},
   "outputs": [],
   "source": [
    "#loading the csv files\n",
    "from Functions import load_data\n",
    "\n",
    "#Defining the csv file paths \n",
    "movie_file_path = \"Data/movies.csv\"\n",
    "rating_file_path= \"Data/ratings.csv\"\n",
    "tags_file_path= \"Data/tags.csv\""
   ]
  },
  {
   "cell_type": "code",
   "execution_count": 3,
   "metadata": {
    "scrolled": false
   },
   "outputs": [
    {
     "name": "stdout",
     "output_type": "stream",
     "text": [
      "displaying the first 5 rows \n",
      "    movieId                               title  \\\n",
      "0        1                    Toy Story (1995)   \n",
      "1        2                      Jumanji (1995)   \n",
      "2        3             Grumpier Old Men (1995)   \n",
      "3        4            Waiting to Exhale (1995)   \n",
      "4        5  Father of the Bride Part II (1995)   \n",
      "\n",
      "                                        genres  \n",
      "0  Adventure|Animation|Children|Comedy|Fantasy  \n",
      "1                   Adventure|Children|Fantasy  \n",
      "2                               Comedy|Romance  \n",
      "3                         Comedy|Drama|Romance  \n",
      "4                                       Comedy   \n",
      "\n",
      "Shape of the dataset:  (9742, 3) \n",
      "\n",
      "Dataset info:\n",
      "\n",
      "<class 'pandas.core.frame.DataFrame'>\n",
      "RangeIndex: 9742 entries, 0 to 9741\n",
      "Data columns (total 3 columns):\n",
      " #   Column   Non-Null Count  Dtype \n",
      "---  ------   --------------  ----- \n",
      " 0   movieId  9742 non-null   int64 \n",
      " 1   title    9742 non-null   object\n",
      " 2   genres   9742 non-null   object\n",
      "dtypes: int64(1), object(2)\n",
      "memory usage: 228.5+ KB\n",
      "\n",
      "\n",
      "Statistical summary:\n",
      "              movieId\n",
      "count    9742.000000\n",
      "mean    42200.353623\n",
      "std     52160.494854\n",
      "min         1.000000\n",
      "25%      3248.250000\n",
      "50%      7300.000000\n",
      "75%     76232.000000\n",
      "max    193609.000000 \n",
      "\n",
      "percentage of nulls \n",
      " movieId    0.0\n",
      "title      0.0\n",
      "genres     0.0\n",
      "dtype: float64\n"
     ]
    }
   ],
   "source": [
    "#Importing functions from the .py file\n",
    "from Functions import explore_data\n",
    "\n",
    "#Loading and inspecting the movie csv file\n",
    "movie_df = pd.read_csv(movie_file_path)  \n",
    "explore_data(movie_df)"
   ]
  },
  {
   "cell_type": "code",
   "execution_count": 4,
   "metadata": {},
   "outputs": [
    {
     "name": "stdout",
     "output_type": "stream",
     "text": [
      "displaying the first 5 rows \n",
      "    userId  movieId  rating  timestamp\n",
      "0       1        1     4.0  964982703\n",
      "1       1        3     4.0  964981247\n",
      "2       1        6     4.0  964982224\n",
      "3       1       47     5.0  964983815\n",
      "4       1       50     5.0  964982931 \n",
      "\n",
      "Shape of the dataset:  (100836, 4) \n",
      "\n",
      "Dataset info:\n",
      "\n",
      "<class 'pandas.core.frame.DataFrame'>\n",
      "RangeIndex: 100836 entries, 0 to 100835\n",
      "Data columns (total 4 columns):\n",
      " #   Column     Non-Null Count   Dtype  \n",
      "---  ------     --------------   -----  \n",
      " 0   userId     100836 non-null  int64  \n",
      " 1   movieId    100836 non-null  int64  \n",
      " 2   rating     100836 non-null  float64\n",
      " 3   timestamp  100836 non-null  int64  \n",
      "dtypes: float64(1), int64(3)\n",
      "memory usage: 3.1 MB\n",
      "\n",
      "\n",
      "Statistical summary:\n",
      "               userId        movieId         rating     timestamp\n",
      "count  100836.000000  100836.000000  100836.000000  1.008360e+05\n",
      "mean      326.127564   19435.295718       3.501557  1.205946e+09\n",
      "std       182.618491   35530.987199       1.042529  2.162610e+08\n",
      "min         1.000000       1.000000       0.500000  8.281246e+08\n",
      "25%       177.000000    1199.000000       3.000000  1.019124e+09\n",
      "50%       325.000000    2991.000000       3.500000  1.186087e+09\n",
      "75%       477.000000    8122.000000       4.000000  1.435994e+09\n",
      "max       610.000000  193609.000000       5.000000  1.537799e+09 \n",
      "\n",
      "percentage of nulls \n",
      " userId       0.0\n",
      "movieId      0.0\n",
      "rating       0.0\n",
      "timestamp    0.0\n",
      "dtype: float64\n"
     ]
    }
   ],
   "source": [
    "#Loading and inspecting the movie ratings csv file\n",
    "rating_df = pd.read_csv(rating_file_path)  \n",
    "explore_data(rating_df)"
   ]
  },
  {
   "cell_type": "code",
   "execution_count": 5,
   "metadata": {},
   "outputs": [
    {
     "name": "stdout",
     "output_type": "stream",
     "text": [
      "displaying the first 5 rows \n",
      "    userId  movieId              tag   timestamp\n",
      "0       2    60756            funny  1445714994\n",
      "1       2    60756  Highly quotable  1445714996\n",
      "2       2    60756     will ferrell  1445714992\n",
      "3       2    89774     Boxing story  1445715207\n",
      "4       2    89774              MMA  1445715200 \n",
      "\n",
      "Shape of the dataset:  (3683, 4) \n",
      "\n",
      "Dataset info:\n",
      "\n",
      "<class 'pandas.core.frame.DataFrame'>\n",
      "RangeIndex: 3683 entries, 0 to 3682\n",
      "Data columns (total 4 columns):\n",
      " #   Column     Non-Null Count  Dtype \n",
      "---  ------     --------------  ----- \n",
      " 0   userId     3683 non-null   int64 \n",
      " 1   movieId    3683 non-null   int64 \n",
      " 2   tag        3683 non-null   object\n",
      " 3   timestamp  3683 non-null   int64 \n",
      "dtypes: int64(3), object(1)\n",
      "memory usage: 115.2+ KB\n",
      "\n",
      "\n",
      "Statistical summary:\n",
      "             userId        movieId     timestamp\n",
      "count  3683.000000    3683.000000  3.683000e+03\n",
      "mean    431.149335   27252.013576  1.320032e+09\n",
      "std     158.472553   43490.558803  1.721025e+08\n",
      "min       2.000000       1.000000  1.137179e+09\n",
      "25%     424.000000    1262.500000  1.137521e+09\n",
      "50%     474.000000    4454.000000  1.269833e+09\n",
      "75%     477.000000   39263.000000  1.498457e+09\n",
      "max     610.000000  193565.000000  1.537099e+09 \n",
      "\n",
      "percentage of nulls \n",
      " userId       0.0\n",
      "movieId      0.0\n",
      "tag          0.0\n",
      "timestamp    0.0\n",
      "dtype: float64\n"
     ]
    }
   ],
   "source": [
    "#Loading and inspecting movie tags csv\n",
    "tags_df = pd.read_csv(tags_file_path)  \n",
    "explore_data(tags_df)"
   ]
  },
  {
   "cell_type": "markdown",
   "metadata": {},
   "source": [
    "## Data Cleaning\n",
    "\n",
    "This section will involve checking the following about the dataset.\n",
    "- Accuracy\n",
    "- Validity\n",
    "- Completeness\n",
    "- Uniformity"
   ]
  },
  {
   "cell_type": "markdown",
   "metadata": {},
   "source": [
    "**1. Accuracy**"
   ]
  },
  {
   "cell_type": "code",
   "execution_count": 6,
   "metadata": {},
   "outputs": [
    {
     "data": {
      "image/png": "[encoded data removed]",
      "text/plain": [
       "<Figure size 576x432 with 1 Axes>"
      ]
     },
     "metadata": {
      "needs_background": "light"
     },
     "output_type": "display_data"
    }
   ],
   "source": [
    "#Checking for outliers in the 'rating' column of the ratings dataset\n",
    "from Functions import visualize_outliers_with_boxplot\n",
    "visualize_outliers_with_boxplot(rating_df, 'rating')\n"
   ]
  },
  {
   "cell_type": "code",
   "execution_count": 7,
   "metadata": {},
   "outputs": [
    {
     "name": "stdout",
     "output_type": "stream",
     "text": [
      "Number of duplicate rows: 0\n",
      "No duplicates found.\n",
      "Number of duplicate rows: 0\n",
      "No duplicates found.\n",
      "Number of duplicate rows: 0\n",
      "No duplicates found.\n"
     ]
    }
   ],
   "source": [
    "#Check for duplicates\n",
    "from Functions import check_and_remove_duplicates\n",
    "# Checking and removing duplicates in movies dataset\n",
    "movie_df = check_and_remove_duplicates(movie_df)\n",
    "\n",
    "# Checking and removing duplicates in ratings dataset\n",
    "rating_df = check_and_remove_duplicates(rating_df)\n",
    "\n",
    "# Checking and removing duplicates in tags dataset\n",
    "tags_df = check_and_remove_duplicates(tags_df)\n"
   ]
  },
  {
   "cell_type": "markdown",
   "metadata": {},
   "source": [
    "After running the check on all three datasets (movies, ratings, and tags), we confirm that no duplicate rows were found in any of the datasets. Therefore, the data is clean in this regard and requires no further action to remove duplicates, ensuring the integrity of the subsequent analysis."
   ]
  },
  {
   "cell_type": "code",
   "execution_count": 8,
   "metadata": {},
   "outputs": [
    {
     "data": {
      "image/png": "[encoded data removed]",
      "text/plain": [
       "<Figure size 576x432 with 1 Axes>"
      ]
     },
     "metadata": {
      "needs_background": "light"
     },
     "output_type": "display_data"
    }
   ],
   "source": [
    "#Checking for outliers in the 'rating' column of the ratings dataset\n",
    "from Functions import visualize_outliers_with_boxplot\n",
    "visualize_outliers_with_boxplot(rating_df, 'rating')"
   ]
  },
  {
   "cell_type": "markdown",
   "metadata": {},
   "source": [
    "The boxplot of the rating column shows that most ratings fall between 3.0 and 4.5, indicating a general preference for higher-rated movies, with a few low outliers reflecting strong dislikes.These outliers are retained because they provide meaningful insights into user behavior, particularly reflecting strong negative opinions about certain movies. Low ratings are critical for understanding user dislikes, which is essential for preventing the recommendation system from suggesting unsuitable movies. By maintaining these outliers, the recommendation system can better capture the diversity of user sentiments, leading to more robust and personalized recommendations that accurately represent the full spectrum of user preferences.\n"
   ]
  },
  {
   "cell_type": "code",
   "execution_count": null,
   "metadata": {},
   "outputs": [],
   "source": []
  },
  {
   "cell_type": "markdown",
   "metadata": {},
   "source": [
    "**2.Validity**"
   ]
  },
  {
   "cell_type": "code",
   "execution_count": 8,
   "metadata": {},
   "outputs": [
    {
     "data": {
      "text/plain": [
       "0         1970-01-01\n",
       "1         1970-01-01\n",
       "2         1970-01-01\n",
       "3         1970-01-01\n",
       "4         1970-01-01\n",
       "             ...    \n",
       "100831    1970-01-01\n",
       "100832    1970-01-01\n",
       "100833    1970-01-01\n",
       "100834    1970-01-01\n",
       "100835    1970-01-01\n",
       "Name: timestamp, Length: 100836, dtype: object"
      ]
     },
     "execution_count": 8,
     "metadata": {},
     "output_type": "execute_result"
    }
   ],
   "source": [
    "#Check for consistency in datatypes\n",
    "#Timestamp into DATE format\n",
    "\n",
    "#Converting the timestamp into date format\n",
    "rating_df['timestamp'] = pd.to_datetime(rating_df['timestamp'])\n",
    "tags_df['timestamp']= pd.to_datetime(tags_df['timestamp'])  \n",
    "\n",
    "\n",
    "#Extracting the date\n",
    "\n",
    "rating_df['timestamp'] = rating_df['timestamp'].dt.date\n",
    "tags_df['timestamp']=tags_df['timestamp'].dt.date\n",
    "tags_df['timestamp']\n",
    "rating_df['timestamp']"
   ]
  },
  {
   "cell_type": "code",
   "execution_count": 9,
   "metadata": {},
   "outputs": [
    {
     "data": {
      "text/plain": [
       "1970-01-01    100836\n",
       "Name: timestamp, dtype: int64"
      ]
     },
     "execution_count": 9,
     "metadata": {},
     "output_type": "execute_result"
    }
   ],
   "source": [
    "#Checking for unique values in the date column for the rating csv\n",
    "rating_df['timestamp'].value_counts()"
   ]
  },
  {
   "cell_type": "code",
   "execution_count": 10,
   "metadata": {},
   "outputs": [
    {
     "data": {
      "text/plain": [
       "1970-01-01    3683\n",
       "Name: timestamp, dtype: int64"
      ]
     },
     "execution_count": 10,
     "metadata": {},
     "output_type": "execute_result"
    }
   ],
   "source": [
    "#Checking for unique values in the date column for the tags csv\n",
    "tags_df['timestamp'].value_counts()"
   ]
  },
  {
   "cell_type": "markdown",
   "metadata": {},
   "source": [
    "Since the timestamp column only indicates the time when users rated a movie and all values fall within the same year (1970), it does not add valuable information to our analysis. Therefore, we will drop it from the dataset to streamline our data and focus on more relevant features."
   ]
  },
  {
   "cell_type": "code",
   "execution_count": 11,
   "metadata": {},
   "outputs": [],
   "source": [
    "#Drop irrelevant columns\n",
    "#Dropping the timestamp column\n",
    "rating_df=rating_df.drop('timestamp',axis=1)\n",
    "tags_df=tags_df.drop('timestamp',axis=1)"
   ]
  },
  {
   "cell_type": "code",
   "execution_count": 12,
   "metadata": {},
   "outputs": [
    {
     "data": {
      "text/plain": [
       "Index(['userId', 'movieId', 'rating'], dtype='object')"
      ]
     },
     "execution_count": 12,
     "metadata": {},
     "output_type": "execute_result"
    }
   ],
   "source": [
    "#Confirm the column names after dropping timestamp\n",
    "rating_df.columns"
   ]
  },
  {
   "cell_type": "code",
   "execution_count": 18,
   "metadata": {},
   "outputs": [
    {
     "data": {
      "text/plain": [
       "Index(['userId', 'movieId', 'tag'], dtype='object')"
      ]
     },
     "execution_count": 18,
     "metadata": {},
     "output_type": "execute_result"
    }
   ],
   "source": [
    "#Confirm the column names after dropping the timestamp column\n",
    "tags_df.columns"
   ]
  },
  {
   "cell_type": "code",
   "execution_count": 13,
   "metadata": {},
   "outputs": [],
   "source": [
    "#Checking for column names\n",
    "\"\"\" The column names are consistent in naming for all files. They are also all in lower case.\"\"\""
   ]
  },
  {
   "cell_type": "markdown",
   "metadata": {},
   "source": [
    "**3.Completeness**"
   ]
  },
  {
   "cell_type": "code",
   "execution_count": 14,
   "metadata": {},
   "outputs": [],
   "source": [
    "#Impute missing values"
   ]
  },
  {
   "cell_type": "code",
   "execution_count": null,
   "metadata": {},
   "outputs": [],
   "source": []
  },
  {
   "cell_type": "markdown",
   "metadata": {},
   "source": [
    "**4. Consistency/Uniformity**"
   ]
  },
  {
   "cell_type": "code",
   "execution_count": 15,
   "metadata": {},
   "outputs": [],
   "source": [
    "#Column names capitalization"
   ]
  },
  {
   "cell_type": "code",
   "execution_count": 16,
   "metadata": {},
   "outputs": [],
   "source": [
    "#Checking if ratings lie within the same range"
   ]
  },
  {
   "cell_type": "code",
   "execution_count": 17,
   "metadata": {},
   "outputs": [],
   "source": [
    "Next, let's create a Movie release date column that shows the year that a particular movie was released."
   ]
  },
  {
   "cell_type": "code",
   "execution_count": 14,
   "metadata": {},
   "outputs": [
    {
     "data": {
      "text/plain": [
       "0       1995\n",
       "1       1995\n",
       "2       1995\n",
       "3       1995\n",
       "4       1995\n",
       "        ... \n",
       "9737    2017\n",
       "9738    2017\n",
       "9739    2017\n",
       "9740    2018\n",
       "9741    1991\n",
       "Name: Release_year, Length: 9742, dtype: int64"
      ]
     },
     "execution_count": 14,
     "metadata": {},
     "output_type": "execute_result"
    }
   ],
   "source": [
    "# Splitting the movie titles from the years\n",
    "movie_df[\"Release_year\"] = movie_df[\"title\"].apply( lambda x: x[-5:-1] if x[-5:-1].isdigit() else \"0000\")\n",
    "movie_df[\"Release_year\"] = movie_df[\"Release_year\"].astype(\"int64\")\n",
    "movie_df[\"Release_year\"]"
   ]
  },
  {
   "cell_type": "code",
   "execution_count": 15,
   "metadata": {},
   "outputs": [
    {
     "data": {
      "text/plain": [
       "array(['Adventure|Animation|Children|Comedy|Fantasy',\n",
       "       'Adventure|Children|Fantasy', 'Comedy|Romance',\n",
       "       'Comedy|Drama|Romance', 'Comedy', 'Action|Crime|Thriller',\n",
       "       'Adventure|Children', 'Action', 'Action|Adventure|Thriller',\n",
       "       'Comedy|Horror', 'Adventure|Animation|Children', 'Drama',\n",
       "       'Action|Adventure|Romance', 'Crime|Drama', 'Drama|Romance',\n",
       "       'Action|Comedy|Crime|Drama|Thriller', 'Comedy|Crime|Thriller',\n",
       "       'Crime|Drama|Horror|Mystery|Thriller', 'Drama|Sci-Fi',\n",
       "       'Children|Drama', 'Adventure|Drama|Fantasy|Mystery|Sci-Fi',\n",
       "       'Mystery|Sci-Fi|Thriller', 'Children|Comedy', 'Drama|War',\n",
       "       'Action|Crime|Drama', 'Action|Adventure|Fantasy',\n",
       "       'Comedy|Drama|Thriller', 'Mystery|Thriller',\n",
       "       'Animation|Children|Drama|Musical|Romance',\n",
       "       'Crime|Mystery|Thriller', 'Adventure|Drama', 'Drama|Thriller',\n",
       "       'Comedy|Crime', 'Action|Sci-Fi|Thriller',\n",
       "       'Action|Comedy|Horror|Thriller', 'Comedy|Drama', 'Documentary',\n",
       "       'Action|Crime|Drama|Thriller', 'Crime|Drama|Romance',\n",
       "       'Action|Adventure|Drama', 'Action|Thriller',\n",
       "       'Drama|Horror|Thriller', 'Comedy|Horror|Romance',\n",
       "       'Adventure|Comedy|Crime|Romance',\n",
       "       'Adventure|Children|Comedy|Musical', 'Action|Drama|War',\n",
       "       'Crime|Drama|Thriller', 'Action|Adventure|Comedy|Crime',\n",
       "       'Drama|Mystery', 'Drama|Mystery|Romance', 'Thriller',\n",
       "       'Adventure|Drama|IMAX', 'Action|Drama|Romance|War', 'Drama|Horror',\n",
       "       'Adventure|Drama|War', 'Comedy|War', 'Crime|Drama|Mystery',\n",
       "       'Action|Adventure|Mystery|Sci-Fi', 'Drama|Thriller|War',\n",
       "       'Action|Romance|Western', 'Crime|Film-Noir|Mystery|Thriller',\n",
       "       'Comedy|Crime|Drama', 'Action|Drama|Romance',\n",
       "       'Adventure|Children|Drama', 'Action|Adventure|Crime|Thriller',\n",
       "       'Action|Crime|Sci-Fi', 'Horror', 'Action|Children',\n",
       "       'Comedy|Horror|Thriller', 'Fantasy|Horror|Mystery',\n",
       "       'Comedy|Fantasy', 'Horror|Sci-Fi',\n",
       "       'Action|Crime|Drama|Mystery|Sci-Fi|Thriller',\n",
       "       'Drama|Musical|Romance', 'Drama|Fantasy',\n",
       "       'Action|Adventure|Sci-Fi', 'Western',\n",
       "       'Adventure|Comedy|Crime|Mystery', 'Adventure|Comedy',\n",
       "       'Action|Comedy|Romance', 'Animation|Children|Comedy|Romance',\n",
       "       'Drama|Musical', 'Children|Comedy|Fantasy', 'Comedy|Sci-Fi',\n",
       "       'Adventure|Children|Comedy|Fantasy|Romance',\n",
       "       'Drama|Fantasy|Romance', 'Drama|Romance|War|Western',\n",
       "       'Drama|Horror|Sci-Fi', 'Action|Crime',\n",
       "       'Action|Drama|Sci-Fi|Thriller', 'Comedy|Crime|Drama|Thriller',\n",
       "       'Action|Thriller|Western', 'Horror|Thriller', 'Animation|Children',\n",
       "       'Children|Drama|Fantasy|Mystery', 'Action|Drama|Thriller',\n",
       "       'Comedy|Drama|Fantasy', 'Film-Noir|Thriller',\n",
       "       'Action|Comedy|Sci-Fi', 'Adventure|Drama|Sci-Fi',\n",
       "       'Action|Crime|Horror', 'Children', 'Drama|Film-Noir|Romance',\n",
       "       'Drama|Mystery|Thriller', 'Action|Crime|Fantasy|Thriller',\n",
       "       'Comedy|Drama|Romance|War', 'Action|Comedy',\n",
       "       'Adventure|Children|Romance',\n",
       "       'Adventure|Animation|Children|Drama|Musical|IMAX',\n",
       "       'Drama|Horror|Mystery|Thriller', 'Action|Comedy|Crime|Fantasy',\n",
       "       'Adventure|Comedy|Western', 'Action|Romance|Thriller',\n",
       "       'Action|Adventure|Comedy|Romance|Thriller',\n",
       "       'Drama|Horror|Romance|Thriller', 'Drama|Romance|War',\n",
       "       'Action|Fantasy', 'Comedy|Thriller',\n",
       "       'Action|Comedy|Crime|Thriller', 'Horror|Sci-Fi|Thriller',\n",
       "       'Drama|Mystery|Romance|Thriller', 'Action|Comedy|Drama',\n",
       "       'Drama|Western', 'Action|Adventure|Crime|Drama|Romance|Thriller',\n",
       "       'Action|Comedy|War', 'Action|Adventure|Sci-Fi|Thriller',\n",
       "       'Action|Adventure|Comedy|Fantasy', 'Comedy|Western',\n",
       "       'Comedy|Mystery', 'Comedy|Drama|Romance|Thriller',\n",
       "       'Action|Children|Romance', 'Action|Drama|Sci-Fi', 'Action|Drama',\n",
       "       'Comedy|Mystery|Romance', 'Action|Drama|Mystery',\n",
       "       'Action|Crime|Drama|Sci-Fi|Thriller', 'Crime|Thriller',\n",
       "       'Comedy|Crime|Horror', 'Action|Adventure|Fantasy|Mystery',\n",
       "       'Comedy|Romance|Thriller',\n",
       "       'Action|Adventure|Children|Comedy|Fantasy|Sci-Fi',\n",
       "       'Action|Mystery|Thriller', 'Animation|Children|Fantasy|Musical',\n",
       "       'Action|Adventure|Comedy|Romance', 'Action|Drama|Western',\n",
       "       'Action|Adventure|Animation|Children|Fantasy',\n",
       "       'Comedy|Drama|Fantasy|Romance|Thriller',\n",
       "       'Adventure|Animation|Children|Comedy|Musical', 'Action|Sci-Fi',\n",
       "       'Adventure|Drama|Western', 'Crime|Horror|Thriller',\n",
       "       'Animation|Children|Drama|Fantasy|Musical',\n",
       "       'Animation|Children|Fantasy|Musical|Romance|IMAX',\n",
       "       'Adventure|Western', 'Action|Comedy|Crime', 'Fantasy|Horror',\n",
       "       'Action|Adventure|Animation|Horror|Sci-Fi', 'Action|Horror|Sci-Fi',\n",
       "       'Crime|Drama|Mystery|Thriller',\n",
       "       'Adventure|Animation|Children|Fantasy|Musical|Romance', 'Romance',\n",
       "       'Action|Crime|Drama|War', 'Action|Adventure|Mystery|Thriller',\n",
       "       'Adventure|Animation|Children|Fantasy|Musical', 'Comedy|Drama|War',\n",
       "       'Adventure|Animation|Children|Comedy|Fantasy|Sci-Fi',\n",
       "       'Adventure|Comedy|Sci-Fi', 'Drama|Mystery|Romance|Sci-Fi|Thriller',\n",
       "       'Action|Adventure|Comedy|War', 'Action|Adventure',\n",
       "       'Drama|Mystery|Western', 'Comedy|Fantasy|Sci-Fi',\n",
       "       'Adventure|Animation|Comedy', 'Drama|Fantasy|Horror|Thriller',\n",
       "       'Action|Adventure|Romance|Thriller', 'Animation|Sci-Fi',\n",
       "       'Animation|Children|Comedy', 'Horror|Mystery',\n",
       "       'Comedy|Fantasy|Romance|Sci-Fi', 'Action|Adventure|Drama|Thriller',\n",
       "       'Comedy|Fantasy|Musical', 'Crime|Drama|Romance|Thriller',\n",
       "       'Crime|Drama|Musical|Thriller', 'Sci-Fi|Thriller',\n",
       "       'Children|Drama|Fantasy', 'Adventure|Animation|Children|Musical',\n",
       "       'Adventure|Drama|Romance|War', 'Comedy|Musical|Romance',\n",
       "       'Musical|Romance', 'Comedy|Musical',\n",
       "       'Action|Adventure|Mystery|Romance|Thriller',\n",
       "       'Comedy|Crime|Mystery|Romance|Thriller', 'Film-Noir|Mystery',\n",
       "       'Comedy|Drama|Musical|Romance', 'Musical',\n",
       "       'Adventure|Children|Fantasy|Musical',\n",
       "       'Drama|Film-Noir|Mystery|Thriller', 'Film-Noir|Romance|Thriller',\n",
       "       'Mystery|Romance|Thriller', 'Crime|Mystery|Romance|Thriller',\n",
       "       'Adventure', 'Crime|Film-Noir|Mystery', 'Drama|Romance|Western',\n",
       "       'Children|Drama|Fantasy|Romance', 'Adventure|Comedy|Romance|War',\n",
       "       'Adventure|Comedy|Crime|Drama|Romance', 'Romance|War',\n",
       "       'Crime|Film-Noir', 'Children|Comedy|Western',\n",
       "       'Children|Comedy|Fantasy|Romance', 'Children|Comedy|Romance',\n",
       "       'Children|Comedy|Drama', 'Children|Comedy|Mystery',\n",
       "       'Animation|Children|Fantasy|Musical|Romance',\n",
       "       'Animation|Children|Musical', 'Children|Comedy|Fantasy|Musical',\n",
       "       'Animation|Children|Drama|Musical', 'Adventure|Children|Musical',\n",
       "       'Animation|Children|Drama', 'Action|Horror|Sci-Fi|Thriller',\n",
       "       'Documentary|Drama',\n",
       "       'Animation|Children|Comedy|Fantasy|Musical|Romance',\n",
       "       'Drama|Romance|Thriller', 'Children|Drama|Sci-Fi',\n",
       "       'Action|Romance', 'Adventure|Comedy|Fantasy',\n",
       "       'Animation|Children|Comedy|Crime',\n",
       "       'Animation|Comedy|Drama|Fantasy', 'Crime|Drama|Film-Noir',\n",
       "       'Documentary|Musical', 'Action|Adventure|Comedy|Fantasy|Romance',\n",
       "       'Fantasy|Sci-Fi', 'Action|Adventure|Horror|Sci-Fi',\n",
       "       'Action|Adventure|Western', 'Crime|Drama|Sci-Fi|Thriller',\n",
       "       'Film-Noir|Mystery|Thriller',\n",
       "       'Action|Adventure|Comedy|Fantasy|Horror',\n",
       "       'Adventure|Drama|Romance', 'Crime|Horror', 'Action|Comedy|Musical',\n",
       "       'Adventure|Animation|Children|Comedy|Sci-Fi',\n",
       "       'Drama|Mystery|Sci-Fi', 'Comedy|Fantasy|Horror',\n",
       "       'Crime|Drama|Film-Noir|Thriller', 'Crime|Film-Noir|Thriller',\n",
       "       'Action|Crime|Romance|Thriller', 'Drama|Sci-Fi|Thriller',\n",
       "       'Action|Adventure|Drama|Western', 'Comedy|Horror|Sci-Fi',\n",
       "       'Comedy|Musical|War', 'Action|Comedy|Fantasy|Horror',\n",
       "       'Action|Adventure|Drama|War',\n",
       "       'Action|Drama|Mystery|Romance|Thriller', 'Comedy|Fantasy|Romance',\n",
       "       'Crime|Thriller|War', 'Comedy|Mystery|Thriller',\n",
       "       'Comedy|Drama|Film-Noir', 'Action|Adventure|Animation|Sci-Fi',\n",
       "       'Action|Western', 'Fantasy|Horror|Romance|Thriller',\n",
       "       'Drama|Fantasy|Horror', 'Horror|Mystery|Thriller',\n",
       "       'Adventure|Children|Comedy', 'Adventure|Sci-Fi',\n",
       "       'Action|Mystery|Sci-Fi', 'Action|Comedy|Western', 'Action|Horror',\n",
       "       'Action|Comedy|Crime|Drama|Sci-Fi',\n",
       "       'Adventure|Animation|Comedy|Crime',\n",
       "       'Comedy|Horror|Mystery|Thriller', 'Action|Romance|War|Western',\n",
       "       'Comedy|Drama|Fantasy|Romance', 'Action|Adventure|Comedy|Thriller',\n",
       "       'Crime', 'Crime|Drama|Fantasy|Film-Noir|Mystery|Romance',\n",
       "       'Action|Comedy|Crime|Drama', 'Action|Romance|Sci-Fi|Thriller',\n",
       "       'Comedy|Drama|Mystery|Romance', 'Action|Adventure|Children',\n",
       "       'Comedy|Crime|Romance', 'Action|Adventure|Comedy',\n",
       "       'Action|Adventure|Comedy|Sci-Fi',\n",
       "       'Action|Adventure|Fantasy|Thriller', 'Children|Fantasy',\n",
       "       'Adventure|Romance', 'Action|Thriller|War',\n",
       "       'Children|Comedy|Romance|Sci-Fi', 'Romance|Thriller',\n",
       "       'Comedy|Drama|Sci-Fi',\n",
       "       'Adventure|Animation|Children|Drama|Musical',\n",
       "       'Action|Adventure|Drama|Sci-Fi', 'Action|Children|Comedy',\n",
       "       'Adventure|Film-Noir|Sci-Fi|Thriller',\n",
       "       'Crime|Drama|Fantasy|Thriller', 'Crime|Romance|Thriller',\n",
       "       'Crime|Drama|Mystery|Romance|Thriller', 'Documentary|IMAX',\n",
       "       'Comedy|Crime|Drama|Mystery|Thriller', 'Comedy|Documentary',\n",
       "       'Adventure|Children|Comedy|Fantasy', 'Crime|Drama|Romance|War',\n",
       "       'Adventure|Comedy|Drama', 'Adventure|Comedy|Romance',\n",
       "       'Adventure|Animation|Children|Comedy|Drama|Musical|Romance',\n",
       "       'Action|Crime|Mystery|Sci-Fi|Thriller',\n",
       "       'Comedy|Crime|Drama|Romance|Thriller',\n",
       "       'Animation|Children|Fantasy|War', 'Comedy|Drama|Musical',\n",
       "       'Adventure|Fantasy|Musical',\n",
       "       'Action|Adventure|Children|Comedy|Fantasy',\n",
       "       'Drama|Mystery|Sci-Fi|Thriller', 'Adventure|Comedy|Sci-Fi|Western',\n",
       "       'Children|Fantasy|Musical', 'Adventure|Animation|Children|Fantasy',\n",
       "       'Children|Sci-Fi', 'Children|Comedy|Sci-Fi',\n",
       "       'Action|Adventure|Children|Comedy', 'Adventure|Children|Sci-Fi',\n",
       "       'Action|Animation|Children|Crime',\n",
       "       'Children|Comedy|Fantasy|Horror',\n",
       "       'Adventure|Children|Comedy|Fantasy|Sci-Fi',\n",
       "       'Action|Crime|Drama|Mystery|Thriller', 'Film-Noir',\n",
       "       'Drama|Fantasy|Mystery', 'Animation|Children|Comedy|Musical',\n",
       "       'Animation|Children|Comedy|Musical|Romance',\n",
       "       'Children|Comedy|Musical', 'Children|Musical',\n",
       "       'Adventure|Comedy|Musical',\n",
       "       'Adventure|Animation|Children|Crime|Drama',\n",
       "       'Children|Drama|Fantasy|Mystery|Thriller',\n",
       "       'Adventure|Children|Fantasy|Western',\n",
       "       'Animation|Children|Comedy|Drama|Fantasy',\n",
       "       'Action|Crime|Mystery|Thriller',\n",
       "       'Adventure|Animation|Children|Drama|Fantasy',\n",
       "       'Adventure|Animation|Children|Drama', 'Adventure|Fantasy',\n",
       "       'Adventure|Animation|Children|Comedy',\n",
       "       'Adventure|Animation|Children|Musical|Western',\n",
       "       'Adventure|Fantasy|Romance', 'Adventure|Drama|Fantasy',\n",
       "       'Action|Comedy|Drama|Horror', 'Action|Horror|Thriller',\n",
       "       'Drama|Film-Noir|Thriller', 'Adventure|Drama|Mystery|Thriller',\n",
       "       'Horror|Mystery|Sci-Fi|Thriller', 'Drama|Fantasy|Thriller',\n",
       "       'Adventure|Drama|Fantasy|Romance', 'Sci-Fi',\n",
       "       'Drama|Fantasy|Mystery|Romance', 'Action|Sci-Fi|War',\n",
       "       'Fantasy|Horror|Thriller', 'Horror|Western',\n",
       "       'Action|Adventure|Fantasy|Horror',\n",
       "       'Adventure|Fantasy|Romance|Sci-Fi|Thriller',\n",
       "       'Comedy|Crime|Mystery', 'Action|Drama|Romance|Sci-Fi',\n",
       "       'Animation|Musical', 'Action|Adventure|Thriller|War',\n",
       "       'Comedy|Crime|Mystery|Thriller',\n",
       "       'Action|Adventure|Children|Fantasy|Mystery|Thriller',\n",
       "       'Action|Adventure|Children|Drama',\n",
       "       'Action|Adventure|Drama|Fantasy|Thriller', 'Horror|Mystery|Sci-Fi',\n",
       "       'Drama|Horror|Sci-Fi|Thriller', 'Action|Comedy|Romance|Thriller',\n",
       "       'Action|War', 'Adventure|Comedy|Thriller',\n",
       "       'Action|Sci-Fi|Thriller|Western', 'Drama|Romance|Sci-Fi|Thriller',\n",
       "       'Drama|Film-Noir',\n",
       "       'Action|Adventure|Comedy|Fantasy|Horror|Thriller',\n",
       "       'Action|Adventure|Crime|Sci-Fi|Thriller',\n",
       "       'Adventure|Drama|Mystery', 'Horror|Romance',\n",
       "       'Comedy|Horror|Musical|Sci-Fi', 'War', 'Comedy|Romance|Sci-Fi',\n",
       "       'Animation|Comedy|Musical', 'Action|Comedy|Sci-Fi|Western',\n",
       "       'Action|Comedy|Fantasy', 'Adventure|Drama|Thriller',\n",
       "       'Action|Adventure|Comedy|Fantasy|Mystery', 'Comedy|Horror|Musical',\n",
       "       'Adventure|Animation|Children|Drama|Sci-Fi',\n",
       "       'Drama|Horror|Mystery', 'Action|Mystery',\n",
       "       'Comedy|Horror|Romance|Thriller', 'Action|Drama|Romance|Thriller',\n",
       "       'Animation|Horror|Mystery|Thriller',\n",
       "       'Adventure|Children|Comedy|Drama', 'Adventure|Sci-Fi|Thriller',\n",
       "       'Adventure|Animation|Comedy|Fantasy|Musical',\n",
       "       'Animation|Children|Fantasy', 'Action|Adventure|Comedy|Drama|War',\n",
       "       'Crime|Drama|Western', 'Comedy|Crime|Drama|Fantasy',\n",
       "       'Drama|Film-Noir|Mystery|Romance', 'Musical|Romance|War',\n",
       "       'Adventure|Comedy|Fantasy|Sci-Fi', 'Drama|Fantasy|Musical',\n",
       "       'Action|Crime|Sci-Fi|Thriller',\n",
       "       'Adventure|Animation|Children|Comedy|Crime|Fantasy|Mystery',\n",
       "       'Action|Adventure|Animation|Drama|Fantasy',\n",
       "       'Adventure|Animation|Children|Fantasy|Sci-Fi',\n",
       "       'Fantasy|Horror|Mystery|Romance',\n",
       "       'Action|Fantasy|Horror|Mystery|Thriller', 'Drama|Romance|Sci-Fi',\n",
       "       'Animation|Children|Musical|IMAX', 'Action|Comedy|Horror',\n",
       "       'Action|Crime|Thriller|Western', 'Fantasy|Horror|Mystery|Thriller',\n",
       "       'Romance|Western', 'Adventure|Crime|Drama|Romance',\n",
       "       'Adventure|Crime|Drama', 'Animation|Comedy',\n",
       "       'Action|Children|Comedy|Fantasy|Sci-Fi', 'Action|Children|Fantasy',\n",
       "       'Action|Adventure|Drama|Thriller|Western',\n",
       "       'Crime|Horror|Mystery|Thriller', 'Action|Adventure|Comedy|Western',\n",
       "       'Action|Drama|Thriller|Western',\n",
       "       'Adventure|Animation|Fantasy|Sci-Fi',\n",
       "       'Comedy|Horror|Sci-Fi|Thriller', 'Adventure|Drama|Romance|Sci-Fi',\n",
       "       'Film-Noir|Horror|Mystery|Thriller',\n",
       "       'Action|Adventure|Animation|Children|Sci-Fi',\n",
       "       'Action|Fantasy|Horror|Sci-Fi|Thriller',\n",
       "       'Action|Comedy|Crime|Romance', 'Adventure|Horror|Sci-Fi',\n",
       "       'Adventure|Animation|Children|Sci-Fi', 'Adventure|Comedy|Crime',\n",
       "       'Action|Drama|War|Western',\n",
       "       'Action|Crime|Mystery|Romance|Thriller', 'Romance|Sci-Fi',\n",
       "       'Fantasy|Romance', 'Action|Adventure|Fantasy|Sci-Fi',\n",
       "       'Adventure|Comedy|Horror', 'Animation|Comedy|Fantasy',\n",
       "       'Action|Adventure|War', 'Action|Crime|Drama|Horror|Thriller',\n",
       "       'Crime|Mystery', 'Adventure|Comedy|Mystery|Romance',\n",
       "       'Adventure|Animation|Children|Comedy|Fantasy|Romance',\n",
       "       'Adventure|War|Western', 'Comedy|Drama|Mystery|Thriller',\n",
       "       'Comedy|Drama|Romance|Western', 'Action|Comedy|Sci-Fi|Thriller',\n",
       "       'Adventure|Documentary|IMAX', 'Animation|Drama|Sci-Fi|IMAX',\n",
       "       'Action|Comedy|Horror|Sci-Fi', 'Comedy|Musical|Sci-Fi',\n",
       "       'Drama|Musical|Mystery', 'Crime|Musical', 'Comedy|Musical|Western',\n",
       "       'Action|Animation|Comedy|Crime|Drama|Romance|Thriller',\n",
       "       'Action|Adventure|Drama|Romance',\n",
       "       'Comedy|Fantasy|Horror|Musical|Thriller', 'Crime|Horror|Mystery',\n",
       "       'Action|Adventure|Drama|Romance|Thriller',\n",
       "       'Action|Comedy|Romance|War', 'Action|Adventure|Comedy|Drama',\n",
       "       'Adventure|Thriller', 'Crime|Drama|Film-Noir|Mystery|Thriller',\n",
       "       'Action|Animation|Sci-Fi', 'Animation|Drama|Fantasy',\n",
       "       'Drama|Fantasy|Mystery|Sci-Fi',\n",
       "       'Drama|Fantasy|Horror|Thriller|War', 'Fantasy|Mystery|Thriller',\n",
       "       'Action|Adventure|Comedy|Drama|Romance|Thriller',\n",
       "       'Mystery|Romance|Sci-Fi|Thriller',\n",
       "       'Adventure|Crime|Drama|Thriller', 'Comedy|Drama|Mystery',\n",
       "       'Animation|Fantasy', 'Drama|Fantasy|Horror|Mystery|Thriller',\n",
       "       'Drama|Fantasy|Mystery|Romance|Thriller',\n",
       "       'Animation|Fantasy|Horror|Sci-Fi', 'Documentary|War',\n",
       "       'Children|Horror|Mystery|Thriller', 'Musical|Western',\n",
       "       'Action|Adventure|Sci-Fi|IMAX',\n",
       "       'Adventure|Animation|Children|Western',\n",
       "       'Adventure|Children|Comedy|Fantasy|Mystery',\n",
       "       'Adventure|Drama|Horror|Mystery|Thriller',\n",
       "       'Comedy|Sci-Fi|Thriller', 'Action|Animation|Children|Comedy',\n",
       "       'Children|Drama|Musical', 'Comedy|Drama|Fantasy|Sci-Fi',\n",
       "       'Action|Adventure|Fantasy|Romance',\n",
       "       'Comedy|Crime|Romance|Thriller', 'Adventure|War',\n",
       "       'Comedy|Crime|Musical|Mystery', 'Adventure|Animation|Fantasy',\n",
       "       'Animation|Comedy|War', 'Action|Adventure|Comedy|Crime|Drama',\n",
       "       'Animation|Drama|War', 'Documentary|Horror',\n",
       "       'Action|Horror|Mystery|Sci-Fi', 'Action|Comedy|Documentary',\n",
       "       'Adventure|Animation|Children|Sci-Fi|IMAX', 'Comedy|Drama|Horror',\n",
       "       'Animation|Children|Drama|Fantasy', 'Comedy|Crime|Drama|Musical',\n",
       "       'Action|Adventure|Animation|Fantasy|Sci-Fi',\n",
       "       'Action|Adventure|Crime|Drama|Thriller',\n",
       "       'Comedy|Crime|Drama|Romance', 'Comedy|Documentary|Musical',\n",
       "       'Action|Animation|Sci-Fi|Thriller',\n",
       "       'Adventure|Children|Comedy|Mystery', 'Mystery|Sci-Fi',\n",
       "       'Adventure|Children|Comedy|Fantasy|Musical',\n",
       "       'Action|Adventure|Animation|Children|Fantasy|Sci-Fi',\n",
       "       'Action|Adventure|Sci-Fi|Thriller|IMAX',\n",
       "       'Action|Drama|Horror|Sci-Fi|Thriller', 'Drama|War|Western',\n",
       "       'Comedy|Crime|Mystery|Romance', 'Comedy|War|Western',\n",
       "       'Action|Adventure|Comedy|Crime|Thriller', 'Action|Fantasy|Sci-Fi',\n",
       "       'Action|Comedy|Thriller', 'Comedy|Crime|Drama|War',\n",
       "       'Adventure|Comedy|Crime|Thriller',\n",
       "       'Action|Adventure|Children|Fantasy',\n",
       "       'Drama|Fantasy|Musical|Romance', 'Animation|Drama|Romance',\n",
       "       'Comedy|Romance|Sci-Fi|Thriller', 'Action|Fantasy|Horror',\n",
       "       'Fantasy|Horror|Sci-Fi|Thriller', 'Comedy|Musical|Romance|Western',\n",
       "       'Drama|Fantasy|Sci-Fi', 'Children|Comedy|Crime|Musical',\n",
       "       'Action|Adventure|Animation|Fantasy', 'Crime|Documentary',\n",
       "       'Adventure|Comedy|Drama|Fantasy|Mystery|Sci-Fi|Thriller',\n",
       "       'Action|Animation|Children|Fantasy', 'Comedy|Mystery|Sci-Fi',\n",
       "       'Adventure|Thriller|Western', 'Comedy|Crime|Drama|Mystery|Romance',\n",
       "       'Action|Crime|Fantasy|Sci-Fi|Thriller', 'Crime|Fantasy|Horror',\n",
       "       'Action|Drama|Horror|Thriller', 'Comedy|Fantasy|Horror|Thriller',\n",
       "       'Action|Drama|Romance|Western',\n",
       "       'Adventure|Animation|Drama|Fantasy|Sci-Fi',\n",
       "       'Animation|Drama|Sci-Fi|War', 'Action|Adventure|Drama|Fantasy',\n",
       "       'Adventure|Drama|Romance|Thriller|War',\n",
       "       'Crime|Drama|Film-Noir|Romance|Thriller',\n",
       "       'Drama|Film-Noir|Mystery',\n",
       "       'Action|Comedy|Crime|Drama|Horror|Thriller',\n",
       "       'Adventure|Documentary', 'Action|Adventure|Children|Comedy|Crime',\n",
       "       'Animation|Comedy|Fantasy|Musical',\n",
       "       'Action|Adventure|Children|Comedy|Mystery', 'Action|Drama|Horror',\n",
       "       'Musical|Romance|Western', 'Action|Drama|Thriller|War',\n",
       "       'Comedy|Crime|Drama|Musical|Mystery|Romance',\n",
       "       'Adventure|Comedy|War', 'Fantasy|Musical|Romance',\n",
       "       'Drama|Thriller|Western', 'Crime|Horror|Sci-Fi',\n",
       "       'Animation|Fantasy|Thriller', 'Children|Comedy|Fantasy|Sci-Fi',\n",
       "       'Mystery', 'Action|Adventure|Animation|Comedy|Crime|Mystery',\n",
       "       'Adventure|Animation|Children|Comedy|Musical|Romance',\n",
       "       'Action|Adventure|Drama|Sci-Fi|Thriller', 'Adventure|Fantasy|IMAX',\n",
       "       'Action|Crime|Horror|Mystery|Thriller', 'Comedy|Fantasy|Thriller',\n",
       "       'Animation|Comedy|Drama|Fantasy|Sci-Fi',\n",
       "       'Comedy|Documentary|Drama', 'Crime|Drama|Film-Noir|Romance',\n",
       "       'Action|Adventure|Drama|Romance|Thriller|Western',\n",
       "       'Crime|Drama|Horror', 'Adventure|Comedy|Fantasy|Musical',\n",
       "       'Adventure|Animation|Drama', 'Comedy|Drama|Fantasy|Mystery',\n",
       "       'Action|Crime|Fantasy', 'Comedy|Drama|Sci-Fi|War',\n",
       "       'Adventure|Fantasy|Sci-Fi',\n",
       "       'Adventure|Drama|Horror|Sci-Fi|Thriller',\n",
       "       'Action|Adventure|Animation|Comedy',\n",
       "       'Action|Adventure|Animation|Children|Comedy',\n",
       "       'Adventure|Animation|Children|Fantasy|IMAX',\n",
       "       'Action|Adventure|Drama|Mystery|Thriller',\n",
       "       'Action|Fantasy|Horror|Thriller', 'Fantasy',\n",
       "       'Crime|Documentary|War', 'Children|Comedy|Musical|Romance',\n",
       "       'Drama|Horror|War', 'Action|Adventure|Comedy|Drama|Romance|War',\n",
       "       'Fantasy|Western', 'Adventure|Comedy|Horror|Romance',\n",
       "       'Action|Adventure|Animation|Children|Comedy|Fantasy',\n",
       "       'Action|Adventure|Children|Crime|Mystery|Thriller',\n",
       "       'Adventure|Children|Fantasy|Sci-Fi',\n",
       "       'Action|Fantasy|Horror|Romance', 'Animation|Fantasy|Mystery',\n",
       "       'Action|Animation|Crime|Drama|Film-Noir|Mystery|Sci-Fi|Thriller',\n",
       "       'Animation|Drama', 'Action|Fantasy|Sci-Fi|Thriller|War',\n",
       "       'Adventure|Animation|Comedy|Fantasy|Romance',\n",
       "       'Drama|Romance|Thriller|War',\n",
       "       'Adventure|Drama|Fantasy|Horror|Sci-Fi',\n",
       "       'Drama|Fantasy|Horror|Mystery|Sci-Fi|Thriller', 'Action|Animation',\n",
       "       'Adventure|Animation|Children|Musical|Romance',\n",
       "       'Action|Documentary|Drama|Thriller',\n",
       "       'Action|Adventure|Comedy|Sci-Fi|Thriller',\n",
       "       'Action|Adventure|Drama|Fantasy|Romance',\n",
       "       'Action|Animation|Drama|Fantasy|Sci-Fi',\n",
       "       'Drama|Fantasy|Romance|Sci-Fi',\n",
       "       'Action|Animation|Crime|Sci-Fi|Thriller',\n",
       "       'Drama|Horror|Mystery|Romance|Thriller',\n",
       "       'Action|Comedy|Crime|Fantasy|Thriller',\n",
       "       'Crime|Drama|Mystery|Thriller|War', 'Comedy|Drama|Romance|Sci-Fi',\n",
       "       'Action|Animation|Horror', 'Comedy|Crime|Horror|Mystery|Thriller',\n",
       "       'Comedy|Fantasy|Mystery|Sci-Fi',\n",
       "       'Comedy|Crime|Drama|Sci-Fi|Thriller',\n",
       "       'Action|Comedy|Horror|Musical', 'Drama|Sci-Fi|War',\n",
       "       'Action|Animation|Drama|Sci-Fi',\n",
       "       'Action|Comedy|Horror|Sci-Fi|Thriller|Western',\n",
       "       'Action|Comedy|Drama|War', 'Drama|Mystery|Romance|War',\n",
       "       'Action|Animation|Drama|Sci-Fi|Thriller',\n",
       "       'Children|Comedy|Crime|Drama|Fantasy', 'Action|Horror|Sci-Fi|War',\n",
       "       'Animation|Drama|Mystery|Sci-Fi|Thriller',\n",
       "       'Action|Drama|Fantasy|Sci-Fi', 'Comedy|Crime|Drama|Horror|Mystery',\n",
       "       'Adventure|Children|Comedy|Fantasy|IMAX', 'Animation|Documentary',\n",
       "       'Drama|Horror|Mystery|Sci-Fi|Thriller',\n",
       "       'Animation|Fantasy|Sci-Fi|War', 'Action|Animation|Fantasy|Sci-Fi',\n",
       "       'Action|Adventure|Crime|Drama',\n",
       "       'Action|Adventure|Comedy|Crime|Romance|Thriller',\n",
       "       'Action|Adventure|Drama|Romance|War',\n",
       "       'Adventure|Animation|Fantasy|Romance',\n",
       "       'Action|Fantasy|Horror|Mystery|Sci-Fi|Thriller',\n",
       "       'Adventure|Comedy|Crime|Drama|Mystery|Thriller',\n",
       "       'Comedy|Crime|Drama|Mystery', 'Comedy|Crime|Musical',\n",
       "       'Adventure|Animation|Children|Comedy|Fantasy|Sci-Fi|IMAX',\n",
       "       'Adventure|Comedy|Documentary', 'Comedy|Crime|Drama|Western',\n",
       "       'Adventure|Drama|War|Western', 'Animation|Fantasy|Sci-Fi|Thriller',\n",
       "       'Action|Crime|Film-Noir|Mystery|Thriller',\n",
       "       'Animation|Comedy|Sci-Fi', 'Animation|Fantasy|Horror',\n",
       "       'Children|Documentary', 'Action|Crime|IMAX',\n",
       "       'Adventure|Animation|Children|Comedy|Fantasy|War',\n",
       "       'Action|Adventure|Horror|Mystery|Sci-Fi|Thriller',\n",
       "       'Action|Crime|Drama|Thriller|War',\n",
       "       'Fantasy|Mystery|Romance|Thriller', 'Crime|Drama|Horror|Thriller',\n",
       "       'Animation|Comedy|Fantasy|Musical|Romance',\n",
       "       'Adventure|Children|Drama|Fantasy',\n",
       "       'Action|Horror|Mystery|Thriller',\n",
       "       'Adventure|Comedy|Fantasy|Horror',\n",
       "       'Action|Adventure|Animation|Children|Comedy|Sci-Fi',\n",
       "       'Adventure|Drama|Horror|Thriller',\n",
       "       'Adventure|Fantasy|Thriller|IMAX', 'Crime|Drama|Thriller|War',\n",
       "       'Action|Adventure|Comedy|Drama|Romance',\n",
       "       'Animation|Drama|Romance|Sci-Fi', 'Fantasy|Mystery|Western',\n",
       "       'Adventure|Comedy|Drama|Fantasy', 'Action|Comedy|Crime|Western',\n",
       "       'Action|Crime|Drama|Horror', 'Action|Fantasy|Sci-Fi|Thriller',\n",
       "       'Action|Drama|Fantasy|Horror|Mystery|Sci-Fi|Thriller',\n",
       "       'Action|Animation|Children|Sci-Fi', 'Action|Sci-Fi|Thriller|IMAX',\n",
       "       'Comedy|Fantasy|Horror|Sci-Fi', 'Action|Crime|Mystery',\n",
       "       'Crime|Drama|Film-Noir|Mystery',\n",
       "       'Action|Animation|Film-Noir|Sci-Fi|Thriller',\n",
       "       'Action|Adventure|Thriller|IMAX',\n",
       "       'Adventure|Comedy|Drama|Fantasy|Romance',\n",
       "       'Children|Comedy|Drama|Musical|Romance',\n",
       "       'Comedy|Documentary|Romance', 'Animation|Children|Fantasy|Mystery',\n",
       "       'Comedy|Fantasy|Mystery', 'Action|Comedy|Fantasy|IMAX',\n",
       "       'Adventure|Animation|Children|Comedy|Fantasy|IMAX',\n",
       "       'Adventure|Animation|Comedy|Fantasy|Romance|Sci-Fi',\n",
       "       'Crime|Drama|Musical', 'Adventure|Comedy|Sci-Fi|Thriller',\n",
       "       'Adventure|Animation|Children|Comedy|IMAX',\n",
       "       'Documentary|Drama|War', 'Crime|Western',\n",
       "       'Action|Adventure|Crime|Drama|Thriller|War',\n",
       "       'Children|Comedy|Drama|Fantasy', 'Drama|Fantasy|Horror|Romance',\n",
       "       'Action|Fantasy|Thriller', 'Action|Comedy|Crime|Mystery',\n",
       "       'Action|Comedy|Drama|Horror|Thriller', 'Action|Fantasy|War|IMAX',\n",
       "       'Comedy|Drama|Horror|Sci-Fi|Thriller',\n",
       "       'Drama|Fantasy|Mystery|Thriller',\n",
       "       'Action|Crime|Horror|Sci-Fi|Thriller',\n",
       "       'Adventure|Drama|Sci-Fi|Thriller',\n",
       "       'Action|Adventure|Animation|Comedy|Fantasy|Mystery|Sci-Fi',\n",
       "       'Crime|Drama|Fantasy|Mystery|Thriller',\n",
       "       'Action|Crime|Horror|Thriller', 'Animation|Mystery|Sci-Fi',\n",
       "       'Adventure|Crime|Thriller',\n",
       "       'Action|Adventure|Crime|Horror|Thriller',\n",
       "       'Adventure|Drama|Fantasy|IMAX', 'Adventure|Comedy|Fantasy|Romance',\n",
       "       'Action|Adventure|Fantasy|War', 'Action|Crime|Drama|Western',\n",
       "       'Action|Adventure|Comedy|Drama|Thriller',\n",
       "       'Action|Adventure|Animation|Crime|Fantasy',\n",
       "       'Action|Adventure|Animation|Fantasy|IMAX',\n",
       "       'Comedy|Drama|Sci-Fi|Thriller',\n",
       "       'Adventure|Animation|Children|Comedy|Fantasy|Musical|Romance',\n",
       "       'Action|Horror|Sci-Fi|Thriller|IMAX',\n",
       "       'Drama|Horror|Musical|Thriller', 'Action|Mystery|Sci-Fi|Thriller',\n",
       "       'Adventure|Animation|Drama|Horror',\n",
       "       'Animation|Comedy|Drama|Romance|Sci-Fi', 'Crime|Sci-Fi',\n",
       "       'Adventure|Children|Drama|Fantasy|IMAX',\n",
       "       'Adventure|Romance|Thriller', 'Crime|Drama|War',\n",
       "       'Action|Crime|Drama|IMAX', 'Documentary|Musical|IMAX',\n",
       "       'Action|Children|Sci-Fi|IMAX',\n",
       "       'Action|Animation|Children|Comedy|IMAX',\n",
       "       'Comedy|Crime|Drama|Horror', 'Action|Comedy|Drama|Thriller',\n",
       "       'Adventure|Animation|Children|Romance|Sci-Fi',\n",
       "       'Action|Adventure|Comedy|Crime|Fantasy',\n",
       "       'Action|Animation|Comedy|Romance|Sci-Fi',\n",
       "       'Children|Comedy|Drama|Mystery',\n",
       "       'Animation|Children|Comedy|Fantasy|Musical',\n",
       "       'Action|Adventure|Horror|Sci-Fi|Thriller',\n",
       "       'Adventure|Children|Comedy|Romance|Sci-Fi',\n",
       "       'Action|Comedy|Fantasy|Horror|Thriller',\n",
       "       'Action|Drama|Mystery|Sci-Fi|Thriller|IMAX',\n",
       "       'Adventure|Fantasy|Thriller', 'Action|Animation|Crime',\n",
       "       'Adventure|Comedy|Drama|Romance',\n",
       "       'Animation|Documentary|Drama|War',\n",
       "       'Action|Comedy|Fantasy|Thriller', 'Action|Animation|Comedy|Horror',\n",
       "       'Action|Crime|Thriller|IMAX', 'Animation|Comedy|Fantasy|Sci-Fi',\n",
       "       'Action|Adventure|Animation|Comedy|Fantasy|Sci-Fi',\n",
       "       'Action|Adventure|Animation|Children|Comedy|IMAX',\n",
       "       'Children|Fantasy|Musical|Romance',\n",
       "       'Drama|Fantasy|Romance|Thriller',\n",
       "       'Adventure|Animation|Comedy|Fantasy', 'Drama|Sci-Fi|Thriller|IMAX',\n",
       "       'Action|Adventure|Animation', 'Action|Animation|Comedy|Sci-Fi',\n",
       "       'Animation', 'Adventure|Comedy|Mystery',\n",
       "       'Comedy|Drama|Musical|Sci-Fi', 'Comedy|Crime|Horror|Thriller',\n",
       "       'Action|Drama|Mystery|Sci-Fi|Thriller', 'Animation|Sci-Fi|IMAX',\n",
       "       'Drama|Fantasy|Sci-Fi|Thriller', 'Action|Comedy|IMAX',\n",
       "       'Adventure|Fantasy|Musical|Romance',\n",
       "       'Action|Animation|Mystery|Sci-Fi',\n",
       "       'Action|Adventure|Animation|Drama',\n",
       "       'Action|Adventure|Comedy|Horror',\n",
       "       'Action|Adventure|Animation|Children|Comedy|Romance',\n",
       "       'Action|Adventure|Animation|Horror',\n",
       "       'Adventure|Fantasy|Mystery|Romance|IMAX',\n",
       "       'Adventure|Children|Fantasy|Sci-Fi|Thriller',\n",
       "       'Comedy|Documentary|Drama|Romance', 'Adventure|Animation|Sci-Fi',\n",
       "       'Animation|Children|Fantasy|IMAX',\n",
       "       'Action|Animation|Comedy|Horror|Thriller',\n",
       "       'Animation|Comedy|Drama',\n",
       "       'Action|Adventure|Drama|Fantasy|Romance|Sci-Fi|Thriller',\n",
       "       'Action|Comedy|Drama|Romance',\n",
       "       'Adventure|Animation|Children|Comedy|Crime',\n",
       "       'Animation|Children|Drama|Fantasy|IMAX',\n",
       "       'Animation|Children|Comedy|Fantasy',\n",
       "       'Drama|Fantasy|Horror|Romance|Thriller',\n",
       "       'Action|Adventure|Animation|Comedy|Thriller',\n",
       "       'Crime|Drama|Fantasy|Horror|Thriller', 'Children|Drama|Romance',\n",
       "       'Horror|Thriller|Western', 'Comedy|Musical|Sci-Fi|Western',\n",
       "       'Action|Adventure|Fantasy|Romance|IMAX',\n",
       "       'Fantasy|Romance|Thriller|IMAX',\n",
       "       'Action|Crime|Drama|Mystery|Sci-Fi|Thriller|IMAX',\n",
       "       'Action|Children|Drama', 'Action|Comedy|Fantasy|Musical|Romance',\n",
       "       'Documentary|Drama|Mystery', 'Adventure|Animation|Fantasy|IMAX',\n",
       "       'Documentary|Mystery',\n",
       "       'Action|Adventure|Comedy|Crime|Drama|Film-Noir|Horror|Mystery|Thriller|Western',\n",
       "       'Horror|IMAX', 'Action|Animation|Children|Comedy|Sci-Fi|IMAX',\n",
       "       'Action|Adventure|Fantasy|IMAX',\n",
       "       'Animation|Children|Comedy|Fantasy|Musical|Romance|IMAX',\n",
       "       'Crime|Romance', 'Adventure|Documentary|Western',\n",
       "       'Action|Comedy|Crime|Fantasy|Thriller|IMAX',\n",
       "       'Action|Fantasy|Western', 'Action|Sci-Fi|Thriller|Western|IMAX',\n",
       "       'Action|Adventure|Animation|Children|Comedy|Western',\n",
       "       'Romance|Sci-Fi|Thriller', 'Adventure|Animation|Comedy|Sci-Fi',\n",
       "       'Action|Adventure|Animation|Children|Comedy|Sci-Fi|IMAX',\n",
       "       'Action|Fantasy|Thriller|IMAX', 'Animation|Children|Comedy|Horror',\n",
       "       'Action|Adventure|Drama|Fantasy|IMAX',\n",
       "       'Action|Crime|Drama|Thriller|IMAX', 'Drama|Mystery|War',\n",
       "       'Action|Adventure|Sci-Fi|Thriller|War',\n",
       "       'Mystery|Sci-Fi|Thriller|IMAX', 'Action|Adventure|Sci-Fi|War|IMAX',\n",
       "       'Action|Adventure|Drama|Fantasy|Mystery|IMAX',\n",
       "       'Horror|Thriller|IMAX', 'Sci-Fi|Thriller|IMAX',\n",
       "       'Action|Drama|Sci-Fi|IMAX', 'Crime|Sci-Fi|Thriller',\n",
       "       'Action|Drama|Mystery|Thriller',\n",
       "       'Adventure|Animation|Comedy|Fantasy|IMAX',\n",
       "       'Action|Animation|Mystery|IMAX', 'Children|Drama|Mystery',\n",
       "       'Action|Drama|Fantasy', 'Animation|Children|Comedy|IMAX',\n",
       "       'Animation|Children|Comedy|Drama', 'Action|Crime|Film-Noir',\n",
       "       'Action|Adventure|Crime|IMAX',\n",
       "       'Action|Adventure|Drama|Thriller|IMAX',\n",
       "       'Action|Adventure|Comedy|Crime|Mystery|Thriller',\n",
       "       'Action|Fantasy|Horror|IMAX', 'Crime|Drama|Fantasy',\n",
       "       'Action|Adventure|Comedy|Sci-Fi|IMAX', 'Action|Adventure|Horror',\n",
       "       'Crime|Thriller|Western', 'Animation|Fantasy|Musical|IMAX',\n",
       "       'Action|Animation|Fantasy', 'Comedy|Horror|IMAX',\n",
       "       'Action|Comedy|Sci-Fi|IMAX', 'Action|Horror|Sci-Fi|IMAX',\n",
       "       'Action|Adventure|Animation|Children',\n",
       "       'Action|Adventure|Animation|Sci-Fi|Thriller',\n",
       "       'Comedy|Drama|Musical|IMAX', 'Children|Musical|Mystery',\n",
       "       'Drama|Fantasy|Musical|Mystery|Sci-Fi',\n",
       "       'Animation|Comedy|Horror|IMAX', 'Drama|Sci-Fi|IMAX',\n",
       "       'Action|Adventure|Comedy|Documentary|Fantasy',\n",
       "       'Action|Adventure|Crime', 'Children|Crime|Drama',\n",
       "       'Adventure|Drama|Fantasy|Romance|IMAX', 'Animation|Comedy|Romance',\n",
       "       'Drama|Musical|Romance|IMAX',\n",
       "       'Adventure|Comedy|Fantasy|Romance|IMAX',\n",
       "       'Animation|Comedy|Horror|Musical', 'Action|Animation|Comedy',\n",
       "       'Children|Horror|Sci-Fi', 'Action|Drama|IMAX',\n",
       "       'Documentary|Fantasy', 'Action|Adventure|Fantasy|Sci-Fi|IMAX',\n",
       "       'Action|Drama|Horror|IMAX', 'Action|Drama|Thriller|IMAX',\n",
       "       'Action|Adventure|Western|IMAX', 'Drama|Fantasy|Thriller|War',\n",
       "       'Action|IMAX', 'Action|Sci-Fi|IMAX',\n",
       "       'Adventure|Comedy|Musical|Sci-Fi', 'Adventure|Drama|Thriller|IMAX',\n",
       "       'Children|Drama|War',\n",
       "       'Adventure|Animation|Comedy|Fantasy|Musical|Romance',\n",
       "       'Action|Animation|Drama', 'Drama|Horror|Romance',\n",
       "       'Action|Animation|Fantasy|IMAX', 'Adventure|Romance|Sci-Fi|IMAX',\n",
       "       'Adventure|Animation|Children|Comedy|Drama|Romance',\n",
       "       'Action|Fantasy|Sci-Fi|IMAX', 'Action|Crime|Sci-Fi|IMAX',\n",
       "       'Animation|Comedy|Drama|Romance', 'Sci-Fi|IMAX',\n",
       "       'Animation|Romance', 'Action|Drama|War|IMAX',\n",
       "       'Action|Animation|Children|Comedy|Musical',\n",
       "       'Action|Adventure|Children|IMAX', 'Action|Animation|Children',\n",
       "       'Animation|Drama|Fantasy|Mystery',\n",
       "       'Action|Animation|Crime|Thriller', 'Documentary|Drama|Musical',\n",
       "       '(no genres listed)', 'Adventure|Animation',\n",
       "       'Adventure|Animation|Romance',\n",
       "       'Animation|Children|Comedy|Musical|Sci-Fi',\n",
       "       'Action|Adventure|Comedy|Drama|Fantasy|Thriller',\n",
       "       'Documentary|Drama|Thriller', 'Adventure|Mystery|Thriller',\n",
       "       'Horror|Romance|Thriller', 'Animation|Children|Mystery',\n",
       "       'Comedy|Drama|Fantasy|Mystery|Romance',\n",
       "       'Crime|Drama|Horror|Mystery', 'Adventure|Romance|Sci-Fi',\n",
       "       'Horror|Sci-Fi|Western', 'Action|Adventure|Children|Comedy|Sci-Fi',\n",
       "       'Action|Adventure|Animation|Comedy|Sci-Fi',\n",
       "       'Horror|Romance|Sci-Fi',\n",
       "       'Action|Adventure|Children|Mystery|Sci-Fi', 'Comedy|Crime|Sci-Fi',\n",
       "       'Action|Comedy|Fantasy|Sci-Fi',\n",
       "       'Adventure|Animation|Children|Comedy|Drama|Fantasy',\n",
       "       'Adventure|Children|Comedy|Sci-Fi',\n",
       "       'Action|Animation|Crime|Sci-Fi', 'Action|Adventure|Romance|Sci-Fi',\n",
       "       'Action|Crime|Drama|Sci-Fi',\n",
       "       'Animation|Children|Comedy|Drama|Romance',\n",
       "       'Action|Fantasy|Mystery', 'Comedy|Horror|Mystery',\n",
       "       'Comedy|Crime|Fantasy', 'Animation|Horror|Mystery',\n",
       "       'Comedy|Romance|Western', 'Adventure|Drama|Fantasy|Sci-Fi',\n",
       "       'Adventure|Children|Drama|Sci-Fi',\n",
       "       'Adventure|Children|Comedy|Drama|Fantasy|Sci-Fi',\n",
       "       'Animation|Fantasy|Horror|Mystery',\n",
       "       'Adventure|Animation|Fantasy|Horror|Sci-Fi',\n",
       "       'Action|Animation|Crime|Drama',\n",
       "       'Action|Adventure|Animation|Drama|Fantasy|Sci-Fi',\n",
       "       'Action|Animation|Mystery', 'Animation|Drama|Sci-Fi',\n",
       "       'Animation|Drama|Fantasy|Romance',\n",
       "       'Action|Adventure|Comedy|Fantasy|Sci-Fi|Thriller',\n",
       "       'Action|Adventure|Fantasy|Horror|Thriller', 'Comedy|Sci-Fi|War',\n",
       "       'Comedy|Mystery|Romance|Thriller', 'Fantasy|Horror|Sci-Fi|Western',\n",
       "       'Animation|Crime|Drama', 'Adventure|Mystery|Sci-Fi|Thriller',\n",
       "       'Action|Comedy|Crime|Horror', 'Action|Adventure|Children|Sci-Fi',\n",
       "       'Action|Adventure|Comedy|Fantasy|Sci-Fi',\n",
       "       'Action|Animation|Comedy|Fantasy'], dtype=object)"
      ]
     },
     "execution_count": 15,
     "metadata": {},
     "output_type": "execute_result"
    }
   ],
   "source": [
    "movie_df[\"genres\"].unique()"
   ]
  },
  {
   "cell_type": "markdown",
   "metadata": {},
   "source": [
    "Most movies seem to be a **combination of multiple genres** hence why there are so so many unique combinations.\n",
    "\n",
    "Let's seperate these combinations into individual genres and get more granular data"
   ]
  },
  {
   "cell_type": "code",
   "execution_count": 16,
   "metadata": {},
   "outputs": [
    {
     "data": {
      "text/html": [
       "<div>\n",
       "<style scoped>\n",
       "    .dataframe tbody tr th:only-of-type {\n",
       "        vertical-align: middle;\n",
       "    }\n",
       "\n",
       "    .dataframe tbody tr th {\n",
       "        vertical-align: top;\n",
       "    }\n",
       "\n",
       "    .dataframe thead th {\n",
       "        text-align: right;\n",
       "    }\n",
       "</style>\n",
       "<table border=\"1\" class=\"dataframe\">\n",
       "  <thead>\n",
       "    <tr style=\"text-align: right;\">\n",
       "      <th></th>\n",
       "      <th>movieId</th>\n",
       "      <th>title</th>\n",
       "      <th>genres</th>\n",
       "      <th>Release_year</th>\n",
       "    </tr>\n",
       "  </thead>\n",
       "  <tbody>\n",
       "    <tr>\n",
       "      <th>0</th>\n",
       "      <td>1</td>\n",
       "      <td>Toy Story (1995)</td>\n",
       "      <td>Adventure</td>\n",
       "      <td>1995</td>\n",
       "    </tr>\n",
       "    <tr>\n",
       "      <th>1</th>\n",
       "      <td>1</td>\n",
       "      <td>Toy Story (1995)</td>\n",
       "      <td>Animation</td>\n",
       "      <td>1995</td>\n",
       "    </tr>\n",
       "    <tr>\n",
       "      <th>2</th>\n",
       "      <td>1</td>\n",
       "      <td>Toy Story (1995)</td>\n",
       "      <td>Children</td>\n",
       "      <td>1995</td>\n",
       "    </tr>\n",
       "    <tr>\n",
       "      <th>3</th>\n",
       "      <td>1</td>\n",
       "      <td>Toy Story (1995)</td>\n",
       "      <td>Comedy</td>\n",
       "      <td>1995</td>\n",
       "    </tr>\n",
       "    <tr>\n",
       "      <th>4</th>\n",
       "      <td>1</td>\n",
       "      <td>Toy Story (1995)</td>\n",
       "      <td>Fantasy</td>\n",
       "      <td>1995</td>\n",
       "    </tr>\n",
       "  </tbody>\n",
       "</table>\n",
       "</div>"
      ],
      "text/plain": [
       "   movieId             title     genres  Release_year\n",
       "0        1  Toy Story (1995)  Adventure          1995\n",
       "1        1  Toy Story (1995)  Animation          1995\n",
       "2        1  Toy Story (1995)   Children          1995\n",
       "3        1  Toy Story (1995)     Comedy          1995\n",
       "4        1  Toy Story (1995)    Fantasy          1995"
      ]
     },
     "execution_count": 16,
     "metadata": {},
     "output_type": "execute_result"
    }
   ],
   "source": [
    "# seperate the combinations into individual genres by removing the \",\" seperators\n",
    "movie_df['genres'] = movie_df['genres'].str.split('|')\n",
    "\n",
    "# create a new Exploded dataframe with the list of genres into individual rows\n",
    "movie_df_exploded = movie_df.explode('genres').reset_index(drop=True)\n",
    "\n",
    "\n",
    "movie_df_exploded.head()"
   ]
  },
  {
   "cell_type": "markdown",
   "metadata": {},
   "source": [
    "The genres column is now made up of lists of individual genres."
   ]
  },
  {
   "cell_type": "markdown",
   "metadata": {},
   "source": [
    "**Reference**\n",
    "\n",
    "1. Rashevskaya, A. (2024, April 12). All about Netflix artificial intelligence: The truth behind personalized content. Litslink. https://litslink.com/blog/all-about-netflix-artificial-intelligence-the-truth-behind-personalized-content"
   ]
  },
  {
   "cell_type": "code",
   "execution_count": null,
   "metadata": {},
   "outputs": [],
   "source": []
  }
 ],
 "metadata": {
  "kernelspec": {
   "display_name": "Python (learn-env)",
   "language": "python",
   "name": "learn-env"
  },
  "language_info": {
   "codemirror_mode": {
    "name": "ipython",
    "version": 3
   },
   "file_extension": ".py",
   "mimetype": "text/x-python",
   "name": "python",
   "nbconvert_exporter": "python",
   "pygments_lexer": "ipython3",
   "version": "3.8.5"
  }
 },
 "nbformat": 4,
 "nbformat_minor": 4
}
